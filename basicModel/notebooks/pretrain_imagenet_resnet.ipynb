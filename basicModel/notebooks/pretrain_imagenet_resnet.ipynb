{
  "nbformat": 4,
  "nbformat_minor": 0,
  "metadata": {
    "colab": {
      "name": "pretrain_imagenet_resnet.ipynb",
      "provenance": [],
      "collapsed_sections": [],
      "toc_visible": true
    },
    "kernelspec": {
      "name": "python3",
      "display_name": "Python 3"
    },
    "accelerator": "GPU"
  },
  "cells": [
    {
      "cell_type": "code",
      "metadata": {
        "id": "9QycpLkeZEoU",
        "colab_type": "code",
        "colab": {}
      },
      "source": [
        "from pydrive.auth import GoogleAuth\n",
        "from pydrive.drive import GoogleDrive\n",
        "from google.colab import auth\n",
        "from oauth2client.client import GoogleCredentials\n",
        "\n",
        "auth.authenticate_user()\n",
        "gauth = GoogleAuth()\n",
        "gauth.credentials = GoogleCredentials.get_application_default()\n",
        "drive = GoogleDrive(gauth)"
      ],
      "execution_count": null,
      "outputs": []
    },
    {
      "cell_type": "code",
      "metadata": {
        "id": "l9-PGCB1TxFj",
        "colab_type": "code",
        "colab": {
          "base_uri": "https://localhost:8080/",
          "height": 72
        },
        "outputId": "c69c33c4-75b6-4f11-fa51-89b20efaff63"
      },
      "source": [
        "# Load pre-trained ResNet 50 on imagenet\n",
        "import tensorflow as tf\n",
        "from tensorflow import keras\n",
        "\n",
        "#IMAGE_SIZE = 255\n",
        "#IMG_SHAPE = (IMAGE_SIZE, IMAGE_SIZE, 3)\n",
        "res_net = tf.keras.applications.ResNet50(weights='imagenet')\n",
        "res_net.trainable = False\n",
        "# res_net.summary()"
      ],
      "execution_count": null,
      "outputs": [
        {
          "output_type": "stream",
          "text": [
            "Downloading data from https://storage.googleapis.com/tensorflow/keras-applications/resnet/resnet50_weights_tf_dim_ordering_tf_kernels.h5\n",
            "102973440/102967424 [==============================] - 1s 0us/step\n"
          ],
          "name": "stdout"
        }
      ]
    },
    {
      "cell_type": "code",
      "metadata": {
        "id": "Io6ykXHDr8Fx",
        "colab_type": "code",
        "colab": {
          "base_uri": "https://localhost:8080/",
          "height": 72
        },
        "outputId": "35b9e76c-72a5-4544-bd61-020ef4806d09"
      },
      "source": [
        "# Load pre-trained ResNet 152 on imagenet\n",
        "import tensorflow as tf\n",
        "from tensorflow import keras\n",
        "\n",
        "IMAGE_SIZE = 255\n",
        "IMG_SHAPE = (IMAGE_SIZE, IMAGE_SIZE, 3)\n",
        "res_net = tf.keras.applications.ResNet152(weights='imagenet')\n",
        "res_net.trainable = False\n",
        "# res_net.summary()"
      ],
      "execution_count": null,
      "outputs": [
        {
          "output_type": "stream",
          "text": [
            "Downloading data from https://storage.googleapis.com/tensorflow/keras-applications/resnet/resnet152_weights_tf_dim_ordering_tf_kernels.h5\n",
            "242900992/242900224 [==============================] - 4s 0us/step\n"
          ],
          "name": "stdout"
        }
      ]
    },
    {
      "cell_type": "code",
      "metadata": {
        "id": "Z9e6lTI5p3VC",
        "colab_type": "code",
        "colab": {}
      },
      "source": [
        "# Removing last layer of resnet and using feature extractions\n",
        "from tensorflow.keras.models import Model\n",
        "from tensorflow.keras.layers import Flatten\n",
        "\n",
        "output = res_net.layers[-2].output\n",
        "pretrained_res_net = Model(res_net.input, outputs=output)\n",
        "\n",
        "# pretrained_res_net.summary()"
      ],
      "execution_count": null,
      "outputs": []
    },
    {
      "cell_type": "code",
      "metadata": {
        "id": "uymMm2ywjM2l",
        "colab_type": "code",
        "colab": {
          "base_uri": "https://localhost:8080/",
          "height": 104
        },
        "outputId": "deca046c-c7be-4abc-b03b-2a9cf17d1ff6"
      },
      "source": [
        "# copy remaining video files to this VM space\n",
        "import numpy as np\n",
        "import glob\n",
        "import os\n",
        "from tqdm import tqdm\n",
        "\n",
        "saved_feature_root = '/content/drive/My Drive/MasterThesis/Datasets/Youtube2Text'\n",
        "npz_files = glob.glob(os.path.join(saved_feature_root, '*.npz'))\n",
        "processed_video_ids = []\n",
        "npz_file_count = 0\n",
        "for npz_file in tqdm(npz_files):\n",
        "  npz_file_count += 1\n",
        "  data = np.load(npz_file)\n",
        "  video_ids = data['arr_1']\n",
        "  processed_video_ids.extend(video_ids)\n",
        "\n",
        "print(len(processed_video_ids))\n",
        "datasetPath = '/content/drive/My Drive/MasterThesis/Datasets/Youtube2Text/Frames'\n",
        "allVideoDirectories = [f.path for f in os.scandir(datasetPath) if f.is_dir()]\n",
        "\n",
        "count_out = 0\n",
        "count_in = 0\n",
        "final_list = []\n",
        "for videoDir in tqdm(allVideoDirectories):\n",
        "  videoId = videoDir.split('/')[-1]\n",
        "  if videoId not in processed_video_ids:\n",
        "    final_list.append(videoDir)\n",
        "\n",
        "print(len(final_list))\n",
        "print(npz_file_count)"
      ],
      "execution_count": null,
      "outputs": [
        {
          "output_type": "stream",
          "text": [
            "100%|██████████| 51/51 [04:59<00:00,  5.88s/it]\n",
            "100%|██████████| 1969/1969 [00:00<00:00, 51027.11it/s]"
          ],
          "name": "stderr"
        },
        {
          "output_type": "stream",
          "text": [
            "1979\n",
            "40\n",
            "51\n"
          ],
          "name": "stdout"
        },
        {
          "output_type": "stream",
          "text": [
            "\n"
          ],
          "name": "stderr"
        }
      ]
    },
    {
      "cell_type": "code",
      "metadata": {
        "id": "C4P5ZmyeuKIb",
        "colab_type": "code",
        "colab": {
          "base_uri": "https://localhost:8080/",
          "height": 1000
        },
        "outputId": "c3d32da0-cf7f-4561-8358-f5bab20dad52"
      },
      "source": [
        "# Keras preprocess image input\n",
        "from keras.preprocessing import image\n",
        "from keras.applications.resnet50 import preprocess_input\n",
        "import numpy as np\n",
        "import os\n",
        "from tqdm import tqdm\n",
        "\n",
        "def preprocessImageWithKeras(imagePath):\n",
        "  img = image.load_img(imagePath, target_size=(224, 224))\n",
        "  x = image.img_to_array(img)\n",
        "  x = np.expand_dims(x, axis=0)\n",
        "  x = preprocess_input(x)\n",
        "  return x\n",
        "\n",
        "def extractFeaturesForFrame(frameImage):\n",
        "  frame_features = pretrained_res_net.predict(frameImage)\n",
        "  frame_features_flatten = frame_features.flatten()\n",
        "  return frame_features_flatten\n",
        "\n",
        "def extractFeaturesForVideo(videoFramesFolderPath):\n",
        "  frameFiles = [f for f in os.listdir(videoFramesFolderPath) if os.path.isfile(os.path.join(videoFramesFolderPath, f))]\n",
        "  videoFeatures = []\n",
        "  for frameFile in frameFiles:\n",
        "    frameFilePath = videoFramesFolderPath + '/' + frameFile\n",
        "    frameOutput = preprocessImageWithKeras(frameFilePath)\n",
        "    frameFeatures = extractFeaturesForFrame(frameOutput)\n",
        "    videoFeatures.append(frameFeatures)\n",
        "  print('video feature extracted')\n",
        "  return np.array(videoFeatures)\n",
        "\n",
        "datasetPath = '/content/drive/My Drive/MasterThesis/Datasets/Youtube2Text/Frames'\n",
        "allVideoDirectories = [f.path for f in os.scandir(datasetPath) if f.is_dir()]\n",
        "pretrainedFeatures = []\n",
        "pretrainedVideos = []\n",
        "\n",
        "count = 0\n",
        "fileCount = npz_file_count + 1\n",
        "for videoDir in tqdm(final_list):\n",
        "  count = count + 1\n",
        "  videoId = videoDir.split('/')[-1]\n",
        "  extractedVideoFeatures = extractFeaturesForVideo(videoDir)\n",
        "  pretrainedFeatures.append(extractedVideoFeatures)\n",
        "  pretrainedVideos.append(videoId)\n",
        "  print(len(pretrainedFeatures))\n",
        "  print('******')\n",
        "  if len(pretrainedFeatures) is 40:\n",
        "    fileCount = fileCount + 1\n",
        "    count = 0\n",
        "    np.savez('/content/drive/My Drive/MasterThesis/Datasets/Youtube2Text/features_resnet50_last_'+str(fileCount), pretrainedFeatures, pretrainedVideos)\n",
        "    pretrainedFeatures = []\n",
        "    pretrainedVideos = []\n",
        "    print('Write to file successfully!')\n",
        "\n",
        "\n",
        "#pretrainedFeatures_np = np.array(pretrainedFeatures)\n",
        "#pretrainedVideos_np = np.array(pretrainedVideos)\n",
        "print(len(pretrainedFeatures))\n",
        "#print(pretrainedFeatures_np[0].shape)\n",
        "np.savez('/content/drive/My Drive/MasterThesis/Datasets/Youtube2Text/features_resnet50_'+str(fileCount), pretrainedFeatures, pretrainedVideos)"
      ],
      "execution_count": null,
      "outputs": [
        {
          "output_type": "stream",
          "text": [
            "\n",
            "\n",
            "\n",
            "\n",
            "  0%|          | 0/40 [00:00<?, ?it/s]\u001b[A\u001b[A\u001b[A\u001b[A\n",
            "\n",
            "\n",
            "\n",
            "  2%|▎         | 1/40 [00:04<02:48,  4.31s/it]\u001b[A\u001b[A\u001b[A\u001b[A"
          ],
          "name": "stderr"
        },
        {
          "output_type": "stream",
          "text": [
            "video feature extracted\n",
            "1\n",
            "******\n"
          ],
          "name": "stdout"
        },
        {
          "output_type": "stream",
          "text": [
            "\n",
            "\n",
            "\n",
            "\n",
            "  5%|▌         | 2/40 [00:14<03:48,  6.01s/it]\u001b[A\u001b[A\u001b[A\u001b[A"
          ],
          "name": "stderr"
        },
        {
          "output_type": "stream",
          "text": [
            "video feature extracted\n",
            "2\n",
            "******\n"
          ],
          "name": "stdout"
        },
        {
          "output_type": "stream",
          "text": [
            "\n",
            "\n",
            "\n",
            "\n",
            "  8%|▊         | 3/40 [00:25<04:35,  7.45s/it]\u001b[A\u001b[A\u001b[A\u001b[A"
          ],
          "name": "stderr"
        },
        {
          "output_type": "stream",
          "text": [
            "video feature extracted\n",
            "3\n",
            "******\n"
          ],
          "name": "stdout"
        },
        {
          "output_type": "stream",
          "text": [
            "\n",
            "\n",
            "\n",
            "\n",
            " 10%|█         | 4/40 [00:30<04:07,  6.89s/it]\u001b[A\u001b[A\u001b[A\u001b[A"
          ],
          "name": "stderr"
        },
        {
          "output_type": "stream",
          "text": [
            "video feature extracted\n",
            "4\n",
            "******\n"
          ],
          "name": "stdout"
        },
        {
          "output_type": "stream",
          "text": [
            "\n",
            "\n",
            "\n",
            "\n",
            " 12%|█▎        | 5/40 [00:38<04:08,  7.10s/it]\u001b[A\u001b[A\u001b[A\u001b[A"
          ],
          "name": "stderr"
        },
        {
          "output_type": "stream",
          "text": [
            "video feature extracted\n",
            "5\n",
            "******\n"
          ],
          "name": "stdout"
        },
        {
          "output_type": "stream",
          "text": [
            "\n",
            "\n",
            "\n",
            "\n",
            " 15%|█▌        | 6/40 [00:41<03:22,  5.95s/it]\u001b[A\u001b[A\u001b[A\u001b[A"
          ],
          "name": "stderr"
        },
        {
          "output_type": "stream",
          "text": [
            "video feature extracted\n",
            "6\n",
            "******\n"
          ],
          "name": "stdout"
        },
        {
          "output_type": "stream",
          "text": [
            "\n",
            "\n",
            "\n",
            "\n",
            " 18%|█▊        | 7/40 [00:50<03:47,  6.88s/it]\u001b[A\u001b[A\u001b[A\u001b[A"
          ],
          "name": "stderr"
        },
        {
          "output_type": "stream",
          "text": [
            "video feature extracted\n",
            "7\n",
            "******\n"
          ],
          "name": "stdout"
        },
        {
          "output_type": "stream",
          "text": [
            "\n",
            "\n",
            "\n",
            "\n",
            " 20%|██        | 8/40 [00:56<03:28,  6.51s/it]\u001b[A\u001b[A\u001b[A\u001b[A"
          ],
          "name": "stderr"
        },
        {
          "output_type": "stream",
          "text": [
            "video feature extracted\n",
            "8\n",
            "******\n"
          ],
          "name": "stdout"
        },
        {
          "output_type": "stream",
          "text": [
            "\n",
            "\n",
            "\n",
            "\n",
            " 22%|██▎       | 9/40 [01:04<03:42,  7.18s/it]\u001b[A\u001b[A\u001b[A\u001b[A"
          ],
          "name": "stderr"
        },
        {
          "output_type": "stream",
          "text": [
            "video feature extracted\n",
            "9\n",
            "******\n"
          ],
          "name": "stdout"
        },
        {
          "output_type": "stream",
          "text": [
            "\n",
            "\n",
            "\n",
            "\n",
            " 25%|██▌       | 10/40 [01:16<04:18,  8.63s/it]\u001b[A\u001b[A\u001b[A\u001b[A"
          ],
          "name": "stderr"
        },
        {
          "output_type": "stream",
          "text": [
            "video feature extracted\n",
            "10\n",
            "******\n"
          ],
          "name": "stdout"
        },
        {
          "output_type": "stream",
          "text": [
            "\n",
            "\n",
            "\n",
            "\n",
            " 28%|██▊       | 11/40 [01:19<03:19,  6.87s/it]\u001b[A\u001b[A\u001b[A\u001b[A"
          ],
          "name": "stderr"
        },
        {
          "output_type": "stream",
          "text": [
            "video feature extracted\n",
            "11\n",
            "******\n"
          ],
          "name": "stdout"
        },
        {
          "output_type": "stream",
          "text": [
            "\n",
            "\n",
            "\n",
            "\n",
            " 30%|███       | 12/40 [01:22<02:39,  5.69s/it]\u001b[A\u001b[A\u001b[A\u001b[A"
          ],
          "name": "stderr"
        },
        {
          "output_type": "stream",
          "text": [
            "video feature extracted\n",
            "12\n",
            "******\n"
          ],
          "name": "stdout"
        },
        {
          "output_type": "stream",
          "text": [
            "\n",
            "\n",
            "\n",
            "\n",
            " 32%|███▎      | 13/40 [01:25<02:13,  4.96s/it]\u001b[A\u001b[A\u001b[A\u001b[A"
          ],
          "name": "stderr"
        },
        {
          "output_type": "stream",
          "text": [
            "video feature extracted\n",
            "13\n",
            "******\n"
          ],
          "name": "stdout"
        },
        {
          "output_type": "stream",
          "text": [
            "\n",
            "\n",
            "\n",
            "\n",
            " 35%|███▌      | 14/40 [01:31<02:12,  5.09s/it]\u001b[A\u001b[A\u001b[A\u001b[A"
          ],
          "name": "stderr"
        },
        {
          "output_type": "stream",
          "text": [
            "video feature extracted\n",
            "14\n",
            "******\n"
          ],
          "name": "stdout"
        },
        {
          "output_type": "stream",
          "text": [
            "\n",
            "\n",
            "\n",
            "\n",
            " 38%|███▊      | 15/40 [01:35<02:01,  4.86s/it]\u001b[A\u001b[A\u001b[A\u001b[A"
          ],
          "name": "stderr"
        },
        {
          "output_type": "stream",
          "text": [
            "video feature extracted\n",
            "15\n",
            "******\n"
          ],
          "name": "stdout"
        },
        {
          "output_type": "stream",
          "text": [
            "\n",
            "\n",
            "\n",
            "\n",
            " 40%|████      | 16/40 [01:44<02:24,  6.03s/it]\u001b[A\u001b[A\u001b[A\u001b[A"
          ],
          "name": "stderr"
        },
        {
          "output_type": "stream",
          "text": [
            "video feature extracted\n",
            "16\n",
            "******\n"
          ],
          "name": "stdout"
        },
        {
          "output_type": "stream",
          "text": [
            "\n",
            "\n",
            "\n",
            "\n",
            " 42%|████▎     | 17/40 [01:53<02:41,  7.02s/it]\u001b[A\u001b[A\u001b[A\u001b[A"
          ],
          "name": "stderr"
        },
        {
          "output_type": "stream",
          "text": [
            "video feature extracted\n",
            "17\n",
            "******\n"
          ],
          "name": "stdout"
        },
        {
          "output_type": "stream",
          "text": [
            "\n",
            "\n",
            "\n",
            "\n",
            " 45%|████▌     | 18/40 [01:59<02:24,  6.55s/it]\u001b[A\u001b[A\u001b[A\u001b[A"
          ],
          "name": "stderr"
        },
        {
          "output_type": "stream",
          "text": [
            "video feature extracted\n",
            "18\n",
            "******\n"
          ],
          "name": "stdout"
        },
        {
          "output_type": "stream",
          "text": [
            "\n",
            "\n",
            "\n",
            "\n",
            " 48%|████▊     | 19/40 [02:07<02:30,  7.17s/it]\u001b[A\u001b[A\u001b[A\u001b[A"
          ],
          "name": "stderr"
        },
        {
          "output_type": "stream",
          "text": [
            "video feature extracted\n",
            "19\n",
            "******\n"
          ],
          "name": "stdout"
        },
        {
          "output_type": "stream",
          "text": [
            "\n",
            "\n",
            "\n",
            "\n",
            " 50%|█████     | 20/40 [02:21<03:01,  9.07s/it]\u001b[A\u001b[A\u001b[A\u001b[A"
          ],
          "name": "stderr"
        },
        {
          "output_type": "stream",
          "text": [
            "video feature extracted\n",
            "20\n",
            "******\n"
          ],
          "name": "stdout"
        },
        {
          "output_type": "stream",
          "text": [
            "\n",
            "\n",
            "\n",
            "\n",
            " 52%|█████▎    | 21/40 [02:28<02:43,  8.60s/it]\u001b[A\u001b[A\u001b[A\u001b[A"
          ],
          "name": "stderr"
        },
        {
          "output_type": "stream",
          "text": [
            "video feature extracted\n",
            "21\n",
            "******\n"
          ],
          "name": "stdout"
        },
        {
          "output_type": "stream",
          "text": [
            "\n",
            "\n",
            "\n",
            "\n",
            " 55%|█████▌    | 22/40 [02:35<02:24,  8.01s/it]\u001b[A\u001b[A\u001b[A\u001b[A"
          ],
          "name": "stderr"
        },
        {
          "output_type": "stream",
          "text": [
            "video feature extracted\n",
            "22\n",
            "******\n"
          ],
          "name": "stdout"
        },
        {
          "output_type": "stream",
          "text": [
            "\n",
            "\n",
            "\n",
            "\n",
            " 57%|█████▊    | 23/40 [02:42<02:09,  7.60s/it]\u001b[A\u001b[A\u001b[A\u001b[A"
          ],
          "name": "stderr"
        },
        {
          "output_type": "stream",
          "text": [
            "video feature extracted\n",
            "23\n",
            "******\n"
          ],
          "name": "stdout"
        },
        {
          "output_type": "stream",
          "text": [
            "\n",
            "\n",
            "\n",
            "\n",
            " 60%|██████    | 24/40 [03:04<03:10, 11.91s/it]\u001b[A\u001b[A\u001b[A\u001b[A"
          ],
          "name": "stderr"
        },
        {
          "output_type": "stream",
          "text": [
            "video feature extracted\n",
            "24\n",
            "******\n"
          ],
          "name": "stdout"
        },
        {
          "output_type": "stream",
          "text": [
            "\n",
            "\n",
            "\n",
            "\n",
            " 62%|██████▎   | 25/40 [03:11<02:39, 10.60s/it]\u001b[A\u001b[A\u001b[A\u001b[A"
          ],
          "name": "stderr"
        },
        {
          "output_type": "stream",
          "text": [
            "video feature extracted\n",
            "25\n",
            "******\n"
          ],
          "name": "stdout"
        },
        {
          "output_type": "stream",
          "text": [
            "\n",
            "\n",
            "\n",
            "\n",
            " 65%|██████▌   | 26/40 [03:17<02:10,  9.33s/it]\u001b[A\u001b[A\u001b[A\u001b[A"
          ],
          "name": "stderr"
        },
        {
          "output_type": "stream",
          "text": [
            "video feature extracted\n",
            "26\n",
            "******\n"
          ],
          "name": "stdout"
        },
        {
          "output_type": "stream",
          "text": [
            "\n",
            "\n",
            "\n",
            "\n",
            " 68%|██████▊   | 27/40 [03:26<01:59,  9.17s/it]\u001b[A\u001b[A\u001b[A\u001b[A"
          ],
          "name": "stderr"
        },
        {
          "output_type": "stream",
          "text": [
            "video feature extracted\n",
            "27\n",
            "******\n"
          ],
          "name": "stdout"
        },
        {
          "output_type": "stream",
          "text": [
            "\n",
            "\n",
            "\n",
            "\n",
            " 70%|███████   | 28/40 [03:35<01:46,  8.89s/it]\u001b[A\u001b[A\u001b[A\u001b[A"
          ],
          "name": "stderr"
        },
        {
          "output_type": "stream",
          "text": [
            "video feature extracted\n",
            "28\n",
            "******\n"
          ],
          "name": "stdout"
        },
        {
          "output_type": "stream",
          "text": [
            "\n",
            "\n",
            "\n",
            "\n",
            " 72%|███████▎  | 29/40 [03:45<01:42,  9.28s/it]\u001b[A\u001b[A\u001b[A\u001b[A"
          ],
          "name": "stderr"
        },
        {
          "output_type": "stream",
          "text": [
            "video feature extracted\n",
            "29\n",
            "******\n"
          ],
          "name": "stdout"
        },
        {
          "output_type": "stream",
          "text": [
            "\n",
            "\n",
            "\n",
            "\n",
            " 75%|███████▌  | 30/40 [03:59<01:48, 10.82s/it]\u001b[A\u001b[A\u001b[A\u001b[A"
          ],
          "name": "stderr"
        },
        {
          "output_type": "stream",
          "text": [
            "video feature extracted\n",
            "30\n",
            "******\n"
          ],
          "name": "stdout"
        },
        {
          "output_type": "stream",
          "text": [
            "\n",
            "\n",
            "\n",
            "\n",
            " 78%|███████▊  | 31/40 [04:13<01:44, 11.63s/it]\u001b[A\u001b[A\u001b[A\u001b[A"
          ],
          "name": "stderr"
        },
        {
          "output_type": "stream",
          "text": [
            "video feature extracted\n",
            "31\n",
            "******\n"
          ],
          "name": "stdout"
        },
        {
          "output_type": "stream",
          "text": [
            "\n",
            "\n",
            "\n",
            "\n",
            " 80%|████████  | 32/40 [04:31<01:49, 13.75s/it]\u001b[A\u001b[A\u001b[A\u001b[A"
          ],
          "name": "stderr"
        },
        {
          "output_type": "stream",
          "text": [
            "video feature extracted\n",
            "32\n",
            "******\n"
          ],
          "name": "stdout"
        },
        {
          "output_type": "stream",
          "text": [
            "\n",
            "\n",
            "\n",
            "\n",
            " 82%|████████▎ | 33/40 [04:45<01:35, 13.60s/it]\u001b[A\u001b[A\u001b[A\u001b[A"
          ],
          "name": "stderr"
        },
        {
          "output_type": "stream",
          "text": [
            "video feature extracted\n",
            "33\n",
            "******\n"
          ],
          "name": "stdout"
        },
        {
          "output_type": "stream",
          "text": [
            "\n",
            "\n",
            "\n",
            "\n",
            " 85%|████████▌ | 34/40 [04:50<01:06, 11.14s/it]\u001b[A\u001b[A\u001b[A\u001b[A"
          ],
          "name": "stderr"
        },
        {
          "output_type": "stream",
          "text": [
            "video feature extracted\n",
            "34\n",
            "******\n"
          ],
          "name": "stdout"
        },
        {
          "output_type": "stream",
          "text": [
            "\n",
            "\n",
            "\n",
            "\n",
            " 88%|████████▊ | 35/40 [04:59<00:52, 10.41s/it]\u001b[A\u001b[A\u001b[A\u001b[A"
          ],
          "name": "stderr"
        },
        {
          "output_type": "stream",
          "text": [
            "video feature extracted\n",
            "35\n",
            "******\n"
          ],
          "name": "stdout"
        },
        {
          "output_type": "stream",
          "text": [
            "\n",
            "\n",
            "\n",
            "\n",
            " 90%|█████████ | 36/40 [05:21<00:55, 13.87s/it]\u001b[A\u001b[A\u001b[A\u001b[A"
          ],
          "name": "stderr"
        },
        {
          "output_type": "stream",
          "text": [
            "video feature extracted\n",
            "36\n",
            "******\n"
          ],
          "name": "stdout"
        },
        {
          "output_type": "stream",
          "text": [
            "\n",
            "\n",
            "\n",
            "\n",
            " 92%|█████████▎| 37/40 [05:40<00:46, 15.62s/it]\u001b[A\u001b[A\u001b[A\u001b[A"
          ],
          "name": "stderr"
        },
        {
          "output_type": "stream",
          "text": [
            "video feature extracted\n",
            "37\n",
            "******\n"
          ],
          "name": "stdout"
        },
        {
          "output_type": "stream",
          "text": [
            "\n",
            "\n",
            "\n",
            "\n",
            " 95%|█████████▌| 38/40 [05:48<00:26, 13.21s/it]\u001b[A\u001b[A\u001b[A\u001b[A"
          ],
          "name": "stderr"
        },
        {
          "output_type": "stream",
          "text": [
            "video feature extracted\n",
            "38\n",
            "******\n"
          ],
          "name": "stdout"
        },
        {
          "output_type": "stream",
          "text": [
            "\n",
            "\n",
            "\n",
            "\n",
            " 98%|█████████▊| 39/40 [05:57<00:12, 12.03s/it]\u001b[A\u001b[A\u001b[A\u001b[A"
          ],
          "name": "stderr"
        },
        {
          "output_type": "stream",
          "text": [
            "video feature extracted\n",
            "39\n",
            "******\n",
            "video feature extracted\n",
            "40\n",
            "******\n"
          ],
          "name": "stdout"
        },
        {
          "output_type": "stream",
          "text": [
            "\n",
            "\n",
            "\n",
            "\n",
            "100%|██████████| 40/40 [06:02<00:00,  9.07s/it]"
          ],
          "name": "stderr"
        },
        {
          "output_type": "stream",
          "text": [
            "Write to file successfully!\n",
            "0\n"
          ],
          "name": "stdout"
        },
        {
          "output_type": "stream",
          "text": [
            "\n"
          ],
          "name": "stderr"
        }
      ]
    },
    {
      "cell_type": "code",
      "metadata": {
        "id": "_nfR-R5plTM4",
        "colab_type": "code",
        "colab": {
          "base_uri": "https://localhost:8080/",
          "height": 235
        },
        "outputId": "c4eb9be5-e29e-4ace-ce92-4f59854c5290"
      },
      "source": [
        "print(len(pretrainedFeatures))\n",
        "print(np.array(pretrainedFeatures).shape)\n",
        "print(pretrainedFeatures[0].shape)\n",
        "# pretrainedFeatures_list = [np.array(f1) for f1 in pretrainedFeatures]\n",
        "# pretrainedFeatures_np = np.array(pretrainedFeatures_list)\n",
        "# print(pretrainedFeatures_np[0].shape)"
      ],
      "execution_count": null,
      "outputs": [
        {
          "output_type": "error",
          "ename": "NameError",
          "evalue": "ignored",
          "traceback": [
            "\u001b[0;31m---------------------------------------------------------------------------\u001b[0m",
            "\u001b[0;31mNameError\u001b[0m                                 Traceback (most recent call last)",
            "\u001b[0;32m<ipython-input-1-4aff15b0a702>\u001b[0m in \u001b[0;36m<module>\u001b[0;34m()\u001b[0m\n\u001b[0;32m----> 1\u001b[0;31m \u001b[0mprint\u001b[0m\u001b[0;34m(\u001b[0m\u001b[0mlen\u001b[0m\u001b[0;34m(\u001b[0m\u001b[0mpretrainedFeatures\u001b[0m\u001b[0;34m)\u001b[0m\u001b[0;34m)\u001b[0m\u001b[0;34m\u001b[0m\u001b[0;34m\u001b[0m\u001b[0m\n\u001b[0m\u001b[1;32m      2\u001b[0m \u001b[0mprint\u001b[0m\u001b[0;34m(\u001b[0m\u001b[0mnp\u001b[0m\u001b[0;34m.\u001b[0m\u001b[0marray\u001b[0m\u001b[0;34m(\u001b[0m\u001b[0mpretrainedFeatures\u001b[0m\u001b[0;34m)\u001b[0m\u001b[0;34m.\u001b[0m\u001b[0mshape\u001b[0m\u001b[0;34m)\u001b[0m\u001b[0;34m\u001b[0m\u001b[0;34m\u001b[0m\u001b[0m\n\u001b[1;32m      3\u001b[0m \u001b[0mprint\u001b[0m\u001b[0;34m(\u001b[0m\u001b[0mpretrainedFeatures\u001b[0m\u001b[0;34m[\u001b[0m\u001b[0;36m0\u001b[0m\u001b[0;34m]\u001b[0m\u001b[0;34m.\u001b[0m\u001b[0mshape\u001b[0m\u001b[0;34m)\u001b[0m\u001b[0;34m\u001b[0m\u001b[0;34m\u001b[0m\u001b[0m\n\u001b[1;32m      4\u001b[0m \u001b[0;31m# pretrainedFeatures_list = [np.array(f1) for f1 in pretrainedFeatures]\u001b[0m\u001b[0;34m\u001b[0m\u001b[0;34m\u001b[0m\u001b[0;34m\u001b[0m\u001b[0m\n\u001b[1;32m      5\u001b[0m \u001b[0;31m# pretrainedFeatures_np = np.array(pretrainedFeatures_list)\u001b[0m\u001b[0;34m\u001b[0m\u001b[0;34m\u001b[0m\u001b[0;34m\u001b[0m\u001b[0m\n",
            "\u001b[0;31mNameError\u001b[0m: name 'pretrainedFeatures' is not defined"
          ]
        }
      ]
    },
    {
      "cell_type": "code",
      "metadata": {
        "id": "Xl8yreKj7-Tr",
        "colab_type": "code",
        "colab": {
          "base_uri": "https://localhost:8080/",
          "height": 35
        },
        "outputId": "1ccdd7a8-a9e1-4c95-a4ce-eb96ffa471ec"
      },
      "source": [
        "import tensorflow as tf\n",
        "tf.test.gpu_device_name()"
      ],
      "execution_count": null,
      "outputs": [
        {
          "output_type": "execute_result",
          "data": {
            "text/plain": [
              "''"
            ]
          },
          "metadata": {
            "tags": []
          },
          "execution_count": 2
        }
      ]
    }
  ]
}