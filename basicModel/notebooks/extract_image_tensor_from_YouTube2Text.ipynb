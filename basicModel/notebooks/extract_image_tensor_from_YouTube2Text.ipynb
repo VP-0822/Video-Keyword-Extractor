{
  "nbformat": 4,
  "nbformat_minor": 0,
  "metadata": {
    "colab": {
      "name": "extract_image_tensor_from_YouTube2Text.ipynb",
      "provenance": [],
      "collapsed_sections": [],
      "toc_visible": true
    },
    "kernelspec": {
      "name": "python3",
      "display_name": "Python 3"
    }
  },
  "cells": [
    {
      "cell_type": "code",
      "metadata": {
        "colab_type": "code",
        "id": "s3nCxeatH69n",
        "colab": {
          "base_uri": "https://localhost:8080/",
          "height": 1000
        },
        "outputId": "deac0be7-0dcd-436f-bcde-c023b4a31882"
      },
      "source": [
        "# Video to frame extractions\n",
        "import cv2\n",
        "import os\n",
        "from os.path import isfile, join\n",
        "from tqdm import tqdm\n",
        "\n",
        "def getVideoId(video_path):\n",
        "  parts = video_path.split('/')\n",
        "  return parts[-1][:-4]\n",
        "\n",
        "def getFilePathForAllVideos(videos_folder_path):\n",
        "  allFiles = [f for f in os.listdir(videos_folder_path) if isfile(join(videos_folder_path, f))]\n",
        "  return allFiles\n",
        "\n",
        "def convertVideoToImageFrames(video_file_path):\n",
        "  video_loc = video_file_path\n",
        "  video_id = getVideoId(video_loc)\n",
        "  video_frames_loc = '/content/drive/My Drive/MasterThesis/Datasets/Youtube2Text/Frames/' + video_id\n",
        "  if os.path.isdir(video_frames_loc):\n",
        "    if len(os.listdir(video_frames_loc)) is not 0:\n",
        "      print('video frame directory has files. skipping video ' + video_id)\n",
        "      return\n",
        "  else:\n",
        "    os.mkdir(video_frames_loc)\n",
        "  vs = cv2.VideoCapture(video_loc)\n",
        "  frames = []\n",
        "  frame_counter = 0\n",
        "  while True:\n",
        "    (frameGrabbed, frame) = vs.read()\n",
        "\n",
        "    # If frame is not grabbed means we have reached end-of-file\n",
        "    if not frameGrabbed:\n",
        "      break\n",
        "\n",
        "    frame = cv2.resize(frame, (224, 224)).astype(\"float32\")\n",
        "    frames.append(frame)\n",
        "\n",
        "    cv2.imwrite(video_frames_loc + '/frame' + str(frame_counter) + '.jpg', frame)\n",
        "    frame_counter += 1\n",
        "  vs.release()\n",
        "  print(\"video '\" + video_id + \"' converted successfully.\")\n",
        "\n",
        "videos_folder_path = '/content/drive/My Drive/MasterThesis/Datasets/Youtube2Text/Videos'\n",
        "video_files = getFilePathForAllVideos(videos_folder_path)\n",
        "len(video_files)\n",
        "for video_filename in tqdm(video_files):\n",
        "  final_video_file_path = videos_folder_path + '/' + video_filename\n",
        "  convertVideoToImageFrames(final_video_file_path)"
      ],
      "execution_count": null,
      "outputs": [
        {
          "output_type": "stream",
          "text": [
            "  0%|          | 1/1970 [00:08<4:23:45,  8.04s/it]"
          ],
          "name": "stderr"
        },
        {
          "output_type": "stream",
          "text": [
            "video frame directory has files. skipping video ZdlG8fjGJlo_78_87\n"
          ],
          "name": "stdout"
        },
        {
          "output_type": "stream",
          "text": [
            "\r  0%|          | 2/1970 [00:09<3:14:41,  5.94s/it]"
          ],
          "name": "stderr"
        },
        {
          "output_type": "stream",
          "text": [
            "video frame directory has files. skipping video zfQOH4UGU_I_1_10\n"
          ],
          "name": "stdout"
        },
        {
          "output_type": "stream",
          "text": [
            "\r  0%|          | 3/1970 [00:10<2:30:11,  4.58s/it]"
          ],
          "name": "stderr"
        },
        {
          "output_type": "stream",
          "text": [
            "video frame directory has files. skipping video ZDoy9S82ETA_5_15\n"
          ],
          "name": "stdout"
        },
        {
          "output_type": "stream",
          "text": [
            "\r  0%|          | 4/1970 [00:11<1:52:20,  3.43s/it]"
          ],
          "name": "stderr"
        },
        {
          "output_type": "stream",
          "text": [
            "video frame directory has files. skipping video zhLcONtNkew_16_21\n"
          ],
          "name": "stdout"
        },
        {
          "output_type": "stream",
          "text": [
            "\r  0%|          | 5/1970 [00:12<1:26:37,  2.64s/it]"
          ],
          "name": "stderr"
        },
        {
          "output_type": "stream",
          "text": [
            "video frame directory has files. skipping video zlS1_zBYluY_15_21\n"
          ],
          "name": "stdout"
        },
        {
          "output_type": "stream",
          "text": [
            "\r  0%|          | 6/1970 [00:13<1:10:54,  2.17s/it]"
          ],
          "name": "stderr"
        },
        {
          "output_type": "stream",
          "text": [
            "video frame directory has files. skipping video bQJQGoJF7_k_109_115\n"
          ],
          "name": "stdout"
        },
        {
          "output_type": "stream",
          "text": [
            "\r  0%|          | 7/1970 [00:13<55:42,  1.70s/it]  "
          ],
          "name": "stderr"
        },
        {
          "output_type": "stream",
          "text": [
            "video frame directory has files. skipping video zkTn5Ef1Oig_70_75\n"
          ],
          "name": "stdout"
        },
        {
          "output_type": "stream",
          "text": [
            "\r  0%|          | 8/1970 [00:14<51:03,  1.56s/it]"
          ],
          "name": "stderr"
        },
        {
          "output_type": "stream",
          "text": [
            "video frame directory has files. skipping video ZN2_czSBSD0_240_250\n"
          ],
          "name": "stdout"
        },
        {
          "output_type": "stream",
          "text": [
            "\r  0%|          | 9/1970 [00:15<40:53,  1.25s/it]"
          ],
          "name": "stderr"
        },
        {
          "output_type": "stream",
          "text": [
            "video frame directory has files. skipping video zkTn5Ef1Oig_71_75\n"
          ],
          "name": "stdout"
        },
        {
          "output_type": "stream",
          "text": [
            "\r  1%|          | 10/1970 [00:16<38:04,  1.17s/it]"
          ],
          "name": "stderr"
        },
        {
          "output_type": "stream",
          "text": [
            "video frame directory has files. skipping video -zOrV-5vh1A_69_76\n"
          ],
          "name": "stdout"
        },
        {
          "output_type": "stream",
          "text": [
            "\r  1%|          | 11/1970 [00:17<37:46,  1.16s/it]"
          ],
          "name": "stderr"
        },
        {
          "output_type": "stream",
          "text": [
            "video frame directory has files. skipping video ZnLgsasu82g_71_81\n"
          ],
          "name": "stdout"
        },
        {
          "output_type": "stream",
          "text": [
            "\r  1%|          | 12/1970 [00:18<32:06,  1.02it/s]"
          ],
          "name": "stderr"
        },
        {
          "output_type": "stream",
          "text": [
            "video frame directory has files. skipping video ZL7P_XmSnEY_205_209\n"
          ],
          "name": "stdout"
        },
        {
          "output_type": "stream",
          "text": [
            "\r  1%|          | 13/1970 [00:19<36:15,  1.11s/it]"
          ],
          "name": "stderr"
        },
        {
          "output_type": "stream",
          "text": [
            "video frame directory has files. skipping video zpgW7m7_LZw_2_15\n"
          ],
          "name": "stdout"
        },
        {
          "output_type": "stream",
          "text": [
            "\r  1%|          | 14/1970 [00:20<30:51,  1.06it/s]"
          ],
          "name": "stderr"
        },
        {
          "output_type": "stream",
          "text": [
            "video frame directory has files. skipping video zSPBC8EO6dY_122_126\n"
          ],
          "name": "stdout"
        },
        {
          "output_type": "stream",
          "text": [
            "\r  1%|          | 15/1970 [00:20<28:35,  1.14it/s]"
          ],
          "name": "stderr"
        },
        {
          "output_type": "stream",
          "text": [
            "video frame directory has files. skipping video bQJQGoJF7_k_120_126\n"
          ],
          "name": "stdout"
        },
        {
          "output_type": "stream",
          "text": [
            "\r  1%|          | 16/1970 [00:21<28:46,  1.13it/s]"
          ],
          "name": "stderr"
        },
        {
          "output_type": "stream",
          "text": [
            "video frame directory has files. skipping video zS50h-a8RTg_3_9\n"
          ],
          "name": "stdout"
        },
        {
          "output_type": "stream",
          "text": [
            "\r  1%|          | 17/1970 [00:22<30:26,  1.07it/s]"
          ],
          "name": "stderr"
        },
        {
          "output_type": "stream",
          "text": [
            "video frame directory has files. skipping video Zqmx-nXhLAg_0_10\n"
          ],
          "name": "stdout"
        },
        {
          "output_type": "stream",
          "text": [
            "\r  1%|          | 18/1970 [00:23<32:17,  1.01it/s]"
          ],
          "name": "stderr"
        },
        {
          "output_type": "stream",
          "text": [
            "video frame directory has files. skipping video zSPBC8EO6dY_132_140\n"
          ],
          "name": "stdout"
        },
        {
          "output_type": "stream",
          "text": [
            "\r  1%|          | 19/1970 [00:25<36:08,  1.11s/it]"
          ],
          "name": "stderr"
        },
        {
          "output_type": "stream",
          "text": [
            "video frame directory has files. skipping video zSPBC8EO6dY_97_110\n"
          ],
          "name": "stdout"
        },
        {
          "output_type": "stream",
          "text": [
            "\r  1%|          | 20/1970 [00:25<31:23,  1.04it/s]"
          ],
          "name": "stderr"
        },
        {
          "output_type": "stream",
          "text": [
            "video frame directory has files. skipping video zr9OeyfLPPY_4_9\n"
          ],
          "name": "stdout"
        },
        {
          "output_type": "stream",
          "text": [
            "\r  1%|          | 21/1970 [00:27<33:47,  1.04s/it]"
          ],
          "name": "stderr"
        },
        {
          "output_type": "stream",
          "text": [
            "video frame directory has files. skipping video zSPBC8EO6dY_64_73\n"
          ],
          "name": "stdout"
        },
        {
          "output_type": "stream",
          "text": [
            "\r  1%|          | 22/1970 [00:28<33:40,  1.04s/it]"
          ],
          "name": "stderr"
        },
        {
          "output_type": "stream",
          "text": [
            "video frame directory has files. skipping video bQJQGoJF7_k_145_153\n"
          ],
          "name": "stdout"
        },
        {
          "output_type": "stream",
          "text": [
            "\r  1%|          | 23/1970 [00:29<31:52,  1.02it/s]"
          ],
          "name": "stderr"
        },
        {
          "output_type": "stream",
          "text": [
            "video frame directory has files. skipping video zulPFoY64wE_26_33\n"
          ],
          "name": "stdout"
        },
        {
          "output_type": "stream",
          "text": [
            "\r  1%|          | 24/1970 [00:30<35:57,  1.11s/it]"
          ],
          "name": "stderr"
        },
        {
          "output_type": "stream",
          "text": [
            "video frame directory has files. skipping video zTn-nNj5Bng_8_19\n"
          ],
          "name": "stdout"
        },
        {
          "output_type": "stream",
          "text": [
            "\r  1%|▏         | 25/1970 [00:31<31:37,  1.02it/s]"
          ],
          "name": "stderr"
        },
        {
          "output_type": "stream",
          "text": [
            "video frame directory has files. skipping video ZvJvNcukZ4w_0_10\n"
          ],
          "name": "stdout"
        },
        {
          "output_type": "stream",
          "text": [
            "\r  1%|▏         | 26/1970 [00:31<30:23,  1.07it/s]"
          ],
          "name": "stderr"
        },
        {
          "output_type": "stream",
          "text": [
            "video frame directory has files. skipping video zxB4dFJhHR8_1_9\n"
          ],
          "name": "stdout"
        },
        {
          "output_type": "stream",
          "text": [
            "\r  1%|▏         | 27/1970 [00:32<26:43,  1.21it/s]"
          ],
          "name": "stderr"
        },
        {
          "output_type": "stream",
          "text": [
            "video frame directory has files. skipping video zv2RIbUsnSw_159_162\n"
          ],
          "name": "stdout"
        },
        {
          "output_type": "stream",
          "text": [
            "\r  1%|▏         | 28/1970 [00:33<32:50,  1.01s/it]"
          ],
          "name": "stderr"
        },
        {
          "output_type": "stream",
          "text": [
            "video frame directory has files. skipping video ZYaxg5NZW_g_21_27\n"
          ],
          "name": "stdout"
        },
        {
          "output_type": "stream",
          "text": [
            "\r  1%|▏         | 29/1970 [00:34<32:31,  1.01s/it]"
          ],
          "name": "stderr"
        },
        {
          "output_type": "stream",
          "text": [
            "video frame directory has files. skipping video _1vy2HIN60A_32_40\n"
          ],
          "name": "stdout"
        },
        {
          "output_type": "stream",
          "text": [
            "\r  2%|▏         | 30/1970 [00:35<31:13,  1.04it/s]"
          ],
          "name": "stderr"
        },
        {
          "output_type": "stream",
          "text": [
            "video frame directory has files. skipping video -_hbPLsZvvo_5_8\n"
          ],
          "name": "stdout"
        },
        {
          "output_type": "stream",
          "text": [
            "\r  2%|▏         | 31/1970 [00:36<31:55,  1.01it/s]"
          ],
          "name": "stderr"
        },
        {
          "output_type": "stream",
          "text": [
            "video frame directory has files. skipping video bQJQGoJF7_k_162_169\n"
          ],
          "name": "stdout"
        },
        {
          "output_type": "stream",
          "text": [
            "\r  2%|▏         | 32/1970 [00:37<32:43,  1.01s/it]"
          ],
          "name": "stderr"
        },
        {
          "output_type": "stream",
          "text": [
            "video frame directory has files. skipping video _9iG5Ge01PM_3_11\n"
          ],
          "name": "stdout"
        },
        {
          "output_type": "stream",
          "text": [
            "\r  2%|▏         | 33/1970 [00:38<32:45,  1.01s/it]"
          ],
          "name": "stderr"
        },
        {
          "output_type": "stream",
          "text": [
            "video frame directory has files. skipping video _7nP9z6T9m8_11_17\n"
          ],
          "name": "stdout"
        },
        {
          "output_type": "stream",
          "text": [
            "\r  2%|▏         | 34/1970 [00:39<32:52,  1.02s/it]"
          ],
          "name": "stderr"
        },
        {
          "output_type": "stream",
          "text": [
            "video frame directory has files. skipping video ZxqkAGNyo8A_12_22\n"
          ],
          "name": "stdout"
        },
        {
          "output_type": "stream",
          "text": [
            "\r  2%|▏         | 35/1970 [00:40<32:27,  1.01s/it]"
          ],
          "name": "stderr"
        },
        {
          "output_type": "stream",
          "text": [
            "video frame directory has files. skipping video -_aaMGK6GGw_57_61\n"
          ],
          "name": "stdout"
        },
        {
          "output_type": "stream",
          "text": [
            "\r  2%|▏         | 36/1970 [00:43<43:34,  1.35s/it]"
          ],
          "name": "stderr"
        },
        {
          "output_type": "stream",
          "text": [
            "video frame directory has files. skipping video BR4yQFZK9YM_101_110\n"
          ],
          "name": "stdout"
        },
        {
          "output_type": "stream",
          "text": [
            "\r  2%|▏         | 37/1970 [00:45<54:34,  1.69s/it]"
          ],
          "name": "stderr"
        },
        {
          "output_type": "stream",
          "text": [
            "video frame directory has files. skipping video btxCxlO1Euc_1_20\n"
          ],
          "name": "stdout"
        },
        {
          "output_type": "stream",
          "text": [
            "\r  2%|▏         | 38/1970 [00:47<52:47,  1.64s/it]"
          ],
          "name": "stderr"
        },
        {
          "output_type": "stream",
          "text": [
            "video frame directory has files. skipping video BVy9SQI5R68_0_7\n"
          ],
          "name": "stdout"
        },
        {
          "output_type": "stream",
          "text": [
            "\r  2%|▏         | 39/1970 [00:49<1:03:08,  1.96s/it]"
          ],
          "name": "stderr"
        },
        {
          "output_type": "stream",
          "text": [
            "video frame directory has files. skipping video bxDlC7YV5is_0_12\n"
          ],
          "name": "stdout"
        },
        {
          "output_type": "stream",
          "text": [
            "\r  2%|▏         | 40/1970 [00:51<1:01:56,  1.93s/it]"
          ],
          "name": "stderr"
        },
        {
          "output_type": "stream",
          "text": [
            "video frame directory has files. skipping video c_-eFL7Sfw4_19_35\n"
          ],
          "name": "stdout"
        },
        {
          "output_type": "stream",
          "text": [
            "\r  2%|▏         | 41/1970 [00:52<51:31,  1.60s/it]  "
          ],
          "name": "stderr"
        },
        {
          "output_type": "stream",
          "text": [
            "video frame directory has files. skipping video c2MwqFYVE7A_40_45\n"
          ],
          "name": "stdout"
        },
        {
          "output_type": "stream",
          "text": [
            "\r  2%|▏         | 42/1970 [00:54<54:49,  1.71s/it]"
          ],
          "name": "stderr"
        },
        {
          "output_type": "stream",
          "text": [
            "video frame directory has files. skipping video C12BRGGcd5E_101_117\n"
          ],
          "name": "stdout"
        },
        {
          "output_type": "stream",
          "text": [
            "\r  2%|▏         | 43/1970 [00:57<1:07:16,  2.09s/it]"
          ],
          "name": "stderr"
        },
        {
          "output_type": "stream",
          "text": [
            "video frame directory has files. skipping video c51L6ZxZGjQ_137_154\n"
          ],
          "name": "stdout"
        },
        {
          "output_type": "stream",
          "text": [
            "\r  2%|▏         | 44/1970 [00:58<55:30,  1.73s/it]  "
          ],
          "name": "stderr"
        },
        {
          "output_type": "stream",
          "text": [
            "video frame directory has files. skipping video CcvJs77L-e8_15_22\n"
          ],
          "name": "stdout"
        },
        {
          "output_type": "stream",
          "text": [
            "\r  2%|▏         | 45/1970 [00:59<50:43,  1.58s/it]"
          ],
          "name": "stderr"
        },
        {
          "output_type": "stream",
          "text": [
            "video frame directory has files. skipping video ceOXCFUmxzA_100_110\n"
          ],
          "name": "stdout"
        },
        {
          "output_type": "stream",
          "text": [
            "\r  2%|▏         | 46/1970 [01:02<59:40,  1.86s/it]"
          ],
          "name": "stderr"
        },
        {
          "output_type": "stream",
          "text": [
            "video frame directory has files. skipping video CgWYN5e9K10_30_62\n"
          ],
          "name": "stdout"
        },
        {
          "output_type": "stream",
          "text": [
            "\r  2%|▏         | 47/1970 [01:03<51:49,  1.62s/it]"
          ],
          "name": "stderr"
        },
        {
          "output_type": "stream",
          "text": [
            "video frame directory has files. skipping video CquJjlNuotg_147_155\n"
          ],
          "name": "stdout"
        },
        {
          "output_type": "stream",
          "text": [
            "\r  2%|▏         | 48/1970 [01:03<43:44,  1.37s/it]"
          ],
          "name": "stderr"
        },
        {
          "output_type": "stream",
          "text": [
            "video frame directory has files. skipping video cUW_bXll6YM_390_395\n"
          ],
          "name": "stdout"
        },
        {
          "output_type": "stream",
          "text": [
            "\r  2%|▏         | 49/1970 [01:04<39:35,  1.24s/it]"
          ],
          "name": "stderr"
        },
        {
          "output_type": "stream",
          "text": [
            "video frame directory has files. skipping video cUW_bXll6YM_462_469\n"
          ],
          "name": "stdout"
        },
        {
          "output_type": "stream",
          "text": [
            "\r  3%|▎         | 50/1970 [01:07<55:57,  1.75s/it]"
          ],
          "name": "stderr"
        },
        {
          "output_type": "stream",
          "text": [
            "video frame directory has files. skipping video -Cv5LsqKUXc_17_25\n"
          ],
          "name": "stdout"
        },
        {
          "output_type": "stream",
          "text": [
            "\r  3%|▎         | 51/1970 [01:08<48:13,  1.51s/it]"
          ],
          "name": "stderr"
        },
        {
          "output_type": "stream",
          "text": [
            "video frame directory has files. skipping video cWOPC2kt_IA_8_16\n"
          ],
          "name": "stdout"
        },
        {
          "output_type": "stream",
          "text": [
            "\r  3%|▎         | 52/1970 [01:09<42:00,  1.31s/it]"
          ],
          "name": "stderr"
        },
        {
          "output_type": "stream",
          "text": [
            "video frame directory has files. skipping video D1tTBncIsm8_198_205\n"
          ],
          "name": "stdout"
        },
        {
          "output_type": "stream",
          "text": [
            "\r  3%|▎         | 53/1970 [01:10<36:15,  1.13s/it]"
          ],
          "name": "stderr"
        },
        {
          "output_type": "stream",
          "text": [
            "video frame directory has files. skipping video D1tTBncIsm8_248_254\n"
          ],
          "name": "stdout"
        },
        {
          "output_type": "stream",
          "text": [
            "\r  3%|▎         | 54/1970 [01:11<33:10,  1.04s/it]"
          ],
          "name": "stderr"
        },
        {
          "output_type": "stream",
          "text": [
            "video frame directory has files. skipping video D1tTBncIsm8_681_688\n"
          ],
          "name": "stdout"
        },
        {
          "output_type": "stream",
          "text": [
            "\r  3%|▎         | 55/1970 [01:12<39:36,  1.24s/it]"
          ],
          "name": "stderr"
        },
        {
          "output_type": "stream",
          "text": [
            "video frame directory has files. skipping video D1tTBncIsm8_725_740\n"
          ],
          "name": "stdout"
        },
        {
          "output_type": "stream",
          "text": [
            "\r  3%|▎         | 56/1970 [01:13<36:31,  1.14s/it]"
          ],
          "name": "stderr"
        },
        {
          "output_type": "stream",
          "text": [
            "video frame directory has files. skipping video D1tTBncIsm8_841_848\n"
          ],
          "name": "stdout"
        },
        {
          "output_type": "stream",
          "text": [
            "\r  3%|▎         | 57/1970 [01:18<1:11:53,  2.25s/it]"
          ],
          "name": "stderr"
        },
        {
          "output_type": "stream",
          "text": [
            "video frame directory has files. skipping video d1zdJO3CqVw_1_35\n"
          ],
          "name": "stdout"
        },
        {
          "output_type": "stream",
          "text": [
            "\r  3%|▎         | 58/1970 [01:26<2:07:43,  4.01s/it]"
          ],
          "name": "stderr"
        },
        {
          "output_type": "stream",
          "text": [
            "video frame directory has files. skipping video D2FbgK_kkE8_121_151\n"
          ],
          "name": "stdout"
        },
        {
          "output_type": "stream",
          "text": [
            "\r  3%|▎         | 59/1970 [01:28<1:48:24,  3.40s/it]"
          ],
          "name": "stderr"
        },
        {
          "output_type": "stream",
          "text": [
            "video frame directory has files. skipping video d4AGWnHJcaY_6_19\n"
          ],
          "name": "stdout"
        },
        {
          "output_type": "stream",
          "text": [
            "\r  3%|▎         | 60/1970 [01:30<1:34:55,  2.98s/it]"
          ],
          "name": "stderr"
        },
        {
          "output_type": "stream",
          "text": [
            "video frame directory has files. skipping video dJEoDaA6VXc_1_19\n"
          ],
          "name": "stdout"
        },
        {
          "output_type": "stream",
          "text": [
            "\r  3%|▎         | 61/1970 [01:33<1:37:24,  3.06s/it]"
          ],
          "name": "stderr"
        },
        {
          "output_type": "stream",
          "text": [
            "video frame directory has files. skipping video DJWmm_Q9WvY_1_25\n"
          ],
          "name": "stdout"
        },
        {
          "output_type": "stream",
          "text": [
            "\r  3%|▎         | 62/1970 [01:35<1:22:58,  2.61s/it]"
          ],
          "name": "stderr"
        },
        {
          "output_type": "stream",
          "text": [
            "video frame directory has files. skipping video DlOhXqKcLXk_7_14\n"
          ],
          "name": "stdout"
        },
        {
          "output_type": "stream",
          "text": [
            "\r  3%|▎         | 63/1970 [01:37<1:21:09,  2.55s/it]"
          ],
          "name": "stderr"
        },
        {
          "output_type": "stream",
          "text": [
            "video frame directory has files. skipping video DN7jwyL1Xgg_1_19\n"
          ],
          "name": "stdout"
        },
        {
          "output_type": "stream",
          "text": [
            "\r  3%|▎         | 64/1970 [01:39<1:07:16,  2.12s/it]"
          ],
          "name": "stderr"
        },
        {
          "output_type": "stream",
          "text": [
            "video frame directory has files. skipping video dP15zlyra3c_0_10\n"
          ],
          "name": "stdout"
        },
        {
          "output_type": "stream",
          "text": [
            "\r  3%|▎         | 65/1970 [01:39<55:11,  1.74s/it]  "
          ],
          "name": "stderr"
        },
        {
          "output_type": "stream",
          "text": [
            "video frame directory has files. skipping video E4k0Aylzdyo_97_104\n"
          ],
          "name": "stdout"
        },
        {
          "output_type": "stream",
          "text": [
            "\r  3%|▎         | 66/1970 [01:42<1:05:14,  2.06s/it]"
          ],
          "name": "stderr"
        },
        {
          "output_type": "stream",
          "text": [
            "video frame directory has files. skipping video e996zZ0uV_A_152_163\n"
          ],
          "name": "stdout"
        },
        {
          "output_type": "stream",
          "text": [
            "\r  3%|▎         | 67/1970 [01:45<1:07:41,  2.13s/it]"
          ],
          "name": "stderr"
        },
        {
          "output_type": "stream",
          "text": [
            "video frame directory has files. skipping video e996zZ0uV_A_196_204\n"
          ],
          "name": "stdout"
        },
        {
          "output_type": "stream",
          "text": [
            "\r  3%|▎         | 68/1970 [01:50<1:38:24,  3.10s/it]"
          ],
          "name": "stderr"
        },
        {
          "output_type": "stream",
          "text": [
            "video frame directory has files. skipping video EA-J-Y6QjUo_40_61\n"
          ],
          "name": "stdout"
        },
        {
          "output_type": "stream",
          "text": [
            "\r  4%|▎         | 69/1970 [01:53<1:34:36,  2.99s/it]"
          ],
          "name": "stderr"
        },
        {
          "output_type": "stream",
          "text": [
            "video frame directory has files. skipping video Eamd2wMKixs_48_72\n"
          ],
          "name": "stdout"
        },
        {
          "output_type": "stream",
          "text": [
            "\r  4%|▎         | 70/1970 [01:54<1:18:31,  2.48s/it]"
          ],
          "name": "stderr"
        },
        {
          "output_type": "stream",
          "text": [
            "video frame directory has files. skipping video EiylMb_mWk4_2_20\n"
          ],
          "name": "stdout"
        },
        {
          "output_type": "stream",
          "text": [
            "\r  4%|▎         | 71/1970 [01:59<1:45:19,  3.33s/it]"
          ],
          "name": "stderr"
        },
        {
          "output_type": "stream",
          "text": [
            "video frame directory has files. skipping video eiyuac7hA4A_4_47\n"
          ],
          "name": "stdout"
        },
        {
          "output_type": "stream",
          "text": [
            "  5%|▍         | 95/1970 [02:00<53:33,  1.71s/it]  "
          ],
          "name": "stderr"
        },
        {
          "output_type": "stream",
          "text": [
            "video frame directory has files. skipping video e-j59PqJjSM_50_98\n",
            "video frame directory has files. skipping video EKL6elkbFy0_16_30\n",
            "video frame directory has files. skipping video emblM4a76jg_5_15\n",
            "video frame directory has files. skipping video eroAmLZ85DI_28_35\n",
            "video frame directory has files. skipping video eZLxohGP4IE_15_25\n",
            "video frame directory has files. skipping video eZLxohGP4IE_147_158\n",
            "video frame directory has files. skipping video eZLxohGP4IE_190_201\n",
            "video frame directory has files. skipping video F1BwUJ4--Qw_21_38\n",
            "video frame directory has files. skipping video F2Ny7rq9RKs_139_148\n",
            "video frame directory has files. skipping video F3pmw2ga244_59_65\n",
            "video frame directory has files. skipping video f9_bP219ehQ_63_70\n",
            "video frame directory has files. skipping video f9Won2JpOEU_60_80\n",
            "video frame directory has files. skipping video FAD8CbQuvco_35_45\n",
            "video frame directory has files. skipping video fd7Ky1lEPT8_40_50\n",
            "video frame directory has files. skipping video fEsrO_poIUg_161_168\n",
            "video frame directory has files. skipping video FeTaKOPVaJg_15_25\n",
            "video frame directory has files. skipping video FeTaKOPVaJg_60_70\n",
            "video frame directory has files. skipping video fGc6_D0JEIQ_31_46\n",
            "video frame directory has files. skipping video fgWFxFg7-GU_10_26\n",
            "video frame directory has files. skipping video fIaLVw_Gc_w_99_109\n",
            "video frame directory has files. skipping video ficwZQYmRLE_5_20\n",
            "video frame directory has files. skipping video fjDvKHkmxs0_72_87\n",
            "video frame directory has files. skipping video fkONJEgTNJY_25_35\n",
            "video frame directory has files. skipping video fKqBnl8D1Qo_5_44\n",
            "video frame directory has files. skipping video fr9H1WLcF1A_326_336\n",
            "video frame directory has files. skipping video fw8qvK67jYY_50_97\n",
            "video frame directory has files. skipping video FWzsXeXCwuc_106_110\n",
            "video frame directory has files. skipping video FWzsXeXCwuc_111_116\n",
            "video frame directory has files. skipping video g8LUhxR-6Wg_0_8\n",
            "video frame directory has files. skipping video g36ho6UrBz0_5_20\n",
            "video frame directory has files. skipping video GcfWD62sbcs_13_33\n",
            "video frame directory has files. skipping video gGDtPJzh_0s_30_45\n",
            "video frame directory has files. skipping video Gh4Beb8StFM_29_50\n",
            "video frame directory has files. skipping video ghynaoVNwZc_1_20\n",
            "video frame directory has files. skipping video gHyXstpe_N8_95_100\n",
            "video frame directory has files. skipping video gHyXstpe_N8_116_125\n",
            "video frame directory has files. skipping video gHyXstpe_N8_140_150\n"
          ],
          "name": "stdout"
        },
        {
          "output_type": "stream",
          "text": [
            "  7%|▋         | 129/1970 [02:00<25:51,  1.19it/s]"
          ],
          "name": "stderr"
        },
        {
          "output_type": "stream",
          "text": [
            "video frame directory has files. skipping video glii-kazad8_21_29\n",
            "video frame directory has files. skipping video GlW6n43pUQA_0_12\n",
            "video frame directory has files. skipping video G-M78KIy19E_315_330\n",
            "video frame directory has files. skipping video GMuijLIJH-U_1_10\n",
            "video frame directory has files. skipping video GnwKcpfr_ng_47_57\n",
            "video frame directory has files. skipping video Goj131_GxYs_2_7\n",
            "video frame directory has files. skipping video gXVaC3gBWbc_22_30\n",
            "video frame directory has files. skipping video GzlnqrzdYHU_32_40\n",
            "video frame directory has files. skipping video Hd-NeIhbYGc_43_48\n",
            "video frame directory has files. skipping video HkpUWzNNVt4_20_30\n",
            "video frame directory has files. skipping video HmVPxs4ygMc_44_53\n",
            "video frame directory has files. skipping video hSgGBHbJrmE_0_17\n",
            "video frame directory has files. skipping video htWPOGTagec_2_18\n",
            "video frame directory has files. skipping video Hu9Sq1RvuoA_19_62\n",
            "video frame directory has files. skipping video hWhKdXcqYeU_3_12\n",
            "video frame directory has files. skipping video HxRK-WqZ5Gk_30_50\n",
            "video frame directory has files. skipping video i3cHNObcEh8_0_10\n",
            "video frame directory has files. skipping video i3fd4nE8OCI_174_181\n",
            "video frame directory has files. skipping video iCiGjZEV7VI_65_75\n",
            "video frame directory has files. skipping video iEW-EkPQywU_61_83\n",
            "video frame directory has files. skipping video ifS2nXfCyYo_4_34\n",
            "video frame directory has files. skipping video IHIa75B9AhI_2_26\n",
            "video frame directory has files. skipping video IhwPQL9dFYc_153_170\n",
            "video frame directory has files. skipping video IhzXQ-gc9IQ_125_129\n",
            "video frame directory has files. skipping video IiIiY6o-C9k_49_55\n",
            "video frame directory has files. skipping video IiIiY6o-C9k_59_64\n",
            "video frame directory has files. skipping video io2dbV-Qbus_215_247\n",
            "video frame directory has files. skipping video IpHJffM3G1c_412_418\n",
            "video frame directory has files. skipping video IpHJffM3G1c_439_446\n"
          ],
          "name": "stdout"
        },
        {
          "output_type": "stream",
          "text": [
            "  8%|▊         | 164/1970 [02:00<12:31,  2.40it/s]"
          ],
          "name": "stderr"
        },
        {
          "output_type": "stream",
          "text": [
            "video frame directory has files. skipping video IpHJffM3G1c_464_470\n",
            "video frame directory has files. skipping video itxzpFW1z7E_22_36\n",
            "video frame directory has files. skipping video iUYWdCxvJCI_2_14\n",
            "video frame directory has files. skipping video Ixw6wmoC_xg_60_70\n",
            "video frame directory has files. skipping video Ixw6wmoC_xg_116_126\n",
            "video frame directory has files. skipping video izU1dDwnuMY_80_92\n",
            "video frame directory has files. skipping video J_evFB7RIKA_104_120\n",
            "video frame directory has files. skipping video J8cP93yG1Ao_14_24\n",
            "video frame directory has files. skipping video jcIrD7rNvTM_10_21\n",
            "video frame directory has files. skipping video jCplbayVbtw_10_20\n",
            "video frame directory has files. skipping video jD4o_Lmy6bU_117_137\n",
            "video frame directory has files. skipping video Je3V7U5Ctj4_488_495\n",
            "video frame directory has files. skipping video Je3V7U5Ctj4_504_511\n",
            "video frame directory has files. skipping video Je3V7U5Ctj4_558_563\n",
            "video frame directory has files. skipping video Je3V7U5Ctj4_569_576\n",
            "video frame directory has files. skipping video Je3V7U5Ctj4_582_587\n",
            "video frame directory has files. skipping video Je3V7U5Ctj4_634_639\n",
            "video frame directory has files. skipping video Je3V7U5Ctj4_760_765\n",
            "video frame directory has files. skipping video Je3V7U5Ctj4_768_773\n",
            "video frame directory has files. skipping video Je3V7U5Ctj4_956_961\n",
            "video frame directory has files. skipping video Je3V7U5Ctj4_997_1004\n",
            "video frame directory has files. skipping video JhCvLmf9yr0_46_50\n",
            "video frame directory has files. skipping video jLgmCY1fEE8_16_26\n",
            "video frame directory has files. skipping video JMUAylpXzG0_45_62\n",
            "video frame directory has files. skipping video JntMAcTlOF0_50_70\n",
            "video frame directory has files. skipping video -joBOHlg5J0_72_80\n",
            "video frame directory has files. skipping video JsD6uEZsIsU_1_47\n",
            "video frame directory has files. skipping video JsmHZlUgf1w_0_21\n",
            "video frame directory has files. skipping video jW77z3-SrO4_56_63\n",
            "video frame directory has files. skipping video JXSkYkiKO0I_112_116\n",
            "video frame directory has files. skipping video k9Brw_0gncU_14_33\n",
            "video frame directory has files. skipping video kBMsuhDvg88_45_64\n",
            "video frame directory has files. skipping video kEGmZDpZ_RE_248_293\n",
            "video frame directory has files. skipping video kEGmZDpZ_RE_295_330\n"
          ],
          "name": "stdout"
        },
        {
          "output_type": "stream",
          "text": [
            " 10%|█         | 201/1970 [02:00<06:06,  4.83it/s]"
          ],
          "name": "stderr"
        },
        {
          "output_type": "stream",
          "text": [
            "video frame directory has files. skipping video KFt5Zz5Mwlo_12_30\n",
            "video frame directory has files. skipping video kI6MWZrl8v8_149_161\n",
            "video frame directory has files. skipping video kk3TIio1-Uw_5_14\n",
            "video frame directory has files. skipping video kNHivduxQWg_0_14\n",
            "video frame directory has files. skipping video KPPCwmU5OHQ_56_62\n",
            "video frame directory has files. skipping video KPPCwmU5OHQ_227_238\n",
            "video frame directory has files. skipping video KPPCwmU5OHQ_258_266\n",
            "video frame directory has files. skipping video KPPCwmU5OHQ_424_430\n",
            "video frame directory has files. skipping video KPPCwmU5OHQ_467_472\n",
            "video frame directory has files. skipping video KPPCwmU5OHQ_480_486\n",
            "video frame directory has files. skipping video kquB3rIgfGk_197_202\n",
            "video frame directory has files. skipping video kquB3rIgfGk_525_532\n",
            "video frame directory has files. skipping video kquB3rIgfGk_537_544\n",
            "video frame directory has files. skipping video kquB3rIgfGk_640_645\n",
            "video frame directory has files. skipping video kuNQpRTc-hA_126_135\n",
            "video frame directory has files. skipping video kWLNZzuo3do_24_31\n",
            "video frame directory has files. skipping video kWLNZzuo3do_25_32\n",
            "video frame directory has files. skipping video kWLNZzuo3do_31_37\n",
            "video frame directory has files. skipping video kWLNZzuo3do_38_47\n",
            "video frame directory has files. skipping video kWLNZzuo3do_77_83\n",
            "video frame directory has files. skipping video kWLNZzuo3do_86_93\n",
            "video frame directory has files. skipping video kWLNZzuo3do_145_151\n",
            "video frame directory has files. skipping video kWLNZzuo3do_147_153\n",
            "video frame directory has files. skipping video kWLNZzuo3do_152_164\n",
            "video frame directory has files. skipping video kWLNZzuo3do_154_165\n",
            "video frame directory has files. skipping video kWLNZzuo3do_167_181\n",
            "video frame directory has files. skipping video kWLNZzuo3do_206_213\n",
            "video frame directory has files. skipping video kWLNZzuo3do_217_222\n",
            "video frame directory has files. skipping video kWLNZzuo3do_222_227\n",
            "video frame directory has files. skipping video kWLNZzuo3do_228_232\n",
            "video frame directory has files. skipping video kWLNZzuo3do_251_260\n",
            "video frame directory has files. skipping video kWLNZzuo3do_262_270\n",
            "video frame directory has files. skipping video kzyFBlNRohs_82_88\n",
            "video frame directory has files. skipping video L6dEUQ6WiHY_171_186\n",
            "video frame directory has files. skipping video L8h2DazQZJY_0_10\n",
            "video frame directory has files. skipping video L9wD3kw-8FE_65_73\n",
            "video frame directory has files. skipping video l57mQZvDaL4_10_30\n"
          ],
          "name": "stdout"
        },
        {
          "output_type": "stream",
          "text": [
            " 12%|█▏        | 235/1970 [02:01<03:01,  9.55it/s]"
          ],
          "name": "stderr"
        },
        {
          "output_type": "stream",
          "text": [
            "video frame directory has files. skipping video LF51fban_x4_300_325\n",
            "video frame directory has files. skipping video lfGlDg47How_93_98\n",
            "video frame directory has files. skipping video lfGlDg47How_110_115\n",
            "video frame directory has files. skipping video lfGlDg47How_361_367\n",
            "video frame directory has files. skipping video lFyPUgJCmtU_100_110\n",
            "video frame directory has files. skipping video ljGcQocjSs4_38_60\n",
            "video frame directory has files. skipping video lKpGc3SCSVw_12_20\n",
            "video frame directory has files. skipping video lo4KcsBN--A_0_10\n",
            "video frame directory has files. skipping video lsanQj2yacs_80_85\n",
            "video frame directory has files. skipping video lsanQj2yacs_102_108\n",
            "video frame directory has files. skipping video lv8d_qLLqsk_1_20\n",
            "video frame directory has files. skipping video lw7pTwpx0K0_38_48\n",
            "video frame directory has files. skipping video Lyp7MiaCXNE_114_120\n",
            "video frame directory has files. skipping video M_TP6UTrh30_343_358\n",
            "video frame directory has files. skipping video MF88IYF2MHY_25_59\n",
            "video frame directory has files. skipping video MHWxjWwAbwM_10_25\n",
            "video frame directory has files. skipping video MPuKVz3sjBA_1_12\n",
            "video frame directory has files. skipping video MSrJTeKNzdI_32_36\n",
            "video frame directory has files. skipping video mtrCf667KDk_134_176\n",
            "video frame directory has files. skipping video muI1BFsdbdo_33_45\n",
            "video frame directory has files. skipping video MWvCcwTw7Ac_154_181\n",
            "video frame directory has files. skipping video n_Z0-giaspE_168_193\n",
            "video frame directory has files. skipping video N5wsl86P37Q_1_15\n",
            "video frame directory has files. skipping video N6SglZopfmk_97_111\n",
            "video frame directory has files. skipping video NaX51emUDn4_0_20\n",
            "video frame directory has files. skipping video nBFhvrAOFqY_89_103\n",
            "video frame directory has files. skipping video NbOlG7THecM_25_34\n",
            "video frame directory has files. skipping video nc8hwLaOyZU_1_19\n",
            "video frame directory has files. skipping video nCtZFOYAlvQ_44_49\n",
            "video frame directory has files. skipping video Nd45qJn61Dw_0_10\n",
            "video frame directory has files. skipping video nHZsE7T7hwI_13_23\n",
            "video frame directory has files. skipping video NKtfKR4GNjU_0_20\n",
            "video frame directory has files. skipping video NMlKMfiHSho_1_15\n",
            "video frame directory has files. skipping video nq4hG6qgyPs_184_195\n",
            "video frame directory has files. skipping video nq4hG6qgyPs_240_251\n",
            "video frame directory has files. skipping video nq4hG6qgyPs_370_377\n",
            "video frame directory has files. skipping video nV3Wv8iHp4U_0_38\n"
          ],
          "name": "stdout"
        },
        {
          "output_type": "stream",
          "text": [
            " 14%|█▍        | 277/1970 [02:01<01:31, 18.49it/s]"
          ],
          "name": "stderr"
        },
        {
          "output_type": "stream",
          "text": [
            "video frame directory has files. skipping video NV6pq1W-I4g_7_16\n",
            "video frame directory has files. skipping video NVGGgncVq-4_12_20\n",
            "video frame directory has files. skipping video NVGGgncVq-4_111_117\n",
            "video frame directory has files. skipping video nYwbAb0QvBE_195_210\n",
            "video frame directory has files. skipping video nZSFn51l3hc_318_326\n",
            "video frame directory has files. skipping video nZSFn51l3hc_480_485\n",
            "video frame directory has files. skipping video nZSFn51l3hc_660_666\n",
            "video frame directory has files. skipping video O2qiPS2NCeY_2_18\n",
            "video frame directory has files. skipping video o2X6UCaNqKA_27_36\n",
            "video frame directory has files. skipping video o4pL7FObqds_243_263\n",
            "video frame directory has files. skipping video O06WXS_XZN0_0_6\n",
            "video frame directory has files. skipping video O9cOSO9L8Zs_1_16\n",
            "video frame directory has files. skipping video O9yLRzpPp44_36_55\n",
            "video frame directory has files. skipping video O9yLRzpPp44_167_190\n",
            "video frame directory has files. skipping video OaBmAg6gz30_4_18\n",
            "video frame directory has files. skipping video OBLIjdMIIt8_54_61\n",
            "video frame directory has files. skipping video OCcy9TDRGKo_41_51\n",
            "video frame directory has files. skipping video OCcy9TDRGKo_118_127\n",
            "video frame directory has files. skipping video OfgSCMxttCc_86_92\n",
            "video frame directory has files. skipping video ogcqFaNbah4_475_487\n",
            "video frame directory has files. skipping video ok4cM6WTA5E_120_133\n",
            "video frame directory has files. skipping video onxE6PpEXes_8_25\n",
            "video frame directory has files. skipping video oRBgVOiZVsc_16_22\n",
            "video frame directory has files. skipping video oSnYUfCGiCA_7_17\n",
            "video frame directory has files. skipping video otvx5OZHTJc_1_22\n",
            "video frame directory has files. skipping video OUII8_aOfNM_26_55\n",
            "video frame directory has files. skipping video OUII8_aOfNM_60_69\n",
            "video frame directory has files. skipping video p9g06ktIkJg_4_11\n",
            "video frame directory has files. skipping video PAm82v0AMFc_5_10\n",
            "video frame directory has files. skipping video PBHZtoygOYg_450_465\n",
            "video frame directory has files. skipping video PD6eQY7yCfw_32_37\n",
            "video frame directory has files. skipping video pfQPRXcihkI_160_184\n",
            "video frame directory has files. skipping video pFSoWsocv0g_8_17\n",
            "video frame directory has files. skipping video pGCRurvXQGM_45_56\n",
            "video frame directory has files. skipping video PiyoeFC31kE_9_27\n"
          ],
          "name": "stdout"
        },
        {
          "output_type": "stream",
          "text": [
            "\r 15%|█▍        | 295/1970 [02:01<01:07, 24.77it/s]"
          ],
          "name": "stderr"
        },
        {
          "output_type": "stream",
          "text": [
            "video frame directory has files. skipping video PJnJMp2ZpbA_3_15\n",
            "video frame directory has files. skipping video PNMsPz1701c_3_20\n",
            "video frame directory has files. skipping video pptYu3YQnxY_160_170\n",
            "video frame directory has files. skipping video PQbkdRbir0M_45_53\n",
            "video frame directory has files. skipping video PqSZ89FqpiY_65_75\n",
            "video frame directory has files. skipping video pqTWUzehCUM_42_47\n",
            "video frame directory has files. skipping video Pr5LQq42l4M_12_17\n",
            "video frame directory has files. skipping video pRpeEdMmmQ0_1_18\n",
            "video frame directory has files. skipping video pRpeEdMmmQ0_65_70\n",
            "video frame directory has files. skipping video pUPKsHTDZTo_70_85\n",
            "video frame directory has files. skipping video pW9DFPqoIsI_26_50\n",
            "video frame directory has files. skipping video qDjtN7xxNr4_44_51\n",
            "video frame directory has files. skipping video QGgJlHi3tjw_1_15\n",
            "video frame directory has files. skipping video qhknaG9ifbs_122_127\n",
            "video frame directory has files. skipping video QhRqJp-CgEs_7_14\n",
            "video frame directory has files. skipping video QklHhN8pQBE_0_10\n",
            "video frame directory has files. skipping video qNjeEx92rTA_281_299\n",
            "video frame directory has files. skipping video qOiN__I1-Zo_2_8\n",
            "video frame directory has files. skipping video qqYysi3qotc_148_195\n",
            "video frame directory has files. skipping video QsC8__3lwO0_50_60\n",
            "video frame directory has files. skipping video Q-soOsOLIGQ_0_22\n",
            "video frame directory has files. skipping video QTAqjSbMkXU_65_75\n",
            "video frame directory has files. skipping video QzulzuWr0Zw_20_45\n",
            "video frame directory has files. skipping video r0rmrbTb7fU_98_109\n",
            "video frame directory has files. skipping video r2PM0om2El8_18_25\n",
            "video frame directory has files. skipping video R3a9r8qFlhQ_0_12\n",
            "video frame directory has files. skipping video ri5AyXzxb4o_201_215\n",
            "video frame directory has files. skipping video rl1rVk_xIOs_1_16\n",
            "video frame directory has files. skipping video rlQ2kW-FvMk_66_79\n"
          ],
          "name": "stdout"
        },
        {
          "output_type": "stream",
          "text": [
            " 17%|█▋        | 326/1970 [02:01<00:38, 42.41it/s]"
          ],
          "name": "stderr"
        },
        {
          "output_type": "stream",
          "text": [
            "video frame directory has files. skipping video rNSAmHPYHjA_60_73\n",
            "video frame directory has files. skipping video rV5VmhY3-Sw_65_76\n",
            "video frame directory has files. skipping video rVFJzN20jhQ_27_32\n",
            "video frame directory has files. skipping video rwHT2SuNOi8_195_201\n",
            "video frame directory has files. skipping video rwHT2SuNOi8_240_255\n",
            "video frame directory has files. skipping video RWWvWFeE6_Q_2_26\n",
            "video frame directory has files. skipping video RX6NSOuCCAE_13_27\n",
            "video frame directory has files. skipping video rXZy-PHtnxg_8_42\n",
            "video frame directory has files. skipping video ry7AUQtuwdU_4_39\n",
            "video frame directory has files. skipping video s20OlIRK340_125_138\n",
            "video frame directory has files. skipping video s20OlIRK340_147_174\n",
            "video frame directory has files. skipping video SaYwh6chmiw_15_40\n",
            "video frame directory has files. skipping video sb1dX5xAFvk_10_17\n",
            "video frame directory has files. skipping video sBjr8UJOpsQ_149_169\n",
            "video frame directory has files. skipping video S-Civm_fbK8_20_26\n",
            "video frame directory has files. skipping video Sg5rTYrkpnU_35_48\n",
            "video frame directory has files. skipping video shPymuahrsc_5_12\n",
            "video frame directory has files. skipping video Sj6GSmDpNDw_0_12\n",
            "video frame directory has files. skipping video SKhmFSV-XB0_12_18\n",
            "video frame directory has files. skipping video sMscRb9TcQE_146_161\n",
            "video frame directory has files. skipping video Sq7Vt6KC9Yg_17_35\n",
            "video frame directory has files. skipping video SrDE9-cDz48_4_12\n",
            "video frame directory has files. skipping video sT5Bzt9w354_11_34\n",
            "video frame directory has files. skipping video sTMlQSbAGfE_0_12\n",
            "video frame directory has files. skipping video suj4VNfZz5E_33_50\n",
            "video frame directory has files. skipping video SULWQEAErKw_13_26\n",
            "video frame directory has files. skipping video sv5YlZspb30_10_20\n",
            "video frame directory has files. skipping video sWqi41wyXcQ_68_79\n",
            "video frame directory has files. skipping video s-XjRDsYuzU_0_12\n",
            "video frame directory has files. skipping video SzEbtbNSg04_28_48\n",
            "video frame directory has files. skipping video SzEbtbNSg04_71_93\n",
            "video frame directory has files. skipping video TFJ6oR89Vb8_90_107\n",
            "video frame directory has files. skipping video tJHUH9tpqPg_113_118\n"
          ],
          "name": "stdout"
        },
        {
          "output_type": "stream",
          "text": [
            " 18%|█▊        | 359/1970 [02:01<00:23, 68.02it/s]"
          ],
          "name": "stderr"
        },
        {
          "output_type": "stream",
          "text": [
            "video frame directory has files. skipping video TjLCJKoot4U_43_65\n",
            "video frame directory has files. skipping video Tm1HjqK0ABg_9_15\n",
            "video frame directory has files. skipping video TnPOZVHB3x0_45_55\n",
            "video frame directory has files. skipping video TXabUVUxJqI_22_31\n",
            "video frame directory has files. skipping video tYQ7O6V0Fvk_20_55\n",
            "video frame directory has files. skipping video -t-ZWaJeH-o_0_15\n",
            "video frame directory has files. skipping video u_6tre9_99Q_13_25\n",
            "video frame directory has files. skipping video u9prcUCHlqM_73_80\n",
            "video frame directory has files. skipping video u9prcUCHlqM_235_241\n",
            "video frame directory has files. skipping video u9prcUCHlqM_503_511\n",
            "video frame directory has files. skipping video uB9zRlV47qA_17_23\n",
            "video frame directory has files. skipping video ub-aYLzCF_Q_1_10\n",
            "video frame directory has files. skipping video UbmZAe5u5FI_88_98\n",
            "video frame directory has files. skipping video Ud3Qy8m6OxQ_52_62\n",
            "video frame directory has files. skipping video UdcObAQ5OOM_15_30\n",
            "video frame directory has files. skipping video Ugb_uH72d0I_8_17\n",
            "video frame directory has files. skipping video UgUFP5baQ9Y_0_7\n",
            "video frame directory has files. skipping video UgUFP5baQ9Y_0_10\n",
            "video frame directory has files. skipping video UJKythlXAIY_17_21\n",
            "video frame directory has files. skipping video unhiT2D6WvE_0_20\n",
            "video frame directory has files. skipping video urNX3e1Wbc8_30_38\n",
            "video frame directory has files. skipping video uxEhH6MPH28_69_85\n",
            "video frame directory has files. skipping video UxhKb-zZoWE_0_15\n",
            "video frame directory has files. skipping video UXs3eq68ZjE_49_54\n",
            "video frame directory has files. skipping video UXs3eq68ZjE_194_200\n",
            "video frame directory has files. skipping video UXs3eq68ZjE_209_214\n",
            "video frame directory has files. skipping video UXs3eq68ZjE_235_240\n",
            "video frame directory has files. skipping video UXs3eq68ZjE_246_250\n",
            "video frame directory has files. skipping video UXs3eq68ZjE_250_255\n"
          ],
          "name": "stdout"
        },
        {
          "output_type": "stream",
          "text": [
            " 20%|█▉        | 391/1970 [02:02<00:17, 88.80it/s]"
          ],
          "name": "stderr"
        },
        {
          "output_type": "stream",
          "text": [
            "video frame directory has files. skipping video UXs3eq68ZjE_255_260\n",
            "video frame directory has files. skipping video UXs3eq68ZjE_280_285\n",
            "video frame directory has files. skipping video UXs3eq68ZjE_313_318\n",
            "video frame directory has files. skipping video UXs3eq68ZjE_320_325\n",
            "video frame directory has files. skipping video UXs3eq68ZjE_382_387\n",
            "video frame directory has files. skipping video UXs3eq68ZjE_498_504\n",
            "video frame directory has files. skipping video UXs3eq68ZjE_508_513\n",
            "video frame directory has files. skipping video v4_AzQSnmY4_40_55\n",
            "video frame directory has files. skipping video v7iIZXtpIb8_5_15\n",
            "video frame directory has files. skipping video v7NpKUVqjpI_23_40\n",
            "video frame directory has files. skipping video V--abChiVVc_30_40\n",
            "video frame directory has files. skipping video veE0E79dEEc_18_45\n",
            "video frame directory has files. skipping video vfktGc_qx-w_2_18\n",
            "video frame directory has files. skipping video Vg1jyL3cr60_163_186\n",
            "video frame directory has files. skipping video ViM0JjUoqRw_10_20\n",
            "video frame directory has files. skipping video -vKO3uSG6Do_3_14\n",
            "video frame directory has files. skipping video vMoOpQQy6sI_22_55\n",
            "video frame directory has files. skipping video vpR0L3sIvoo_15_49\n",
            "video frame directory has files. skipping video VU4qLrk5axA_40_58\n",
            "video frame directory has files. skipping video VuCFgiWfVF4_0_6\n",
            "video frame directory has files. skipping video WAa4-cctmDk_55_70\n",
            "video frame directory has files. skipping video WEJfT-oB4v4_20_35\n",
            "video frame directory has files. skipping video WeOU0Iba1Xg_1_30\n",
            "video frame directory has files. skipping video WG0J2B19ZT8_1_33\n",
            "video frame directory has files. skipping video WinaH9SkW9c_11_38\n"
          ],
          "name": "stdout"
        },
        {
          "output_type": "stream",
          "text": [
            " 21%|██▏       | 421/1970 [02:02<00:14, 109.17it/s]"
          ],
          "name": "stderr"
        },
        {
          "output_type": "stream",
          "text": [
            "video frame directory has files. skipping video wLUH7qA_6sA_90_115\n",
            "video frame directory has files. skipping video wNv74rvkAw8_30_40\n",
            "video frame directory has files. skipping video wON-YuA1GjA_3_63\n",
            "video frame directory has files. skipping video WpB4-eLyiBc_10_20\n",
            "video frame directory has files. skipping video WPG-BIWOrG4_130_134\n",
            "video frame directory has files. skipping video WPG-BIWOrG4_608_613\n",
            "video frame directory has files. skipping video WPG-BIWOrG4_635_640\n",
            "video frame directory has files. skipping video WPG-BIWOrG4_672_677\n",
            "video frame directory has files. skipping video WPG-BIWOrG4_683_689\n",
            "video frame directory has files. skipping video WPG-BIWOrG4_755_761\n",
            "video frame directory has files. skipping video WqQonRVs7WA_0_10\n",
            "video frame directory has files. skipping video WrsS6X-FB-I_30_47\n",
            "video frame directory has files. skipping video wsj_dzz33Ko_31_41\n",
            "video frame directory has files. skipping video wX-Bl25Htag_104_115\n",
            "video frame directory has files. skipping video WyIqGyj21Dk_0_10\n",
            "video frame directory has files. skipping video wzfkC2TjdeQ_0_31\n",
            "video frame directory has files. skipping video x1i0UOssll8_141_151\n",
            "video frame directory has files. skipping video X6uJyuD_Zso_3_17\n",
            "video frame directory has files. skipping video X56XkGFe7OY_47_61\n",
            "video frame directory has files. skipping video xaPepCVepCg_35_46\n",
            "video frame directory has files. skipping video xdhLQCYQ-nQ_50_63\n",
            "video frame directory has files. skipping video xpOYXbMDDBY_1_20\n",
            "video frame directory has files. skipping video Y4BeJ-64294_20_30\n",
            "video frame directory has files. skipping video YEmS8ZQIhTA_7_20\n",
            "video frame directory has files. skipping video YersIyzsOpc_15_30\n",
            "video frame directory has files. skipping video yFPHhRat6bc_160_210\n",
            "video frame directory has files. skipping video YJ2aGe7CLBo_25_35\n",
            "video frame directory has files. skipping video YmXCfQm0_CA_7_16\n",
            "video frame directory has files. skipping video YmXCfQm0_CA_50_57\n"
          ],
          "name": "stdout"
        },
        {
          "output_type": "stream",
          "text": [
            " 23%|██▎       | 450/1970 [02:02<00:12, 118.24it/s]"
          ],
          "name": "stderr"
        },
        {
          "output_type": "stream",
          "text": [
            "video frame directory has files. skipping video YmXCfQm0_CA_68_75\n",
            "video frame directory has files. skipping video YmXCfQm0_CA_109_120\n",
            "video frame directory has files. skipping video YmXCfQm0_CA_140_156\n",
            "video frame directory has files. skipping video YmXCfQm0_CA_277_284\n",
            "video frame directory has files. skipping video yPNFVj-pISU_105_115\n",
            "video frame directory has files. skipping video ysTmUTQ5wZE_17_45\n",
            "video frame directory has files. skipping video YUlG_PKzpvc_0_8\n",
            "video frame directory has files. skipping video yvfhk1kwKls_103_113\n",
            "video frame directory has files. skipping video YwmUgVrUJ4I_0_15\n",
            "video frame directory has files. skipping video YXixZrSxefk_17_48\n",
            "video frame directory has files. skipping video yyxtyCaEVqk_250_264\n",
            "video frame directory has files. skipping video yyxtyCaEVqk_321_328\n",
            "video frame directory has files. skipping video yyxtyCaEVqk_329_360\n",
            "video frame directory has files. skipping video z9qbQX4J_2g_0_14\n",
            "video frame directory has files. skipping video Z10_CDPQKKs_1_6\n",
            "video frame directory has files. skipping video zFIn8DeV5PM_20_33\n",
            "video frame directory has files. skipping video Zg0p5TXi_Cc_30_46\n",
            "video frame directory has files. skipping video zH4v_DClIoc_3_28\n",
            "video frame directory has files. skipping video zHy7pM0U49w_103_109\n",
            "video frame directory has files. skipping video zHy7pM0U49w_110_116\n",
            "video frame directory has files. skipping video ZK4W-2ifl6I_1_28\n",
            "video frame directory has files. skipping video ZlX_Gy4HP2E_38_55\n",
            "video frame directory has files. skipping video zMg9dChF97A_12_38\n",
            "video frame directory has files. skipping video Zoz0HcCB1vU_0_10\n",
            "video frame directory has files. skipping video ZsrPKtx0qyg_7_15\n",
            "video frame directory has files. skipping video zTn-nNj5Bng_61_77\n"
          ],
          "name": "stdout"
        },
        {
          "output_type": "stream",
          "text": [
            " 25%|██▍       | 492/1970 [02:02<00:09, 149.50it/s]"
          ],
          "name": "stderr"
        },
        {
          "output_type": "stream",
          "text": [
            "video frame directory has files. skipping video zuYZ5kPatJE_78_116\n",
            "video frame directory has files. skipping video zv2RIbUsnSw_335_341\n",
            "video frame directory has files. skipping video zWVQImPY2Cc_27_44\n",
            "video frame directory has files. skipping video zYcY4mjLpxU_45_55\n",
            "video frame directory has files. skipping video zYcY4mjLpxU_104_118\n",
            "video frame directory has files. skipping video zzit5b_-ukg_5_20\n",
            "video frame directory has files. skipping video _0nX-El-ySo_83_93\n",
            "video frame directory has files. skipping video _6OTzzK7t9Y_73_78\n",
            "video frame directory has files. skipping video _6OTzzK7t9Y_158_170\n",
            "video frame directory has files. skipping video 9HTUcMjWB3g_134_138\n",
            "video frame directory has files. skipping video PeUHy0A1GF0_78_85\n",
            "video frame directory has files. skipping video PeUHy0A1GF0_122_127\n",
            "video frame directory has files. skipping video PeUHy0A1GF0_99_103\n",
            "video frame directory has files. skipping video Pgm-mOQu2MM_48_62\n",
            "video frame directory has files. skipping video PeUHy0A1GF0_105_112\n",
            "video frame directory has files. skipping video pfQPRXcihkI_135_144\n",
            "video frame directory has files. skipping video PeUHy0A1GF0_114_121\n",
            "video frame directory has files. skipping video PHDmVhShE80_20_29\n",
            "video frame directory has files. skipping video pfQPRXcihkI_127_138\n",
            "video frame directory has files. skipping video pGsU4FekJQM_10_18\n",
            "video frame directory has files. skipping video PHDmVhShE80_36_46\n",
            "video frame directory has files. skipping video PmrTDZy3f2M_35_39\n",
            "video frame directory has files. skipping video PHDmVhShE80_78_82\n",
            "video frame directory has files. skipping video PHDmVhShE80_82_86\n",
            "video frame directory has files. skipping video POv7JaE3vJ8_40_50\n",
            "video frame directory has files. skipping video 9HTUcMjWB3g_143_151\n",
            "video frame directory has files. skipping video pNelR-nHz7g_68_90\n",
            "video frame directory has files. skipping video PqvKNqkGI9o_47_52\n",
            "video frame directory has files. skipping video po2tcrG6KzM_2_8\n",
            "video frame directory has files. skipping video pmEKZ6yVewc_0_10\n",
            "video frame directory has files. skipping video pQYEZTwSVbQ_12_18\n",
            "video frame directory has files. skipping video PslVHtXc7Tg_8_14\n",
            "video frame directory has files. skipping video psXeA8sSYdI_25_30\n",
            "video frame directory has files. skipping video PuQVs2Ch1LY_5_15\n",
            "video frame directory has files. skipping video ptHkvYrH9fY_2_10\n",
            "video frame directory has files. skipping video 9Q0JfdP36kI_19_27\n",
            "video frame directory has files. skipping video PTxHJMM6hHE_0_15\n",
            "video frame directory has files. skipping video Puv_4NtflqE_26_34\n",
            "video frame directory has files. skipping video pzq5fPfsPZg_29_33\n",
            "video frame directory has files. skipping video -pUwIypksfE_13_23\n",
            "video frame directory has files. skipping video pzq5fPfsPZg_51_57\n",
            "video frame directory has files. skipping video PugziVUikEg_117_140\n",
            "video frame directory has files. skipping video 9Q0JfdP36kI_56_64\n",
            "video frame directory has files. skipping video q3I3R_gqy8M_34_37\n",
            "video frame directory has files. skipping video Puh1n8DTKw8_2_9\n"
          ],
          "name": "stdout"
        },
        {
          "output_type": "stream",
          "text": [
            " 27%|██▋       | 528/1970 [02:02<00:08, 160.97it/s]"
          ],
          "name": "stderr"
        },
        {
          "output_type": "stream",
          "text": [
            "video frame directory has files. skipping video pzq5fPfsPZg_145_160\n",
            "video frame directory has files. skipping video puineN1UMto_25_29\n",
            "video frame directory has files. skipping video q3I3R_gqy8M_38_42\n",
            "video frame directory has files. skipping video Q6HuQEIJqcA_9_16\n",
            "video frame directory has files. skipping video Q7H9mI9dtMY_20_34\n",
            "video frame directory has files. skipping video 9QI8cgBSGo8_28_41\n",
            "video frame directory has files. skipping video q6vz80UkVtw_0_7\n",
            "video frame directory has files. skipping video q7pOFn8s4zc_27_36\n",
            "video frame directory has files. skipping video q3I3R_gqy8M_73_79\n",
            "video frame directory has files. skipping video q7pOFn8s4zc_263_273\n",
            "video frame directory has files. skipping video q5ZRMvjzhXQ_15_29\n",
            "video frame directory has files. skipping video q8t7iSGAKik_11_31\n",
            "video frame directory has files. skipping video q8t7iSGAKik_57_74\n",
            "video frame directory has files. skipping video q-a6NEotUX8_5_10\n",
            "video frame directory has files. skipping video q9ew_nITQWY_54_62\n",
            "video frame directory has files. skipping video qeKX-N1nKiM_37_43\n",
            "video frame directory has files. skipping video qeKX-N1nKiM_0_5\n",
            "video frame directory has files. skipping video 9WpJxn-2h1o_122_150\n",
            "video frame directory has files. skipping video qeKX-N1nKiM_52_59\n",
            "video frame directory has files. skipping video QA_JTtM1hKA_5_15\n",
            "video frame directory has files. skipping video qBFSt85-xqk_15_20\n",
            "video frame directory has files. skipping video qeKX-N1nKiM_68_72\n",
            "video frame directory has files. skipping video qeKX-N1nKiM_74_77\n",
            "video frame directory has files. skipping video qeKX-N1nKiM_106_115\n",
            "video frame directory has files. skipping video 9Wr48VFhZH8_45_50\n",
            "video frame directory has files. skipping video qew09qQgMAg_22_27\n",
            "video frame directory has files. skipping video qeKX-N1nKiM_123_130\n",
            "video frame directory has files. skipping video QGJy1K91gP4_90_100\n",
            "video frame directory has files. skipping video qIk_Dz5XE5E_104_109\n",
            "video frame directory has files. skipping video qeKX-N1nKiM_133_142\n",
            "video frame directory has files. skipping video QHkvBU8diwU_1_18\n",
            "video frame directory has files. skipping video qIXs7fUoLIg_1_11\n",
            "video frame directory has files. skipping video QOmrchUPnBs_10_20\n",
            "video frame directory has files. skipping video Qp-k0H93iJE_35_39\n",
            "video frame directory has files. skipping video Qjbcibrv3L0_26_32\n",
            "video frame directory has files. skipping video QjI3Y8ZKSqs_30_38\n",
            "video frame directory has files. skipping video qPXynwa_2iM_15_25\n"
          ],
          "name": "stdout"
        },
        {
          "output_type": "stream",
          "text": [
            " 29%|██▉       | 569/1970 [02:03<00:08, 170.43it/s]"
          ],
          "name": "stderr"
        },
        {
          "output_type": "stream",
          "text": [
            "video frame directory has files. skipping video QqYWLR47eLI_10_18\n",
            "video frame directory has files. skipping video qLwgb3F0aPU_298_305\n",
            "video frame directory has files. skipping video qRoxNXm7INc_58_66\n",
            "video frame directory has files. skipping video QMJY29QMewQ_42_52\n",
            "video frame directory has files. skipping video QsvBYKaCXEc_5_15\n",
            "video frame directory has files. skipping video QT8iCDc7NGU_18_23\n",
            "video frame directory has files. skipping video q-JHcsqJXWY_0_8\n",
            "video frame directory has files. skipping video 9wxB1UQi0MM_18_38\n",
            "video frame directory has files. skipping video Qtu-PXuvCx4_12_17\n",
            "video frame directory has files. skipping video qvg9eM4Hmzk_1_9\n",
            "video frame directory has files. skipping video qvg9eM4Hmzk_4_10\n",
            "video frame directory has files. skipping video Qwn0Ni9G5ow_64_69\n",
            "video frame directory has files. skipping video qvSxiVV7jhw_0_15\n",
            "video frame directory has files. skipping video qypmR4O1Gwk_0_10\n",
            "video frame directory has files. skipping video R0e8ojL0vcc_8_14\n",
            "video frame directory has files. skipping video QzcTlEpAigQ_0_14\n",
            "video frame directory has files. skipping video R1UrFBF_0iU_35_41\n",
            "video frame directory has files. skipping video QVSt5USMkMg_43_50\n",
            "video frame directory has files. skipping video qzQzooI4BqU_5_15\n",
            "video frame directory has files. skipping video r0E-0ntoNWo_20_30\n",
            "video frame directory has files. skipping video R2DvpPTfl-E_20_25\n",
            "video frame directory has files. skipping video r4qv_BNlQNk_93_98\n",
            "video frame directory has files. skipping video r4qv_BNlQNk_119_124\n",
            "video frame directory has files. skipping video Rf0TUCA3XNs_3_16\n",
            "video frame directory has files. skipping video R8FDJgVW3Vc_0_4\n",
            "video frame directory has files. skipping video RieF9wrFd8s_1_8\n",
            "video frame directory has files. skipping video 9xVqwy_4pmQ_36_49\n",
            "video frame directory has files. skipping video r2oI9Y-3wAo_21_28\n",
            "video frame directory has files. skipping video R24RktgUi-s_5_15\n",
            "video frame directory has files. skipping video RiglOfJon8I_3_18\n",
            "video frame directory has files. skipping video R24RktgUi-s_24_28\n",
            "video frame directory has files. skipping video RJNBxdDQOw4_13_26\n",
            "video frame directory has files. skipping video -rkErLY0rRc_63_67\n",
            "video frame directory has files. skipping video RjpbFlOHFps_8_25\n",
            "video frame directory has files. skipping video rKF0ZW34FRk_41_54\n",
            "video frame directory has files. skipping video 21uB8g-jDZI_70_79\n",
            "video frame directory has files. skipping video -rkErLY0rRc_26_35\n",
            "video frame directory has files. skipping video RMznbCn5sQs_0_10\n",
            "video frame directory has files. skipping video Rm-RnxN4oHA_215_225\n",
            "video frame directory has files. skipping video rnawC5C8gSI_82_90\n",
            "video frame directory has files. skipping video rOic25PnIx8_1_3\n",
            "video frame directory has files. skipping video rQuNYxNmA6M_0_4\n"
          ],
          "name": "stdout"
        },
        {
          "output_type": "stream",
          "text": [
            "\r 31%|███       | 604/1970 [02:03<00:06, 200.85it/s]"
          ],
          "name": "stderr"
        },
        {
          "output_type": "stream",
          "text": [
            "video frame directory has files. skipping video Rq_VfjGH7kg_104_110\n",
            "video frame directory has files. skipping video RSx5G0_xH48_12_17\n",
            "video frame directory has files. skipping video RQYLGNbal2c_5_10\n",
            "video frame directory has files. skipping video 47D9-U8hn5I_11_16\n",
            "video frame directory has files. skipping video ruoHOXo2PRQ_2_20\n",
            "video frame directory has files. skipping video rq2p5ML8-WI_63_69\n",
            "video frame directory has files. skipping video RvJH_POzxmc_10_25\n",
            "video frame directory has files. skipping video -rvjK0lE3z4_33_43\n",
            "video frame directory has files. skipping video rw9h_574HxE_13_18\n",
            "video frame directory has files. skipping video ruNrdmjcNTc_0_5\n",
            "video frame directory has files. skipping video rw9h_574HxE_70_74\n",
            "video frame directory has files. skipping video rw9h_574HxE_59_66\n",
            "video frame directory has files. skipping video rw9h_574HxE_127_133\n",
            "video frame directory has files. skipping video 57C93mpt6Xo_358_368\n",
            "video frame directory has files. skipping video rw9h_574HxE_229_236\n",
            "video frame directory has files. skipping video rw9h_574HxE_161_166\n",
            "video frame directory has files. skipping video s_ldnx8_etY_32_54\n",
            "video frame directory has files. skipping video RZL9irxnhZ0_34_40\n",
            "video frame directory has files. skipping video rw9h_574HxE_251_254\n",
            "video frame directory has files. skipping video s0hwEUC5emA_127_132\n",
            "video frame directory has files. skipping video s6QwbmWbSmw_18_24\n",
            "video frame directory has files. skipping video s1ZABV7AQdA_38_48\n",
            "video frame directory has files. skipping video s7znbqra118_91_97\n",
            "video frame directory has files. skipping video s80J2dAUUyI_33_43\n",
            "video frame directory has files. skipping video SaOqf2d-y30_22_27\n",
            "video frame directory has files. skipping video s9TklvyLFyI_177_191\n",
            "video frame directory has files. skipping video 60x_yxy7Sfw_1_7\n",
            "video frame directory has files. skipping video -s4-6QTT7HE_235_241\n",
            "video frame directory has files. skipping video s8utHZYTNTs_35_42\n",
            "video frame directory has files. skipping video sBjr8UJOpsQ_181_195\n",
            "video frame directory has files. skipping video s-dSFyz_5Ww_31_41\n",
            "video frame directory has files. skipping video sJC7E06IBXI_49_59\n",
            "video frame directory has files. skipping video ScdUht-pM6s_53_63\n",
            "video frame directory has files. skipping video sJSmRik2c-c_1_7\n",
            "video frame directory has files. skipping video seTkGZlEU64_81_110\n",
            "video frame directory has files. skipping video 62I8I4sCPPQ_12_30\n",
            "video frame directory has files. skipping video s-dSFyz_5Ww_13_23\n",
            "video frame directory has files. skipping video SJZFNwfcSOw_3_18\n",
            "video frame directory has files. skipping video sFExO_PW22s_10_18\n",
            "video frame directory has files. skipping video sm0OYD0NSbQ_51_59\n",
            "video frame directory has files. skipping video SFFfhAUEoj0_10_16\n",
            "video frame directory has files. skipping video s-QQWRdF-5Y_19_28\n",
            "video frame directory has files. skipping video sRKQfxxEP4M_117_125\n",
            "video frame directory has files. skipping video SRzoLVNgHoI_56_66\n",
            "video frame directory has files. skipping video 74tRCYS_534_49_57\n",
            "video frame directory has files. skipping video swKrHEeOj9c_4_8\n",
            "video frame directory has files. skipping video swJ0zhVJ8DU_15_21\n",
            "video frame directory has files. skipping video sXyjCgR0rAc_0_11\n",
            "video frame directory has files. skipping video SzEbtbNSg04_88_93\n",
            "video frame directory has files. skipping video SzEbtbNSg04_111_117\n",
            "video frame directory has files. skipping video SzEbtbNSg04_70_85\n"
          ],
          "name": "stdout"
        },
        {
          "output_type": "stream",
          "text": [
            " 33%|███▎      | 649/1970 [02:03<00:06, 191.52it/s]"
          ],
          "name": "stderr"
        },
        {
          "output_type": "stream",
          "text": [
            "video frame directory has files. skipping video t3VPeyYL-fI_35_39\n",
            "video frame directory has files. skipping video SzEbtbNSg04_214_224\n",
            "video frame directory has files. skipping video t4aPGtx7e6k_0_10\n",
            "video frame directory has files. skipping video T6lPRKRpu9w_32_39\n",
            "video frame directory has files. skipping video 77iDIp40m9E_159_181\n",
            "video frame directory has files. skipping video sZf3VDsdDPM_107_114\n",
            "video frame directory has files. skipping video t4vP-cXXWkY_14_20\n",
            "video frame directory has files. skipping video t8Nf1MK7lts_0_10\n",
            "video frame directory has files. skipping video SZP3Jpbbwj0_52_59\n",
            "video frame directory has files. skipping video tBj4Ny19vfQ_54_59\n",
            "video frame directory has files. skipping video Td29-SApubM_48_57\n",
            "video frame directory has files. skipping video TF6LNmwDr_0_2_10\n",
            "video frame directory has files. skipping video 778mkceE0UQ_40_46\n",
            "video frame directory has files. skipping video tcxhOGyrCtI_15_21\n",
            "video frame directory has files. skipping video TgFmoZj3NoM_10_18\n",
            "video frame directory has files. skipping video Tied-t1fFsk_15_20\n",
            "video frame directory has files. skipping video TdYN7cePiRI_6_13\n",
            "video frame directory has files. skipping video tHLiYTS9Iz8_1_16\n",
            "video frame directory has files. skipping video TIubRrkku-4_1_10\n",
            "video frame directory has files. skipping video tmAX2PnRCY0_284_292\n",
            "video frame directory has files. skipping video tn1d5DmdMqY_15_28\n",
            "video frame directory has files. skipping video tIMDKdMnNYM_266_273\n",
            "video frame directory has files. skipping video tn-Hoz4KbkE_89_93\n",
            "video frame directory has files. skipping video Ted3imMggC0_48_58\n",
            "video frame directory has files. skipping video A_nCfAbXjoM_8_56\n",
            "video frame directory has files. skipping video TPD5wO_LEPU_2_6\n",
            "video frame directory has files. skipping video TvBsaMgqh5s_61_68\n",
            "video frame directory has files. skipping video tPkZK-PzeQE_10_28\n",
            "video frame directory has files. skipping video toE0QYZzJKE_1_8\n",
            "video frame directory has files. skipping video TPhpsIK7pDc_25_32\n",
            "video frame directory has files. skipping video TwQzFqBqgeA_0_10\n",
            "video frame directory has files. skipping video tqxRDVKtkSY_30_45\n",
            "video frame directory has files. skipping video TxzxPyfsSxY_0_10\n",
            "video frame directory has files. skipping video tYh4iDFgmEE_50_54\n",
            "video frame directory has files. skipping video tYh4iDFgmEE_10_14\n",
            "video frame directory has files. skipping video a0g7wtBkS98_34_42\n"
          ],
          "name": "stdout"
        },
        {
          "output_type": "stream",
          "text": [
            " 35%|███▌      | 695/1970 [02:03<00:06, 199.04it/s]"
          ],
          "name": "stderr"
        },
        {
          "output_type": "stream",
          "text": [
            "video frame directory has files. skipping video TZ860P4iTaM_10_24\n",
            "video frame directory has files. skipping video TsagxA4DKuc_28_41\n",
            "video frame directory has files. skipping video TZ860P4iTaM_11_20\n",
            "video frame directory has files. skipping video TZ860P4iTaM_15_28\n",
            "video frame directory has files. skipping video tzd3AYTZq0U_0_6\n",
            "video frame directory has files. skipping video uAaWVeaYLdQ_1_12\n",
            "video frame directory has files. skipping video tZmDWltBziM_42_47\n",
            "video frame directory has files. skipping video UbmZAe5u5FI_16_23\n",
            "video frame directory has files. skipping video u4kMN1jamdM_10_20\n",
            "video frame directory has files. skipping video tZmDWltBziM_70_80\n",
            "video frame directory has files. skipping video u4T76jsPin0_0_11\n",
            "video frame directory has files. skipping video UbmZAe5u5FI_26_33\n",
            "video frame directory has files. skipping video UbmZAe5u5FI_36_40\n",
            "video frame directory has files. skipping video u9E9HpuJQ7U_29_43\n",
            "video frame directory has files. skipping video UbmZAe5u5FI_111_115\n",
            "video frame directory has files. skipping video UbmZAe5u5FI_44_55\n",
            "video frame directory has files. skipping video Uc63MFVwfrs_360_372\n",
            "video frame directory has files. skipping video a8PAY4rvzRM_1_10\n",
            "video frame directory has files. skipping video UbmZAe5u5FI_60_70\n",
            "video frame directory has files. skipping video UbmZAe5u5FI_132_141\n",
            "video frame directory has files. skipping video UDwvax7K57c_28_35\n",
            "video frame directory has files. skipping video UbmZAe5u5FI_101_110\n",
            "video frame directory has files. skipping video Uc63MFVwfrs_355_372\n",
            "video frame directory has files. skipping video a28s_wyqkyc_68_77\n",
            "video frame directory has files. skipping video ufFT2BWh3BQ_0_8\n",
            "video frame directory has files. skipping video uGDuIyfJXXg_23_33\n",
            "video frame directory has files. skipping video UhI-p6AysWY_25_30\n",
            "video frame directory has files. skipping video ulPvRmNfXK4_96_100\n",
            "video frame directory has files. skipping video uH8ObB_dyOk_159_166\n",
            "video frame directory has files. skipping video UI3Cbj9fbxQ_2_23\n",
            "video frame directory has files. skipping video umjc1CkO4JA_290_305\n",
            "video frame directory has files. skipping video UnWgz-mVMXU_2_6\n",
            "video frame directory has files. skipping video aA05I5QaZnM_66_75\n",
            "video frame directory has files. skipping video uiLr9bdOL0M_23_30\n",
            "video frame directory has files. skipping video uO7Eysrs8_k_106_114\n",
            "video frame directory has files. skipping video uJPupV4oLZ0_4_12\n",
            "video frame directory has files. skipping video uppFvcVwqqY_5_15\n",
            "video frame directory has files. skipping video uO7Eysrs8_k_80_90\n",
            "video frame directory has files. skipping video UqBafx3iRKw_22_29\n",
            "video frame directory has files. skipping video uqVCk2oDpSE_194_200\n",
            "video frame directory has files. skipping video ul9Xvjt83eI_111_120\n",
            "video frame directory has files. skipping video urXDqw3S34I_12_17\n",
            "video frame directory has files. skipping video UoPU8F9mus8_258_262\n",
            "video frame directory has files. skipping video -uT_1VDvXok_8_15\n",
            "video frame directory has files. skipping video uy0HNWto0UY_18_25\n",
            "video frame directory has files. skipping video uVPnDJKt1M0_0_6\n",
            "video frame directory has files. skipping video v5CeGLEnVFE_0_8\n",
            "video frame directory has files. skipping video v_tGw5gwlEw_136_152\n",
            "video frame directory has files. skipping video ACK7SekJWts_140_150\n",
            "video frame directory has files. skipping video v-9Gx0gJmfo_26_32\n",
            "video frame directory has files. skipping video V4q5dQmpxIE_20_30\n",
            "video frame directory has files. skipping video V6Fxclwdfxc_56_66\n",
            "video frame directory has files. skipping video v-9Gx0gJmfo_91_99\n",
            "video frame directory has files. skipping video VahnQw2gTQY_203_210\n",
            "video frame directory has files. skipping video uZEGu-TA2cU_42_58\n",
            "video frame directory has files. skipping video V6Fxclwdfxc_1_11"
          ],
          "name": "stdout"
        },
        {
          "output_type": "stream",
          "text": [
            " 39%|███▊      | 760/1970 [02:03<00:04, 245.75it/s]"
          ],
          "name": "stderr"
        },
        {
          "output_type": "stream",
          "text": [
            "\n",
            "video frame directory has files. skipping video VahnQw2gTQY_274_280\n",
            "video frame directory has files. skipping video VahnQw2gTQY_315_320\n",
            "video frame directory has files. skipping video VF1K_6ZSOAY_23_28\n",
            "video frame directory has files. skipping video VahnQw2gTQY_288_293\n",
            "video frame directory has files. skipping video VahnQw2gTQY_322_327\n",
            "video frame directory has files. skipping video aDjNl5gs4nM_18_47\n",
            "video frame directory has files. skipping video VfqlfprZsaQ_75_85\n",
            "video frame directory has files. skipping video VahnQw2gTQY_298_305\n",
            "video frame directory has files. skipping video vDhEpqfhVI0_0_8\n",
            "video frame directory has files. skipping video VF1K_6ZSOAY_60_70\n",
            "video frame directory has files. skipping video -vg3vR86fu0_1_6\n",
            "video frame directory has files. skipping video ViWQUOGIaSU_9_16\n",
            "video frame directory has files. skipping video vE1gvaM3iAs_39_46\n",
            "video frame directory has files. skipping video VLBsAPZ2DDE_58_64\n",
            "video frame directory has files. skipping video VLBsAPZ2DDE_34_41\n",
            "video frame directory has files. skipping video vloe_60s_dk_0_9\n",
            "video frame directory has files. skipping video vRC9sBNt9vs_10_16\n",
            "video frame directory has files. skipping video aJoDt4DMkFU_118_124\n",
            "video frame directory has files. skipping video Vn0Xv0fb1z4_18_30\n",
            "video frame directory has files. skipping video VyBXcQ1v_cw_7_15\n",
            "video frame directory has files. skipping video vub04F8CWng_32_41\n",
            "video frame directory has files. skipping video VZ6H73nH7xs_27_33\n",
            "video frame directory has files. skipping video vuvpbeQak9Q_23_29\n",
            "video frame directory has files. skipping video vz71JKcpeUU_0_10\n",
            "video frame directory has files. skipping video VxM96IYzw0Q_2_15\n",
            "video frame directory has files. skipping video aK8liAv-28s_72_82\n",
            "video frame directory has files. skipping video vulNlhUI6m0_7_27\n",
            "video frame directory has files. skipping video W_iR4YVCxUY_8_15\n",
            "video frame directory has files. skipping video vZa13vJugGU_0_30\n",
            "video frame directory has files. skipping video W6_XuNhgtrM_2_5\n",
            "video frame directory has files. skipping video W8_63NiTENw_23_30\n",
            "video frame directory has files. skipping video W8l_ezoU8Lc_76_86\n",
            "video frame directory has files. skipping video W8l_ezoU8Lc_55_70\n",
            "video frame directory has files. skipping video aM-RcQj0a7I_37_55\n",
            "video frame directory has files. skipping video W8l_ezoU8Lc_156_162\n",
            "video frame directory has files. skipping video w28TljSqtW8_64_75\n",
            "video frame directory has files. skipping video w9mqbwOIkVg_6_12\n",
            "video frame directory has files. skipping video W1052h2rzoA_91_98\n",
            "video frame directory has files. skipping video -wa0umYJVGg_117_123\n",
            "video frame directory has files. skipping video W20Btaww6zc_134_139\n",
            "video frame directory has files. skipping video -wa0umYJVGg_100_115\n",
            "video frame directory has files. skipping video -wa0umYJVGg_23_41\n",
            "video '-wa0umYJVGg_168_176' converted successfully.\n",
            "video '-wa0umYJVGg_139_157' converted successfully.\n",
            "video '-wa0umYJVGg_271_276' converted successfully.\n"
          ],
          "name": "stdout"
        },
        {
          "output_type": "stream",
          "text": [
            " 39%|███▉      | 764/1970 [02:23<28:58,  1.44s/it] "
          ],
          "name": "stderr"
        },
        {
          "output_type": "stream",
          "text": [
            "video 'wFX6bXLbHW4_83_90' converted successfully.\n"
          ],
          "name": "stdout"
        },
        {
          "output_type": "stream",
          "text": [
            "\r 39%|███▉      | 765/1970 [02:25<36:03,  1.80s/it]"
          ],
          "name": "stderr"
        },
        {
          "output_type": "stream",
          "text": [
            "video '-wa0umYJVGg_286_290' converted successfully.\n",
            "video 'wgrrQwLdME8_0_10' converted successfully.\n"
          ],
          "name": "stdout"
        },
        {
          "output_type": "stream",
          "text": [
            " 39%|███▉      | 767/1970 [02:33<54:25,  2.71s/it]"
          ],
          "name": "stderr"
        },
        {
          "output_type": "stream",
          "text": [
            "video 'wgrrQwLdME8_66_74' converted successfully.\n"
          ],
          "name": "stdout"
        },
        {
          "output_type": "stream",
          "text": [
            "\r 39%|███▉      | 768/1970 [02:37<1:01:08,  3.05s/it]"
          ],
          "name": "stderr"
        },
        {
          "output_type": "stream",
          "text": [
            "video 'WFNXwor69-U_33_40' converted successfully.\n"
          ],
          "name": "stdout"
        },
        {
          "output_type": "stream",
          "text": [
            "\r 39%|███▉      | 769/1970 [02:40<1:00:21,  3.02s/it]"
          ],
          "name": "stderr"
        },
        {
          "output_type": "stream",
          "text": [
            "video 'wkgGxsuNVSg_34_41' converted successfully.\n"
          ],
          "name": "stdout"
        },
        {
          "output_type": "stream",
          "text": [
            "\r 39%|███▉      | 770/1970 [02:43<1:05:26,  3.27s/it]"
          ],
          "name": "stderr"
        },
        {
          "output_type": "stream",
          "text": [
            "video 'wFPmKChNrhU_3_11' converted successfully.\n"
          ],
          "name": "stdout"
        },
        {
          "output_type": "stream",
          "text": [
            "\r 39%|███▉      | 771/1970 [02:48<1:10:26,  3.52s/it]"
          ],
          "name": "stderr"
        },
        {
          "output_type": "stream",
          "text": [
            "video 'wjH72cZ0GLM_1_10' converted successfully.\n"
          ],
          "name": "stdout"
        },
        {
          "output_type": "stream",
          "text": [
            "\r 39%|███▉      | 772/1970 [02:57<1:48:13,  5.42s/it]"
          ],
          "name": "stderr"
        },
        {
          "output_type": "stream",
          "text": [
            "video 'aN0WsBcja_E_0_15' converted successfully.\n"
          ],
          "name": "stdout"
        },
        {
          "output_type": "stream",
          "text": [
            "\r 39%|███▉      | 773/1970 [03:01<1:38:58,  4.96s/it]"
          ],
          "name": "stderr"
        },
        {
          "output_type": "stream",
          "text": [
            "video 'wSwwS_0MKEc_68_78' converted successfully.\n"
          ],
          "name": "stdout"
        },
        {
          "output_type": "stream",
          "text": [
            "\r 39%|███▉      | 774/1970 [03:07<1:44:53,  5.26s/it]"
          ],
          "name": "stderr"
        },
        {
          "output_type": "stream",
          "text": [
            "video 'wn9rDTZj-m4_8_18' converted successfully.\n"
          ],
          "name": "stdout"
        },
        {
          "output_type": "stream",
          "text": [
            "\r 39%|███▉      | 775/1970 [03:10<1:28:37,  4.45s/it]"
          ],
          "name": "stderr"
        },
        {
          "output_type": "stream",
          "text": [
            "video 'WTf5EgVY5uU_18_23' converted successfully.\n"
          ],
          "name": "stdout"
        },
        {
          "output_type": "stream",
          "text": [
            "\r 39%|███▉      | 776/1970 [03:12<1:15:56,  3.82s/it]"
          ],
          "name": "stderr"
        },
        {
          "output_type": "stream",
          "text": [
            "video 'WTf5EgVY5uU_15_19' converted successfully.\n"
          ],
          "name": "stdout"
        },
        {
          "output_type": "stream",
          "text": [
            "\r 39%|███▉      | 777/1970 [03:15<1:08:55,  3.47s/it]"
          ],
          "name": "stderr"
        },
        {
          "output_type": "stream",
          "text": [
            "video 'Wnz3IevSNg0_1_8' converted successfully.\n"
          ],
          "name": "stdout"
        },
        {
          "output_type": "stream",
          "text": [
            "\r 39%|███▉      | 778/1970 [03:18<1:10:21,  3.54s/it]"
          ],
          "name": "stderr"
        },
        {
          "output_type": "stream",
          "text": [
            "video 'WTf5EgVY5uU_16_24' converted successfully.\n"
          ],
          "name": "stdout"
        },
        {
          "output_type": "stream",
          "text": [
            "\r 40%|███▉      | 779/1970 [03:21<1:06:25,  3.35s/it]"
          ],
          "name": "stderr"
        },
        {
          "output_type": "stream",
          "text": [
            "video 'wpUT0DNB3qs_9_19' converted successfully.\n"
          ],
          "name": "stdout"
        },
        {
          "output_type": "stream",
          "text": [
            "\r 40%|███▉      | 780/1970 [03:30<1:36:03,  4.84s/it]"
          ],
          "name": "stderr"
        },
        {
          "output_type": "stream",
          "text": [
            "video 'WTf5EgVY5uU_32_52' converted successfully.\n"
          ],
          "name": "stdout"
        },
        {
          "output_type": "stream",
          "text": [
            "\r 40%|███▉      | 781/1970 [03:32<1:18:11,  3.95s/it]"
          ],
          "name": "stderr"
        },
        {
          "output_type": "stream",
          "text": [
            "video 'WqwcWk1In_g_46_54' converted successfully.\n"
          ],
          "name": "stdout"
        },
        {
          "output_type": "stream",
          "text": [
            "\r 40%|███▉      | 782/1970 [03:33<1:05:56,  3.33s/it]"
          ],
          "name": "stderr"
        },
        {
          "output_type": "stream",
          "text": [
            "video 'WTf5EgVY5uU_54_58' converted successfully.\n"
          ],
          "name": "stdout"
        },
        {
          "output_type": "stream",
          "text": [
            "\r 40%|███▉      | 783/1970 [03:37<1:07:10,  3.40s/it]"
          ],
          "name": "stderr"
        },
        {
          "output_type": "stream",
          "text": [
            "video 'ao-9B8IV9_E_175_187' converted successfully.\n"
          ],
          "name": "stdout"
        },
        {
          "output_type": "stream",
          "text": [
            "\r 40%|███▉      | 784/1970 [03:38<55:54,  2.83s/it]  "
          ],
          "name": "stderr"
        },
        {
          "output_type": "stream",
          "text": [
            "video 'WTf5EgVY5uU_33_39' converted successfully.\n"
          ],
          "name": "stdout"
        },
        {
          "output_type": "stream",
          "text": [
            "\r 40%|███▉      | 785/1970 [03:41<51:48,  2.62s/it]"
          ],
          "name": "stderr"
        },
        {
          "output_type": "stream",
          "text": [
            "video 'WTf5EgVY5uU_66_75' converted successfully.\n"
          ],
          "name": "stdout"
        },
        {
          "output_type": "stream",
          "text": [
            "\r 40%|███▉      | 786/1970 [03:43<48:17,  2.45s/it]"
          ],
          "name": "stderr"
        },
        {
          "output_type": "stream",
          "text": [
            "video 'WTf5EgVY5uU_76_83' converted successfully.\n"
          ],
          "name": "stdout"
        },
        {
          "output_type": "stream",
          "text": [
            "\r 40%|███▉      | 787/1970 [03:47<59:01,  2.99s/it]"
          ],
          "name": "stderr"
        },
        {
          "output_type": "stream",
          "text": [
            "video 'WTf5EgVY5uU_58_76' converted successfully.\n"
          ],
          "name": "stdout"
        },
        {
          "output_type": "stream",
          "text": [
            "\r 40%|████      | 788/1970 [03:48<47:32,  2.41s/it]"
          ],
          "name": "stderr"
        },
        {
          "output_type": "stream",
          "text": [
            "video 'WTf5EgVY5uU_104_108' converted successfully.\n"
          ],
          "name": "stdout"
        },
        {
          "output_type": "stream",
          "text": [
            "\r 40%|████      | 789/1970 [03:50<46:38,  2.37s/it]"
          ],
          "name": "stderr"
        },
        {
          "output_type": "stream",
          "text": [
            "video 'WTf5EgVY5uU_108_116' converted successfully.\n"
          ],
          "name": "stdout"
        },
        {
          "output_type": "stream",
          "text": [
            "\r 40%|████      | 790/1970 [03:52<40:45,  2.07s/it]"
          ],
          "name": "stderr"
        },
        {
          "output_type": "stream",
          "text": [
            "video 'WTf5EgVY5uU_100_104' converted successfully.\n"
          ],
          "name": "stdout"
        },
        {
          "output_type": "stream",
          "text": [
            "\r 40%|████      | 791/1970 [03:53<35:02,  1.78s/it]"
          ],
          "name": "stderr"
        },
        {
          "output_type": "stream",
          "text": [
            "video 'WTf5EgVY5uU_94_98' converted successfully.\n"
          ],
          "name": "stdout"
        },
        {
          "output_type": "stream",
          "text": [
            "\r 40%|████      | 792/1970 [03:55<36:26,  1.86s/it]"
          ],
          "name": "stderr"
        },
        {
          "output_type": "stream",
          "text": [
            "video 'WTf5EgVY5uU_98_104' converted successfully.\n"
          ],
          "name": "stdout"
        },
        {
          "output_type": "stream",
          "text": [
            "\r 40%|████      | 793/1970 [03:56<32:27,  1.65s/it]"
          ],
          "name": "stderr"
        },
        {
          "output_type": "stream",
          "text": [
            "video 'WTf5EgVY5uU_124_128' converted successfully.\n"
          ],
          "name": "stdout"
        },
        {
          "output_type": "stream",
          "text": [
            "\r 40%|████      | 794/1970 [03:58<32:22,  1.65s/it]"
          ],
          "name": "stderr"
        },
        {
          "output_type": "stream",
          "text": [
            "video 'WTf5EgVY5uU_130_135' converted successfully.\n",
            "video 'ApYvvQK7bBc_6_32' converted successfully.\n"
          ],
          "name": "stdout"
        },
        {
          "output_type": "stream",
          "text": [
            " 40%|████      | 796/1970 [04:09<1:07:56,  3.47s/it]"
          ],
          "name": "stderr"
        },
        {
          "output_type": "stream",
          "text": [
            "video 'WTf5EgVY5uU_121_135' converted successfully.\n"
          ],
          "name": "stdout"
        },
        {
          "output_type": "stream",
          "text": [
            "\r 40%|████      | 797/1970 [04:13<1:13:39,  3.77s/it]"
          ],
          "name": "stderr"
        },
        {
          "output_type": "stream",
          "text": [
            "video 'WTf5EgVY5uU_218_236' converted successfully.\n"
          ],
          "name": "stdout"
        },
        {
          "output_type": "stream",
          "text": [
            "\r 41%|████      | 798/1970 [04:16<1:11:01,  3.64s/it]"
          ],
          "name": "stderr"
        },
        {
          "output_type": "stream",
          "text": [
            "video 'aQWCKcg0VRU_321_339' converted successfully.\n"
          ],
          "name": "stdout"
        },
        {
          "output_type": "stream",
          "text": [
            "\r 41%|████      | 799/1970 [04:18<58:03,  2.97s/it]  "
          ],
          "name": "stderr"
        },
        {
          "output_type": "stream",
          "text": [
            "video 'WZTGqvbqOFE_28_34' converted successfully.\n"
          ],
          "name": "stdout"
        },
        {
          "output_type": "stream",
          "text": [
            "\r 41%|████      | 800/1970 [04:24<1:18:32,  4.03s/it]"
          ],
          "name": "stderr"
        },
        {
          "output_type": "stream",
          "text": [
            "video 'WTx-K045yQM_85_98' converted successfully.\n"
          ],
          "name": "stdout"
        },
        {
          "output_type": "stream",
          "text": [
            "\r 41%|████      | 801/1970 [04:26<1:06:46,  3.43s/it]"
          ],
          "name": "stderr"
        },
        {
          "output_type": "stream",
          "text": [
            "video 'x_7BrCQdVUs_172_177' converted successfully.\n"
          ],
          "name": "stdout"
        },
        {
          "output_type": "stream",
          "text": [
            "\r 41%|████      | 802/1970 [04:28<56:45,  2.92s/it]  "
          ],
          "name": "stderr"
        },
        {
          "output_type": "stream",
          "text": [
            "video 'Wv3u2q3oGeU_35_45' converted successfully.\n"
          ],
          "name": "stdout"
        },
        {
          "output_type": "stream",
          "text": [
            "\r 41%|████      | 803/1970 [04:31<55:39,  2.86s/it]"
          ],
          "name": "stderr"
        },
        {
          "output_type": "stream",
          "text": [
            "video 'WWf0Z6ak3Dg_5_15' converted successfully.\n"
          ],
          "name": "stdout"
        },
        {
          "output_type": "stream",
          "text": [
            "\r 41%|████      | 804/1970 [04:34<55:14,  2.84s/it]"
          ],
          "name": "stderr"
        },
        {
          "output_type": "stream",
          "text": [
            "video 'WV9K6MbLjHA_106_116' converted successfully.\n"
          ],
          "name": "stdout"
        },
        {
          "output_type": "stream",
          "text": [
            "\r 41%|████      | 805/1970 [04:38<1:01:45,  3.18s/it]"
          ],
          "name": "stderr"
        },
        {
          "output_type": "stream",
          "text": [
            "video 'auFXfsCzAvQ_1_15' converted successfully.\n"
          ],
          "name": "stdout"
        },
        {
          "output_type": "stream",
          "text": [
            "\r 41%|████      | 806/1970 [04:41<1:05:26,  3.37s/it]"
          ],
          "name": "stderr"
        },
        {
          "output_type": "stream",
          "text": [
            "video 'x_8RiVI6rH8_41_54' converted successfully.\n"
          ],
          "name": "stdout"
        },
        {
          "output_type": "stream",
          "text": [
            "\r 41%|████      | 807/1970 [04:43<57:34,  2.97s/it]  "
          ],
          "name": "stderr"
        },
        {
          "output_type": "stream",
          "text": [
            "video 'X98fLZHIzWQ_15_20' converted successfully.\n"
          ],
          "name": "stdout"
        },
        {
          "output_type": "stream",
          "text": [
            "\r 41%|████      | 808/1970 [04:46<56:38,  2.92s/it]"
          ],
          "name": "stderr"
        },
        {
          "output_type": "stream",
          "text": [
            "video 'X_NLV2KCnIE_60_70' converted successfully.\n"
          ],
          "name": "stdout"
        },
        {
          "output_type": "stream",
          "text": [
            "\r 41%|████      | 809/1970 [04:49<56:50,  2.94s/it]"
          ],
          "name": "stderr"
        },
        {
          "output_type": "stream",
          "text": [
            "video 'x8Ul09tk6zk_0_8' converted successfully.\n"
          ],
          "name": "stdout"
        },
        {
          "output_type": "stream",
          "text": [
            "\r 41%|████      | 810/1970 [04:51<52:37,  2.72s/it]"
          ],
          "name": "stderr"
        },
        {
          "output_type": "stream",
          "text": [
            "video 'X0UJaprpxrk_18_26' converted successfully.\n"
          ],
          "name": "stdout"
        },
        {
          "output_type": "stream",
          "text": [
            "\r 41%|████      | 811/1970 [04:54<53:55,  2.79s/it]"
          ],
          "name": "stderr"
        },
        {
          "output_type": "stream",
          "text": [
            "video 'xBePrplM4OA_6_18' converted successfully.\n"
          ],
          "name": "stdout"
        },
        {
          "output_type": "stream",
          "text": [
            "\r 41%|████      | 812/1970 [04:57<51:30,  2.67s/it]"
          ],
          "name": "stderr"
        },
        {
          "output_type": "stream",
          "text": [
            "video 'b4mJ3AQc-ag_30_34' converted successfully.\n"
          ],
          "name": "stdout"
        },
        {
          "output_type": "stream",
          "text": [
            "\r 41%|████▏     | 813/1970 [05:01<59:53,  3.11s/it]"
          ],
          "name": "stderr"
        },
        {
          "output_type": "stream",
          "text": [
            "video 'X4yzrIc072w_4_20' converted successfully.\n"
          ],
          "name": "stdout"
        },
        {
          "output_type": "stream",
          "text": [
            "\r 41%|████▏     | 814/1970 [05:04<1:00:05,  3.12s/it]"
          ],
          "name": "stderr"
        },
        {
          "output_type": "stream",
          "text": [
            "video 'X7sQq-Iu1gQ_12_22' converted successfully.\n"
          ],
          "name": "stdout"
        },
        {
          "output_type": "stream",
          "text": [
            "\r 41%|████▏     | 815/1970 [05:06<50:23,  2.62s/it]  "
          ],
          "name": "stderr"
        },
        {
          "output_type": "stream",
          "text": [
            "video 'xb-Nacm-pKc_78_82' converted successfully.\n"
          ],
          "name": "stdout"
        },
        {
          "output_type": "stream",
          "text": [
            "\r 41%|████▏     | 816/1970 [05:09<54:56,  2.86s/it]"
          ],
          "name": "stderr"
        },
        {
          "output_type": "stream",
          "text": [
            "video 'x68Djm_Q0GA_0_10' converted successfully.\n"
          ],
          "name": "stdout"
        },
        {
          "output_type": "stream",
          "text": [
            "\r 41%|████▏     | 817/1970 [05:11<50:57,  2.65s/it]"
          ],
          "name": "stderr"
        },
        {
          "output_type": "stream",
          "text": [
            "video 'xEDCfcMZlZY_91_100' converted successfully.\n"
          ],
          "name": "stdout"
        },
        {
          "output_type": "stream",
          "text": [
            "\r 42%|████▏     | 818/1970 [05:14<54:17,  2.83s/it]"
          ],
          "name": "stderr"
        },
        {
          "output_type": "stream",
          "text": [
            "video 'xBW_uR3kGr4_42_55' converted successfully.\n"
          ],
          "name": "stdout"
        },
        {
          "output_type": "stream",
          "text": [
            "\r 42%|████▏     | 819/1970 [05:16<48:21,  2.52s/it]"
          ],
          "name": "stderr"
        },
        {
          "output_type": "stream",
          "text": [
            "video 'XEOH3t5AYY0_22_29' converted successfully.\n"
          ],
          "name": "stdout"
        },
        {
          "output_type": "stream",
          "text": [
            "\r 42%|████▏     | 820/1970 [05:18<42:59,  2.24s/it]"
          ],
          "name": "stderr"
        },
        {
          "output_type": "stream",
          "text": [
            "video 'xCFCXzDUGjY_5_9' converted successfully.\n"
          ],
          "name": "stdout"
        },
        {
          "output_type": "stream",
          "text": [
            "\r 42%|████▏     | 821/1970 [05:23<58:30,  3.05s/it]"
          ],
          "name": "stderr"
        },
        {
          "output_type": "stream",
          "text": [
            "video 'xGdoi3W3Z4o_2_40' converted successfully.\n"
          ],
          "name": "stdout"
        },
        {
          "output_type": "stream",
          "text": [
            "\r 42%|████▏     | 822/1970 [05:25<56:07,  2.93s/it]"
          ],
          "name": "stderr"
        },
        {
          "output_type": "stream",
          "text": [
            "video 'xfRIRSWy0y0_10_20' converted successfully.\n"
          ],
          "name": "stdout"
        },
        {
          "output_type": "stream",
          "text": [
            "\r 42%|████▏     | 823/1970 [05:27<50:54,  2.66s/it]"
          ],
          "name": "stderr"
        },
        {
          "output_type": "stream",
          "text": [
            "video 'XdB0pVjFYoU_1_8' converted successfully.\n"
          ],
          "name": "stdout"
        },
        {
          "output_type": "stream",
          "text": [
            "\r 42%|████▏     | 824/1970 [05:29<43:03,  2.25s/it]"
          ],
          "name": "stderr"
        },
        {
          "output_type": "stream",
          "text": [
            "video 'xEDCfcMZlZY_37_41' converted successfully.\n"
          ],
          "name": "stdout"
        },
        {
          "output_type": "stream",
          "text": [
            "\r 42%|████▏     | 825/1970 [05:31<40:56,  2.15s/it]"
          ],
          "name": "stderr"
        },
        {
          "output_type": "stream",
          "text": [
            "video 'xgIIcPSh4EU_0_6' converted successfully.\n"
          ],
          "name": "stdout"
        },
        {
          "output_type": "stream",
          "text": [
            "\r 42%|████▏     | 826/1970 [05:33<43:53,  2.30s/it]"
          ],
          "name": "stderr"
        },
        {
          "output_type": "stream",
          "text": [
            "video 'Xh6rdpJNaf0_0_15' converted successfully.\n"
          ],
          "name": "stdout"
        },
        {
          "output_type": "stream",
          "text": [
            "\r 42%|████▏     | 827/1970 [05:36<47:36,  2.50s/it]"
          ],
          "name": "stderr"
        },
        {
          "output_type": "stream",
          "text": [
            "video 'XNzXXiE6qR4_0_10' converted successfully.\n"
          ],
          "name": "stdout"
        },
        {
          "output_type": "stream",
          "text": [
            "\r 42%|████▏     | 828/1970 [05:40<52:17,  2.75s/it]"
          ],
          "name": "stderr"
        },
        {
          "output_type": "stream",
          "text": [
            "video 'xPR0xFgCAZY_17_27' converted successfully.\n"
          ],
          "name": "stdout"
        },
        {
          "output_type": "stream",
          "text": [
            "\r 42%|████▏     | 829/1970 [05:43<57:26,  3.02s/it]"
          ],
          "name": "stderr"
        },
        {
          "output_type": "stream",
          "text": [
            "video 'xkNDE1JL6Z8_50_59' converted successfully.\n"
          ],
          "name": "stdout"
        },
        {
          "output_type": "stream",
          "text": [
            "\r 42%|████▏     | 830/1970 [05:46<57:07,  3.01s/it]"
          ],
          "name": "stderr"
        },
        {
          "output_type": "stream",
          "text": [
            "video 'xtbsD3PUua4_84_94' converted successfully.\n"
          ],
          "name": "stdout"
        },
        {
          "output_type": "stream",
          "text": [
            "\r 42%|████▏     | 831/1970 [05:48<49:44,  2.62s/it]"
          ],
          "name": "stderr"
        },
        {
          "output_type": "stream",
          "text": [
            "video 'xlPyHMkpaQY_1_7' converted successfully.\n"
          ],
          "name": "stdout"
        },
        {
          "output_type": "stream",
          "text": [
            "\r 42%|████▏     | 832/1970 [05:51<55:17,  2.92s/it]"
          ],
          "name": "stderr"
        },
        {
          "output_type": "stream",
          "text": [
            "video 'XOAgUVVwKEA_8_20' converted successfully.\n",
            "video 'xSmfK498DjI_1_20' converted successfully.\n"
          ],
          "name": "stdout"
        },
        {
          "output_type": "stream",
          "text": [
            " 42%|████▏     | 834/1970 [06:00<1:05:23,  3.45s/it]"
          ],
          "name": "stderr"
        },
        {
          "output_type": "stream",
          "text": [
            "video 'XNV7hKVu-Xg_40_47' converted successfully.\n"
          ],
          "name": "stdout"
        },
        {
          "output_type": "stream",
          "text": [
            "\r 42%|████▏     | 835/1970 [06:03<1:01:52,  3.27s/it]"
          ],
          "name": "stderr"
        },
        {
          "output_type": "stream",
          "text": [
            "video 'xOQn1z_oWDY_30_39' converted successfully.\n"
          ],
          "name": "stdout"
        },
        {
          "output_type": "stream",
          "text": [
            "\r 42%|████▏     | 836/1970 [06:05<57:44,  3.06s/it]  "
          ],
          "name": "stderr"
        },
        {
          "output_type": "stream",
          "text": [
            "video 'xtbsD3PUua4_174_185' converted successfully.\n"
          ],
          "name": "stdout"
        },
        {
          "output_type": "stream",
          "text": [
            "\r 42%|████▏     | 837/1970 [06:06<45:59,  2.44s/it]"
          ],
          "name": "stderr"
        },
        {
          "output_type": "stream",
          "text": [
            "video 'XtQdAPV2UZs_4_11' converted successfully.\n",
            "video 'B7mP4zoDMwM_0_17' converted successfully.\n"
          ],
          "name": "stdout"
        },
        {
          "output_type": "stream",
          "text": [
            " 43%|████▎     | 839/1970 [06:19<1:17:59,  4.14s/it]"
          ],
          "name": "stderr"
        },
        {
          "output_type": "stream",
          "text": [
            "video 'Xxcv5jvRmcg_39_46' converted successfully.\n"
          ],
          "name": "stdout"
        },
        {
          "output_type": "stream",
          "text": [
            "\r 43%|████▎     | 840/1970 [06:22<1:09:07,  3.67s/it]"
          ],
          "name": "stderr"
        },
        {
          "output_type": "stream",
          "text": [
            "video 'Xp6rxW4hFFo_32_40' converted successfully.\n"
          ],
          "name": "stdout"
        },
        {
          "output_type": "stream",
          "text": [
            "\r 43%|████▎     | 841/1970 [06:25<1:03:06,  3.35s/it]"
          ],
          "name": "stderr"
        },
        {
          "output_type": "stream",
          "text": [
            "video 'xTd_IdIcB4s_2_10' converted successfully.\n"
          ],
          "name": "stdout"
        },
        {
          "output_type": "stream",
          "text": [
            "\r 43%|████▎     | 842/1970 [06:29<1:07:45,  3.60s/it]"
          ],
          "name": "stderr"
        },
        {
          "output_type": "stream",
          "text": [
            "video 'Xwrl4htUPjo_22_38' converted successfully.\n"
          ],
          "name": "stdout"
        },
        {
          "output_type": "stream",
          "text": [
            "\r 43%|████▎     | 843/1970 [06:32<1:07:29,  3.59s/it]"
          ],
          "name": "stderr"
        },
        {
          "output_type": "stream",
          "text": [
            "video 'Xvy21KrDv8I_0_10' converted successfully.\n"
          ],
          "name": "stdout"
        },
        {
          "output_type": "stream",
          "text": [
            "\r 43%|████▎     | 844/1970 [06:34<54:10,  2.89s/it]  "
          ],
          "name": "stderr"
        },
        {
          "output_type": "stream",
          "text": [
            "video 'xxHx6s_DbUo_57_61' converted successfully.\n"
          ],
          "name": "stdout"
        },
        {
          "output_type": "stream",
          "text": [
            "\r 43%|████▎     | 845/1970 [06:35<46:06,  2.46s/it]"
          ],
          "name": "stderr"
        },
        {
          "output_type": "stream",
          "text": [
            "video 'xxHx6s_DbUo_32_36' converted successfully.\n"
          ],
          "name": "stdout"
        },
        {
          "output_type": "stream",
          "text": [
            "\r 43%|████▎     | 846/1970 [06:36<39:45,  2.12s/it]"
          ],
          "name": "stderr"
        },
        {
          "output_type": "stream",
          "text": [
            "video 'xxHx6s_DbUo_82_86' converted successfully.\n"
          ],
          "name": "stdout"
        },
        {
          "output_type": "stream",
          "text": [
            "\r 43%|████▎     | 847/1970 [06:42<59:15,  3.17s/it]"
          ],
          "name": "stderr"
        },
        {
          "output_type": "stream",
          "text": [
            "video 'b71bI0rH1g8_75_90' converted successfully.\n"
          ],
          "name": "stdout"
        },
        {
          "output_type": "stream",
          "text": [
            "\r 43%|████▎     | 848/1970 [06:43<48:17,  2.58s/it]"
          ],
          "name": "stderr"
        },
        {
          "output_type": "stream",
          "text": [
            "video 'xxHx6s_DbUo_36_40' converted successfully.\n"
          ],
          "name": "stdout"
        },
        {
          "output_type": "stream",
          "text": [
            "\r 43%|████▎     | 849/1970 [06:45<43:19,  2.32s/it]"
          ],
          "name": "stderr"
        },
        {
          "output_type": "stream",
          "text": [
            "video 'xxHx6s_DbUo_121_128' converted successfully.\n"
          ],
          "name": "stdout"
        },
        {
          "output_type": "stream",
          "text": [
            "\r 43%|████▎     | 850/1970 [06:46<37:56,  2.03s/it]"
          ],
          "name": "stderr"
        },
        {
          "output_type": "stream",
          "text": [
            "video 'xxHx6s_DbUo_98_101' converted successfully.\n"
          ],
          "name": "stdout"
        },
        {
          "output_type": "stream",
          "text": [
            "\r 43%|████▎     | 851/1970 [06:48<33:36,  1.80s/it]"
          ],
          "name": "stderr"
        },
        {
          "output_type": "stream",
          "text": [
            "video 'xxHx6s_DbUo_41_44' converted successfully.\n"
          ],
          "name": "stdout"
        },
        {
          "output_type": "stream",
          "text": [
            "\r 43%|████▎     | 852/1970 [06:49<32:05,  1.72s/it]"
          ],
          "name": "stderr"
        },
        {
          "output_type": "stream",
          "text": [
            "video 'xxHx6s_DbUo_162_165' converted successfully.\n"
          ],
          "name": "stdout"
        },
        {
          "output_type": "stream",
          "text": [
            "\r 43%|████▎     | 853/1970 [06:50<29:28,  1.58s/it]"
          ],
          "name": "stderr"
        },
        {
          "output_type": "stream",
          "text": [
            "video 'xxHx6s_DbUo_158_161' converted successfully.\n"
          ],
          "name": "stdout"
        },
        {
          "output_type": "stream",
          "text": [
            "\r 43%|████▎     | 854/1970 [06:52<31:28,  1.69s/it]"
          ],
          "name": "stderr"
        },
        {
          "output_type": "stream",
          "text": [
            "video 'xxHx6s_DbUo_49_56' converted successfully.\n"
          ],
          "name": "stdout"
        },
        {
          "output_type": "stream",
          "text": [
            "\r 43%|████▎     | 855/1970 [06:54<28:37,  1.54s/it]"
          ],
          "name": "stderr"
        },
        {
          "output_type": "stream",
          "text": [
            "video 'xxHx6s_DbUo_173_177' converted successfully.\n"
          ],
          "name": "stdout"
        },
        {
          "output_type": "stream",
          "text": [
            "\r 43%|████▎     | 856/1970 [06:55<27:15,  1.47s/it]"
          ],
          "name": "stderr"
        },
        {
          "output_type": "stream",
          "text": [
            "video 'xxHx6s_DbUo_182_186' converted successfully.\n"
          ],
          "name": "stdout"
        },
        {
          "output_type": "stream",
          "text": [
            "\r 44%|████▎     | 857/1970 [06:58<38:43,  2.09s/it]"
          ],
          "name": "stderr"
        },
        {
          "output_type": "stream",
          "text": [
            "video 'BAf3LXFUaGs_28_38' converted successfully.\n"
          ],
          "name": "stdout"
        },
        {
          "output_type": "stream",
          "text": [
            "\r 44%|████▎     | 858/1970 [07:00<36:46,  1.98s/it]"
          ],
          "name": "stderr"
        },
        {
          "output_type": "stream",
          "text": [
            "video 'xxHx6s_DbUo_216_222' converted successfully.\n"
          ],
          "name": "stdout"
        },
        {
          "output_type": "stream",
          "text": [
            "\r 44%|████▎     | 859/1970 [07:03<40:37,  2.19s/it]"
          ],
          "name": "stderr"
        },
        {
          "output_type": "stream",
          "text": [
            "video 'XZ0Ch_ClBfo_120_127' converted successfully.\n"
          ],
          "name": "stdout"
        },
        {
          "output_type": "stream",
          "text": [
            "\r 44%|████▎     | 860/1970 [07:04<37:37,  2.03s/it]"
          ],
          "name": "stderr"
        },
        {
          "output_type": "stream",
          "text": [
            "video 'xxHx6s_DbUo_202_207' converted successfully.\n"
          ],
          "name": "stdout"
        },
        {
          "output_type": "stream",
          "text": [
            "\r 44%|████▎     | 861/1970 [07:06<34:45,  1.88s/it]"
          ],
          "name": "stderr"
        },
        {
          "output_type": "stream",
          "text": [
            "video 'XzCcRzEa83U_1_8' converted successfully.\n"
          ],
          "name": "stdout"
        },
        {
          "output_type": "stream",
          "text": [
            "\r 44%|████▍     | 862/1970 [07:08<36:20,  1.97s/it]"
          ],
          "name": "stderr"
        },
        {
          "output_type": "stream",
          "text": [
            "video 'xxHx6s_DbUo_240_248' converted successfully.\n"
          ],
          "name": "stdout"
        },
        {
          "output_type": "stream",
          "text": [
            "\r 44%|████▍     | 863/1970 [07:10<33:12,  1.80s/it]"
          ],
          "name": "stderr"
        },
        {
          "output_type": "stream",
          "text": [
            "video 'XzCcRzEa83U_39_46' converted successfully.\n"
          ],
          "name": "stdout"
        },
        {
          "output_type": "stream",
          "text": [
            "\r 44%|████▍     | 864/1970 [07:11<31:09,  1.69s/it]"
          ],
          "name": "stderr"
        },
        {
          "output_type": "stream",
          "text": [
            "video 'Y4gaJn0wlDE_0_10' converted successfully.\n"
          ],
          "name": "stdout"
        },
        {
          "output_type": "stream",
          "text": [
            "\r 44%|████▍     | 865/1970 [07:12<29:50,  1.62s/it]"
          ],
          "name": "stderr"
        },
        {
          "output_type": "stream",
          "text": [
            "video 'xXlWsBhFvis_6_10' converted successfully.\n"
          ],
          "name": "stdout"
        },
        {
          "output_type": "stream",
          "text": [
            "\r 44%|████▍     | 866/1970 [07:18<50:34,  2.75s/it]"
          ],
          "name": "stderr"
        },
        {
          "output_type": "stream",
          "text": [
            "video 'b-d-CxHaKGU_10_30' converted successfully.\n"
          ],
          "name": "stdout"
        },
        {
          "output_type": "stream",
          "text": [
            "\r 44%|████▍     | 867/1970 [07:21<53:39,  2.92s/it]"
          ],
          "name": "stderr"
        },
        {
          "output_type": "stream",
          "text": [
            "video 'xy9LLUUZ6ic_50_60' converted successfully.\n"
          ],
          "name": "stdout"
        },
        {
          "output_type": "stream",
          "text": [
            "\r 44%|████▍     | 868/1970 [07:23<46:43,  2.54s/it]"
          ],
          "name": "stderr"
        },
        {
          "output_type": "stream",
          "text": [
            "video 'y8SDRc4IOjs_94_99' converted successfully.\n"
          ],
          "name": "stdout"
        },
        {
          "output_type": "stream",
          "text": [
            "\r 44%|████▍     | 869/1970 [07:24<38:51,  2.12s/it]"
          ],
          "name": "stderr"
        },
        {
          "output_type": "stream",
          "text": [
            "video 'yAD_TS5L2d4_4_11' converted successfully.\n"
          ],
          "name": "stdout"
        },
        {
          "output_type": "stream",
          "text": [
            "\r 44%|████▍     | 870/1970 [07:25<34:30,  1.88s/it]"
          ],
          "name": "stderr"
        },
        {
          "output_type": "stream",
          "text": [
            "video 'Ya-MkA187c8_36_45' converted successfully.\n"
          ],
          "name": "stdout"
        },
        {
          "output_type": "stream",
          "text": [
            "\r 44%|████▍     | 871/1970 [07:28<41:00,  2.24s/it]"
          ],
          "name": "stderr"
        },
        {
          "output_type": "stream",
          "text": [
            "video 'YAud4eS3DoA_54_65' converted successfully.\n"
          ],
          "name": "stdout"
        },
        {
          "output_type": "stream",
          "text": [
            "\r 44%|████▍     | 872/1970 [07:30<37:20,  2.04s/it]"
          ],
          "name": "stderr"
        },
        {
          "output_type": "stream",
          "text": [
            "video 'yg4aNiO1JnI_111_114' converted successfully.\n"
          ],
          "name": "stdout"
        },
        {
          "output_type": "stream",
          "text": [
            "\r 44%|████▍     | 873/1970 [07:32<39:50,  2.18s/it]"
          ],
          "name": "stderr"
        },
        {
          "output_type": "stream",
          "text": [
            "video 'ybVb3t560oY_0_9' converted successfully.\n",
            "video 'BE_uxYK9uz0_150_168' converted successfully.\n"
          ],
          "name": "stdout"
        },
        {
          "output_type": "stream",
          "text": [
            " 44%|████▍     | 875/1970 [07:40<54:45,  3.00s/it]"
          ],
          "name": "stderr"
        },
        {
          "output_type": "stream",
          "text": [
            "video 'Yh2N6ZtRBdU_110_120' converted successfully.\n"
          ],
          "name": "stdout"
        },
        {
          "output_type": "stream",
          "text": [
            "\r 44%|████▍     | 876/1970 [07:43<52:18,  2.87s/it]"
          ],
          "name": "stderr"
        },
        {
          "output_type": "stream",
          "text": [
            "video '-YI0cxuNcq8_262_272' converted successfully.\n"
          ],
          "name": "stdout"
        },
        {
          "output_type": "stream",
          "text": [
            "\r 45%|████▍     | 877/1970 [07:45<49:55,  2.74s/it]"
          ],
          "name": "stderr"
        },
        {
          "output_type": "stream",
          "text": [
            "video 'yBK02O1Oewc_20_35' converted successfully.\n"
          ],
          "name": "stdout"
        },
        {
          "output_type": "stream",
          "text": [
            "\r 45%|████▍     | 878/1970 [07:48<49:42,  2.73s/it]"
          ],
          "name": "stderr"
        },
        {
          "output_type": "stream",
          "text": [
            "video 'ymC2bNi6-Is_9_19' converted successfully.\n"
          ],
          "name": "stdout"
        },
        {
          "output_type": "stream",
          "text": [
            "\r 45%|████▍     | 879/1970 [07:49<40:09,  2.21s/it]"
          ],
          "name": "stderr"
        },
        {
          "output_type": "stream",
          "text": [
            "video 'yfMTsYcLt10_0_7' converted successfully.\n"
          ],
          "name": "stdout"
        },
        {
          "output_type": "stream",
          "text": [
            "\r 45%|████▍     | 880/1970 [07:51<37:44,  2.08s/it]"
          ],
          "name": "stderr"
        },
        {
          "output_type": "stream",
          "text": [
            "video 'yC4eEuURH8c_19_28' converted successfully.\n"
          ],
          "name": "stdout"
        },
        {
          "output_type": "stream",
          "text": [
            "\r 45%|████▍     | 881/1970 [07:53<37:55,  2.09s/it]"
          ],
          "name": "stderr"
        },
        {
          "output_type": "stream",
          "text": [
            "video 'yd8jh9QYfEs_4_10' converted successfully.\n"
          ],
          "name": "stdout"
        },
        {
          "output_type": "stream",
          "text": [
            "\r 45%|████▍     | 882/1970 [07:56<41:45,  2.30s/it]"
          ],
          "name": "stderr"
        },
        {
          "output_type": "stream",
          "text": [
            "video 'Ylb4pnW-jP4_102_113' converted successfully.\n"
          ],
          "name": "stdout"
        },
        {
          "output_type": "stream",
          "text": [
            "\r 45%|████▍     | 883/1970 [07:58<40:19,  2.23s/it]"
          ],
          "name": "stderr"
        },
        {
          "output_type": "stream",
          "text": [
            "video 'YndZ9YulpTo_61_76' converted successfully.\n"
          ],
          "name": "stdout"
        },
        {
          "output_type": "stream",
          "text": [
            "\r 45%|████▍     | 884/1970 [07:59<33:14,  1.84s/it]"
          ],
          "name": "stderr"
        },
        {
          "output_type": "stream",
          "text": [
            "video 'yREFkmrrYiw_51_57' converted successfully.\n"
          ],
          "name": "stdout"
        },
        {
          "output_type": "stream",
          "text": [
            "\r 45%|████▍     | 885/1970 [08:01<37:36,  2.08s/it]"
          ],
          "name": "stderr"
        },
        {
          "output_type": "stream",
          "text": [
            "video 'yId1rg5-ac0_40_50' converted successfully.\n"
          ],
          "name": "stdout"
        },
        {
          "output_type": "stream",
          "text": [
            "\r 45%|████▍     | 886/1970 [08:06<53:04,  2.94s/it]"
          ],
          "name": "stderr"
        },
        {
          "output_type": "stream",
          "text": [
            "video 'bJJndejsUWc_88_98' converted successfully.\n"
          ],
          "name": "stdout"
        },
        {
          "output_type": "stream",
          "text": [
            "\r 45%|████▌     | 887/1970 [08:09<52:30,  2.91s/it]"
          ],
          "name": "stderr"
        },
        {
          "output_type": "stream",
          "text": [
            "video 'yOnRm3TP6hM_0_12' converted successfully.\n"
          ],
          "name": "stdout"
        },
        {
          "output_type": "stream",
          "text": [
            "\r 45%|████▌     | 888/1970 [08:11<44:40,  2.48s/it]"
          ],
          "name": "stderr"
        },
        {
          "output_type": "stream",
          "text": [
            "video 'yNy9jTeolUk_8_12' converted successfully.\n"
          ],
          "name": "stdout"
        },
        {
          "output_type": "stream",
          "text": [
            "\r 45%|████▌     | 889/1970 [08:12<40:56,  2.27s/it]"
          ],
          "name": "stderr"
        },
        {
          "output_type": "stream",
          "text": [
            "video 'YRSOc193Pxc_68_73' converted successfully.\n"
          ],
          "name": "stdout"
        },
        {
          "output_type": "stream",
          "text": [
            "\r 45%|████▌     | 890/1970 [08:15<41:24,  2.30s/it]"
          ],
          "name": "stderr"
        },
        {
          "output_type": "stream",
          "text": [
            "video 'YS1mzzhmWWA_9_16' converted successfully.\n"
          ],
          "name": "stdout"
        },
        {
          "output_type": "stream",
          "text": [
            "\r 45%|████▌     | 891/1970 [08:19<49:54,  2.78s/it]"
          ],
          "name": "stderr"
        },
        {
          "output_type": "stream",
          "text": [
            "video 'yU5sxW9bErQ_0_17' converted successfully.\n"
          ],
          "name": "stdout"
        },
        {
          "output_type": "stream",
          "text": [
            "\r 45%|████▌     | 892/1970 [08:21<47:00,  2.62s/it]"
          ],
          "name": "stderr"
        },
        {
          "output_type": "stream",
          "text": [
            "video 'ywHBKayhyvQ_19_28' converted successfully.\n"
          ],
          "name": "stdout"
        },
        {
          "output_type": "stream",
          "text": [
            "\r 45%|████▌     | 893/1970 [08:24<47:15,  2.63s/it]"
          ],
          "name": "stderr"
        },
        {
          "output_type": "stream",
          "text": [
            "video 'YXixZrSxefk_6_15' converted successfully.\n"
          ],
          "name": "stdout"
        },
        {
          "output_type": "stream",
          "text": [
            "\r 45%|████▌     | 894/1970 [08:25<41:38,  2.32s/it]"
          ],
          "name": "stderr"
        },
        {
          "output_type": "stream",
          "text": [
            "video 'ywMLb2VfHbI_13_20' converted successfully.\n"
          ],
          "name": "stdout"
        },
        {
          "output_type": "stream",
          "text": [
            "\r 45%|████▌     | 895/1970 [08:28<46:06,  2.57s/it]"
          ],
          "name": "stderr"
        },
        {
          "output_type": "stream",
          "text": [
            "video 'YXixZrSxefk_49_59' converted successfully.\n"
          ],
          "name": "stdout"
        },
        {
          "output_type": "stream",
          "text": [
            "\r 45%|████▌     | 896/1970 [08:30<38:26,  2.15s/it]"
          ],
          "name": "stderr"
        },
        {
          "output_type": "stream",
          "text": [
            "video 'z0zb--BOhDY_16_22' converted successfully.\n"
          ],
          "name": "stdout"
        },
        {
          "output_type": "stream",
          "text": [
            "\r 46%|████▌     | 897/1970 [08:32<37:25,  2.09s/it]"
          ],
          "name": "stderr"
        },
        {
          "output_type": "stream",
          "text": [
            "video 'z_qf7tOnHVg_81_89' converted successfully.\n"
          ],
          "name": "stdout"
        },
        {
          "output_type": "stream",
          "text": [
            "\r 46%|████▌     | 898/1970 [08:34<37:14,  2.08s/it]"
          ],
          "name": "stderr"
        },
        {
          "output_type": "stream",
          "text": [
            "video 'yYA7YXIKbg4_9_14' converted successfully.\n"
          ],
          "name": "stdout"
        },
        {
          "output_type": "stream",
          "text": [
            "\r 46%|████▌     | 899/1970 [08:35<36:03,  2.02s/it]"
          ],
          "name": "stderr"
        },
        {
          "output_type": "stream",
          "text": [
            "video 'Z3rj9LbCOaM_0_12' converted successfully.\n"
          ],
          "name": "stdout"
        },
        {
          "output_type": "stream",
          "text": [
            "\r 46%|████▌     | 900/1970 [08:38<39:40,  2.23s/it]"
          ],
          "name": "stderr"
        },
        {
          "output_type": "stream",
          "text": [
            "video '-bjOB4zS0uE_100_105' converted successfully.\n"
          ],
          "name": "stdout"
        },
        {
          "output_type": "stream",
          "text": [
            "\r 46%|████▌     | 901/1970 [08:41<42:02,  2.36s/it]"
          ],
          "name": "stderr"
        },
        {
          "output_type": "stream",
          "text": [
            "video 'z1PEyzk4ADU_8_18' converted successfully.\n"
          ],
          "name": "stdout"
        },
        {
          "output_type": "stream",
          "text": [
            "\r 46%|████▌     | 902/1970 [08:43<39:15,  2.21s/it]"
          ],
          "name": "stderr"
        },
        {
          "output_type": "stream",
          "text": [
            "video 'YZ0-6hdQ0mU_0_3' converted successfully.\n"
          ],
          "name": "stdout"
        },
        {
          "output_type": "stream",
          "text": [
            "\r 46%|████▌     | 903/1970 [08:45<37:22,  2.10s/it]"
          ],
          "name": "stderr"
        },
        {
          "output_type": "stream",
          "text": [
            "video 'z2kUc8wp9l8_40_46' converted successfully.\n"
          ],
          "name": "stdout"
        },
        {
          "output_type": "stream",
          "text": [
            "\r 46%|████▌     | 904/1970 [08:48<43:03,  2.42s/it]"
          ],
          "name": "stderr"
        },
        {
          "output_type": "stream",
          "text": [
            "video 'Z3m9V8qPXhQ_13_24' converted successfully.\n"
          ],
          "name": "stdout"
        },
        {
          "output_type": "stream",
          "text": [
            "\r 46%|████▌     | 905/1970 [08:53<57:45,  3.25s/it]"
          ],
          "name": "stderr"
        },
        {
          "output_type": "stream",
          "text": [
            "video 'B-Lsf7ZKf5c_10_25' converted successfully.\n"
          ],
          "name": "stdout"
        },
        {
          "output_type": "stream",
          "text": [
            "\r 46%|████▌     | 906/1970 [08:55<49:56,  2.82s/it]"
          ],
          "name": "stderr"
        },
        {
          "output_type": "stream",
          "text": [
            "video 'Z3XarHZ3HpY_10_17' converted successfully.\n"
          ],
          "name": "stdout"
        },
        {
          "output_type": "stream",
          "text": [
            "\r 46%|████▌     | 907/1970 [08:58<55:04,  3.11s/it]"
          ],
          "name": "stderr"
        },
        {
          "output_type": "stream",
          "text": [
            "video 'z0Si1XxMibg_0_30' converted successfully.\n"
          ],
          "name": "stdout"
        },
        {
          "output_type": "stream",
          "text": [
            "\r 46%|████▌     | 908/1970 [09:01<50:45,  2.87s/it]"
          ],
          "name": "stderr"
        },
        {
          "output_type": "stream",
          "text": [
            "video 'Z19zFlPah-o_6_11' converted successfully.\n"
          ],
          "name": "stdout"
        },
        {
          "output_type": "stream",
          "text": [
            "\r 46%|████▌     | 909/1970 [09:03<45:56,  2.60s/it]"
          ],
          "name": "stderr"
        },
        {
          "output_type": "stream",
          "text": [
            "video 'Z8rTzW9Gb6Y_116_123' converted successfully.\n"
          ],
          "name": "stdout"
        },
        {
          "output_type": "stream",
          "text": [
            "\r 46%|████▌     | 910/1970 [09:05<43:17,  2.45s/it]"
          ],
          "name": "stderr"
        },
        {
          "output_type": "stream",
          "text": [
            "video 'z8dcUzdi2bw_3_16' converted successfully.\n"
          ],
          "name": "stdout"
        },
        {
          "output_type": "stream",
          "text": [
            "\r 46%|████▌     | 911/1970 [09:07<41:02,  2.33s/it]"
          ],
          "name": "stderr"
        },
        {
          "output_type": "stream",
          "text": [
            "video 'za-9mBZyNfQ_330_336' converted successfully.\n"
          ],
          "name": "stdout"
        },
        {
          "output_type": "stream",
          "text": [
            "\r 46%|████▋     | 912/1970 [09:10<43:35,  2.47s/it]"
          ],
          "name": "stderr"
        },
        {
          "output_type": "stream",
          "text": [
            "video 'Z-An1QQ66f0_13_25' converted successfully.\n"
          ],
          "name": "stdout"
        },
        {
          "output_type": "stream",
          "text": [
            "\r 46%|████▋     | 913/1970 [09:12<42:17,  2.40s/it]"
          ],
          "name": "stderr"
        },
        {
          "output_type": "stream",
          "text": [
            "video 'zbAk0gX7kas_16_24' converted successfully.\n"
          ],
          "name": "stdout"
        },
        {
          "output_type": "stream",
          "text": [
            "\r 46%|████▋     | 914/1970 [09:14<37:51,  2.15s/it]"
          ],
          "name": "stderr"
        },
        {
          "output_type": "stream",
          "text": [
            "video 'zBrC1GmA0Qg_26_33' converted successfully.\n"
          ],
          "name": "stdout"
        },
        {
          "output_type": "stream",
          "text": [
            "\r 46%|████▋     | 915/1970 [09:16<37:06,  2.11s/it]"
          ],
          "name": "stderr"
        },
        {
          "output_type": "stream",
          "text": [
            "video 'ZbzDGXEwtGc_6_15' converted successfully.\n"
          ],
          "name": "stdout"
        },
        {
          "output_type": "stream",
          "text": [
            "\r 46%|████▋     | 916/1970 [09:17<34:28,  1.96s/it]"
          ],
          "name": "stderr"
        },
        {
          "output_type": "stream",
          "text": [
            "video 'ZbtpcGi2DWY_56_62' converted successfully.\n"
          ],
          "name": "stdout"
        },
        {
          "output_type": "stream",
          "text": [
            "\r 47%|████▋     | 917/1970 [09:18<30:32,  1.74s/it]"
          ],
          "name": "stderr"
        },
        {
          "output_type": "stream",
          "text": [
            "video 'zCf8NWJ8kzA_47_52' converted successfully.\n",
            "video 'bmxIurBrW5s_51_70' converted successfully.\n"
          ],
          "name": "stdout"
        },
        {
          "output_type": "stream",
          "text": [
            " 47%|████▋     | 919/1970 [09:27<50:43,  2.90s/it]"
          ],
          "name": "stderr"
        },
        {
          "output_type": "stream",
          "text": [
            "video 'ZbtpcGi2DWY_161_170' converted successfully.\n"
          ],
          "name": "stdout"
        },
        {
          "output_type": "stream",
          "text": [
            " 48%|████▊     | 955/1970 [09:31<36:01,  2.13s/it]"
          ],
          "name": "stderr"
        },
        {
          "output_type": "stream",
          "text": [
            "video 'ZdNP0dXCx2I_78_90' converted successfully.\n",
            "video frame directory has files. skipping video gbUhorqLCzU_10_23\n",
            "video frame directory has files. skipping video gbbRwBZuhzI_26_40\n",
            "video frame directory has files. skipping video g9aZcaEg7iY_0_9\n",
            "video frame directory has files. skipping video ge7OOILJA6U_20_25\n",
            "video frame directory has files. skipping video gbW9f8xydks_0_10\n",
            "video frame directory has files. skipping video GEXqMH8I3_w_14_18\n",
            "video frame directory has files. skipping video ggic669elLM_200_215\n",
            "video frame directory has files. skipping video GEXqMH8I3_w_63_68\n",
            "video frame directory has files. skipping video 4cgzdXlJksU_83_90\n",
            "video frame directory has files. skipping video gCra4qOrjFw_1_17\n",
            "video frame directory has files. skipping video gHzws6FpuNE_10_12\n",
            "video frame directory has files. skipping video ggWzbEFC-RE_1_11\n",
            "video frame directory has files. skipping video gIvetX_oXeI_85_90\n",
            "video frame directory has files. skipping video giLxPCgLLqg_9_19\n",
            "video frame directory has files. skipping video gjVBEJGHrXk_26_38\n",
            "video frame directory has files. skipping video Gm1WnWVXYzQ_0_9\n",
            "video frame directory has files. skipping video glrijRGnmc0_211_215\n",
            "video frame directory has files. skipping video Gn4Iv5ARIXc_83_93\n",
            "video frame directory has files. skipping video gMqKUPeTAkg_17_30\n",
            "video frame directory has files. skipping video gnEE6oWoz7U_124_132\n",
            "video frame directory has files. skipping video Gn4Iv5ARIXc_37_40\n",
            "video frame directory has files. skipping video gp8XjWSoP2k_0_10\n",
            "video frame directory has files. skipping video 4eJJF11bIxM_1_9\n",
            "video frame directory has files. skipping video GPT4vUwlrXY_1_10\n",
            "video frame directory has files. skipping video GnwKcpfr_ng_10_20\n",
            "video frame directory has files. skipping video gqSOvUH_njE_151_155\n",
            "video frame directory has files. skipping video GopEjCCu2jo_2_9\n",
            "video frame directory has files. skipping video gqxpGOHUH9k_113_119\n",
            "video frame directory has files. skipping video GPyFZMJ5Dow_56_70\n",
            "video frame directory has files. skipping video 4ikH9ZRcF2Q_89_105\n",
            "video frame directory has files. skipping video gtixLEvO2Us_0_6\n",
            "video frame directory has files. skipping video GWQTAe64m-0_91_94\n",
            "video frame directory has files. skipping video gtIz1u8g1F0_3_13\n",
            "video frame directory has files. skipping video GWQTAe64m-0_160_166\n",
            "video frame directory has files. skipping video gvVsgOK1iJw_32_38\n",
            "video frame directory has files. skipping video gWRRHV7DLV0_21_31\n",
            "video frame directory has files. skipping video Gw0FU733zzg_58_66\n",
            "video frame directory has files. skipping video GyIs9B3A1Z0_0_7\n",
            "video frame directory has files. skipping video GtrTNldo0LI_33_46\n",
            "video frame directory has files. skipping video h0JvF9vpqx8_36_42\n"
          ],
          "name": "stdout"
        },
        {
          "output_type": "stream",
          "text": [
            " 51%|█████     | 999/1970 [09:35<18:14,  1.13s/it]"
          ],
          "name": "stderr"
        },
        {
          "output_type": "stream",
          "text": [
            "video '4lXdVS697DQ_10_25' converted successfully.\n",
            "video frame directory has files. skipping video gyOVZz7kXyM_1_10\n",
            "video frame directory has files. skipping video H1Bok7Dg7g8_21_26\n",
            "video frame directory has files. skipping video H7vezmDeZaw_2_7\n",
            "video frame directory has files. skipping video GY5Dl00LrEI_2_13\n",
            "video frame directory has files. skipping video h0JvF9vpqx8_213_223\n",
            "video frame directory has files. skipping video H9Oplnr8WcE_24_34\n",
            "video frame directory has files. skipping video HBCJYhUjVf0_0_9\n",
            "video frame directory has files. skipping video HDcIB1e9s5A_28_34\n",
            "video frame directory has files. skipping video 4PayIIIOeIs_230_238\n",
            "video frame directory has files. skipping video hbE29pZh76I_3_8\n",
            "video frame directory has files. skipping video haJn6k5zVnE_1_23\n",
            "video frame directory has files. skipping video hcCLIzzB1jQ_1_7\n",
            "video frame directory has files. skipping video HAjwXjwN9-A_16_24\n",
            "video frame directory has files. skipping video Hd-NeIhbYGc_28_31\n",
            "video frame directory has files. skipping video hEOGZoYSvT4_82_86\n",
            "video frame directory has files. skipping video hJFBXHtxKIc_163_168\n",
            "video frame directory has files. skipping video hFERWnoc-nU_0_12\n",
            "video frame directory has files. skipping video He7Ge7Sogrk_47_70\n",
            "video frame directory has files. skipping video 4R-tumAGrtU_12_22\n",
            "video frame directory has files. skipping video hJFBXHtxKIc_204_209\n",
            "video frame directory has files. skipping video hJFBXHtxKIc_118_123\n",
            "video frame directory has files. skipping video hJFBXHtxKIc_225_230\n",
            "video frame directory has files. skipping video hJFBXHtxKIc_298_303\n",
            "video frame directory has files. skipping video hJFBXHtxKIc_286_291\n",
            "video frame directory has files. skipping video HJHPB_Y8GZE_22_28\n",
            "video frame directory has files. skipping video hJFBXHtxKIc_310_315\n",
            "video frame directory has files. skipping video HJHPB_Y8GZE_259_263\n",
            "video frame directory has files. skipping video 05gNigkqfNU_11_23\n",
            "video frame directory has files. skipping video hJFBXHtxKIc_317_322\n",
            "video frame directory has files. skipping video hJuqBDw_TT4_105_112\n",
            "video frame directory has files. skipping video hJuqBDw_TT4_14_25\n",
            "video frame directory has files. skipping video hkkmKk9LcQk_36_43\n",
            "video frame directory has files. skipping video hksxtbcS780_7_14\n",
            "video frame directory has files. skipping video hNECyt6Bo0A_5_10\n",
            "video frame directory has files. skipping video hM3jzlyNIpc_0_10\n",
            "video frame directory has files. skipping video hNOzHvsEmg4_31_36\n",
            "video frame directory has files. skipping video HM-ZDoRWiH4_0_5\n",
            "video frame directory has files. skipping video HkuOqWzXYVg_0_12\n",
            "video frame directory has files. skipping video 5AEldiUP408_65_71\n",
            "video frame directory has files. skipping video hNPZmTlY_3Q_0_8\n",
            "video frame directory has files. skipping video HN-ccxID8IM_3_10\n",
            "video frame directory has files. skipping video hoinj6vyQ2g_8_16\n",
            "video frame directory has files. skipping video HPFLN5azwtA_56_63\n",
            "video frame directory has files. skipping video htry5uxX0-Y_45_52\n",
            "video frame directory has files. skipping video HqbVbPvlDoM_0_11\n",
            "video frame directory has files. skipping video HV12kTtdTT4_5_14\n",
            "video frame directory has files. skipping video HO_ovIrLWfQ_1_11\n",
            "video frame directory has files. skipping video hReROJQpSow_24_30\n",
            "video frame directory has files. skipping video 5CU2JhYM8tY_14_45\n",
            "video frame directory has files. skipping video HVR7KpItLfA_62_70\n",
            "video frame directory has files. skipping video hPyU5KjpWVc_0_35\n",
            "video frame directory has files. skipping video ht2oIYBSoI0_9_21\n",
            "video frame directory has files. skipping video hW8TKz2Aea4_5_12\n",
            "video frame directory has files. skipping video HZqscSWtHmo_24_34\n",
            "video frame directory has files. skipping video hW8TKz2Aea4_40_50\n",
            "video frame directory has files. skipping video hxZ-5wELSJM_0_12\n",
            "video frame directory has files. skipping video hXn7D6-AAMA_0_9\n",
            "video frame directory has files. skipping video HzYtvOYOEoU_21_32\n",
            "video frame directory has files. skipping video HYbEf-JKZnA_13_26\n",
            "video frame directory has files. skipping video i2GgBwlwV0c_24_31\n",
            "video frame directory has files. skipping video HypgcCT1r68_38_46\n"
          ],
          "name": "stdout"
        },
        {
          "output_type": "stream",
          "text": [
            " 54%|█████▍    | 1060/1970 [09:35<08:24,  1.80it/s]"
          ],
          "name": "stderr"
        },
        {
          "output_type": "stream",
          "text": [
            "video frame directory has files. skipping video I_-Nb_0RxpM_1_15\n",
            "video frame directory has files. skipping video 5dv8MSWlxoQ_10_40\n",
            "video frame directory has files. skipping video HZ-BuDDmvVk_0_10\n",
            "video frame directory has files. skipping video i2sRHf9m5KM_28_42\n",
            "video frame directory has files. skipping video IAvBB2lv8iw_142_148\n",
            "video frame directory has files. skipping video I9gLTZY1ouc_142_147\n",
            "video frame directory has files. skipping video IBgsLmDcL78_80_84\n",
            "video frame directory has files. skipping video ibSwITK4jjQ_14_24\n",
            "video frame directory has files. skipping video IhwPQL9dFYc_24_30\n",
            "video frame directory has files. skipping video 5JSbxHECb-I_97_110\n",
            "video frame directory has files. skipping video iarsmqA3dck_19_25\n",
            "video frame directory has files. skipping video idRc_KkInds_0_6\n",
            "video frame directory has files. skipping video ID2xXlUENG0_19_24\n",
            "video frame directory has files. skipping video idXJu0BQRvo_2_6\n",
            "video frame directory has files. skipping video IhwPQL9dFYc_50_59\n",
            "video frame directory has files. skipping video IEQyCcageGg_99_126\n",
            "video frame directory has files. skipping video 5OuYhq6Zl0g_0_10\n",
            "video frame directory has files. skipping video IhwPQL9dFYc_137_143\n",
            "video frame directory has files. skipping video IhwPQL9dFYc_61_75\n",
            "video frame directory has files. skipping video IhwPQL9dFYc_143_147\n",
            "video frame directory has files. skipping video IhwPQL9dFYc_171_175\n",
            "video frame directory has files. skipping video IhwPQL9dFYc_78_88\n",
            "video frame directory has files. skipping video IiTzJQE67FA_36_46\n",
            "video frame directory has files. skipping video IhwPQL9dFYc_124_129\n",
            "video frame directory has files. skipping video IhwPQL9dFYc_130_136\n",
            "video frame directory has files. skipping video 5OvgDatToBU_0_8\n",
            "video frame directory has files. skipping video INDhUwDMg-4_220_227\n",
            "video frame directory has files. skipping video IiTzJQE67FA_74_86\n",
            "video frame directory has files. skipping video iLr7ZHAq1ro_7_11\n",
            "video frame directory has files. skipping video iTA0rWPE4nY_17_23\n",
            "video frame directory has files. skipping video inzk2fTUe1w_1_15\n",
            "video frame directory has files. skipping video inLBPVG8oEU_18_24\n",
            "video frame directory has files. skipping video ItFqogTmAvQ_361_365\n",
            "video frame directory has files. skipping video ItFqogTmAvQ_48_52\n",
            "video frame directory has files. skipping video ItFqogTmAvQ_240_246\n",
            "video frame directory has files. skipping video ItFqogTmAvQ_281_286\n",
            "video frame directory has files. skipping video ItFqogTmAvQ_389_395\n",
            "video frame directory has files. skipping video ITNh8tWZPOA_5_25\n",
            "video frame directory has files. skipping video iuqVpMdb1NM_35_43\n",
            "video frame directory has files. skipping video IWhrWLOAin0_1_4\n",
            "video frame directory has files. skipping video 5QJf-l4lPJw_133_138\n",
            "video frame directory has files. skipping video iwpnUHFhjWc_9_14\n",
            "video frame directory has files. skipping video j2Dhf-xFUxU_13_20\n",
            "video frame directory has files. skipping video iwpnUHFhjWc_84_94\n",
            "video frame directory has files. skipping video j2Dhf-xFUxU_20_29\n",
            "video frame directory has files. skipping video IY1Fn796MoY_7_10\n",
            "video frame directory has files. skipping video j1Z890_Q3so_131_138\n",
            "video frame directory has files. skipping video iyAoiWeD53k_120_127\n",
            "video frame directory has files. skipping video j2sOMdilDWU_87_97\n",
            "video frame directory has files. skipping video IytNBm8WA1c_63_67\n"
          ],
          "name": "stdout"
        },
        {
          "output_type": "stream",
          "text": [
            " 57%|█████▋    | 1117/1970 [09:35<03:53,  3.66it/s]"
          ],
          "name": "stderr"
        },
        {
          "output_type": "stream",
          "text": [
            "video frame directory has files. skipping video 5x_OGEdO6Z8_0_21\n",
            "video frame directory has files. skipping video j4dMnAPZu70_12_17\n",
            "video frame directory has files. skipping video j4dMnAPZu70_11_18\n",
            "video frame directory has files. skipping video J3_hkgu6MGc_43_52\n",
            "video frame directory has files. skipping video j7xz1nos-xc_10_20\n",
            "video frame directory has files. skipping video J4otiwOjQy8_98_112\n",
            "video frame directory has files. skipping video J7zb8YXrmIA_93_99\n",
            "video frame directory has files. skipping video J---aiyznGQ_0_6\n",
            "video frame directory has files. skipping video 6KS8R3RxrV8_0_23\n",
            "video frame directory has files. skipping video JAFGw0WRHHU_108_116\n",
            "video frame directory has files. skipping video jdAbpLooDgM_10_15\n",
            "video frame directory has files. skipping video jcRCn7MeSbo_71_82\n",
            "video frame directory has files. skipping video Jag7oTemldY_12_25\n",
            "video frame directory has files. skipping video jDFn-1lXJ98_71_80\n",
            "video frame directory has files. skipping video 6owu8Mow0_g_275_280\n",
            "video frame directory has files. skipping video jbzaMtPYtl8_48_58\n",
            "video frame directory has files. skipping video Jfu-WkuCgD0_140_150\n",
            "video frame directory has files. skipping video jfrrO5K_vKM_55_65\n",
            "video frame directory has files. skipping video jCplbayVbtw_28_38\n",
            "video frame directory has files. skipping video jI58q6rcNLc_8_18\n",
            "video frame directory has files. skipping video JIoiUNOXGaI_8_13\n",
            "video frame directory has files. skipping video 6owu8Mow0_g_302_307\n",
            "video frame directory has files. skipping video JIKaIriiK8w_0_15\n",
            "video frame directory has files. skipping video Jj4uYHr65H8_28_35\n",
            "video frame directory has files. skipping video JIoiUNOXGaI_34_41\n",
            "video frame directory has files. skipping video jjl2ZMdFCsw_17_35\n",
            "video frame directory has files. skipping video JktNQQnLblQ_4_9\n",
            "video frame directory has files. skipping video jjl2ZMdFCsw_130_142\n",
            "video frame directory has files. skipping video jlahRlo4jlU_30_36\n",
            "video frame directory has files. skipping video JIoiUNOXGaI_98_104\n",
            "video frame directory has files. skipping video 6owu8Mow0_g_384_389\n",
            "video frame directory has files. skipping video JK1R9k1WDpc_6_15\n",
            "video frame directory has files. skipping video JledeVyklPw_1_6\n",
            "video frame directory has files. skipping video jMO3jGQeqyk_3_6\n",
            "video frame directory has files. skipping video jmoT2we_rqo_0_5\n",
            "video frame directory has files. skipping video JnNe61UZsdM_42_51\n",
            "video frame directory has files. skipping video JnNe61UZsdM_78_88\n",
            "video frame directory has files. skipping video jPBxl9gFqNY_110_117\n",
            "video frame directory has files. skipping video 6owu8Mow0_g_527_534\n",
            "video frame directory has files. skipping video JM4913Fe-ic_4_15\n",
            "video frame directory has files. skipping video JsD6uEZsIsU_45_58\n",
            "video frame directory has files. skipping video jsEUFYhiqxU_121_128\n",
            "video frame directory has files. skipping video jTaLGh_MKCM_5_20\n",
            "video frame directory has files. skipping video jTnrm338_KY_34_42\n",
            "video frame directory has files. skipping video jxdubZzQrio_33_46\n",
            "video frame directory has files. skipping video JpjAgSvr42k_0_12\n",
            "video frame directory has files. skipping video jv-eV6jR3Qw_7_12\n",
            "video frame directory has files. skipping video Jxw16bqzVqE_18_28\n",
            "video frame directory has files. skipping video 6owu8Mow0_g_692_697\n",
            "video frame directory has files. skipping video jvxUeT1Nlb8_100_115\n",
            "video frame directory has files. skipping video JXSkYkiKO0I_42_46\n"
          ],
          "name": "stdout"
        },
        {
          "output_type": "stream",
          "text": [
            "\r 58%|█████▊    | 1143/1970 [09:38<03:00,  4.58it/s]"
          ],
          "name": "stderr"
        },
        {
          "output_type": "stream",
          "text": [
            "video 'JYNzY9jmsQQ_2_10' converted successfully.\n",
            "video frame directory has files. skipping video K1ZM0LSLVw8_481_487\n",
            "video frame directory has files. skipping video K1ZM0LSLVw8_488_494\n",
            "video frame directory has files. skipping video jZ8X8e7eRVk_24_27\n",
            "video frame directory has files. skipping video K2LxyytY3Dw_104_112\n",
            "video frame directory has files. skipping video k06Ge9ANKM8_5_16\n",
            "video frame directory has files. skipping video k4hhWYtaQ14_0_10\n",
            "video frame directory has files. skipping video k8l4ETsylVY_9_18\n",
            "video frame directory has files. skipping video kBjUDCyDCuI_20_26\n",
            "video frame directory has files. skipping video k5OKBX2e7xA_19_32\n",
            "video frame directory has files. skipping video 6owu8Mow0_g_850_855\n",
            "video frame directory has files. skipping video K-czl524zxk_6_15\n",
            "video frame directory has files. skipping video K6xy6C-Hsa0_2_28\n",
            "video frame directory has files. skipping video Kf8oZGHDTt4_4_13\n",
            "video frame directory has files. skipping video kEGmZDpZ_RE_352_370\n",
            "video frame directory has files. skipping video KeSQ5Rv7eH8_73_79\n",
            "video frame directory has files. skipping video kJY5BRCNAs4_3_6\n",
            "video frame directory has files. skipping video kIZanu909lw_67_80\n",
            "video frame directory has files. skipping video kKGehSw5ht8_39_45\n",
            "video frame directory has files. skipping video klFyrnrUSck_13_19\n",
            "video frame directory has files. skipping video KIEWo_xJ5nU_0_7\n",
            "video frame directory has files. skipping video K-KVz3eqbnA_1_10\n",
            "video frame directory has files. skipping video 6sYmDT5et00_301_339\n",
            "video frame directory has files. skipping video klFyrnrUSck_63_73\n",
            "video frame directory has files. skipping video klFyrnrUSck_42_46\n",
            "video frame directory has files. skipping video klFyrnrUSck_25_36\n",
            "video frame directory has files. skipping video klFyrnrUSck_79_85\n",
            "video frame directory has files. skipping video klteYv1Uv9A_27_33\n",
            "video frame directory has files. skipping video Kms3EXosNS0_8_17\n",
            "video frame directory has files. skipping video KqKUXRHHkCc_101_105\n",
            "video frame directory has files. skipping video klFyrnrUSck_87_100\n",
            "video frame directory has files. skipping video KpmVL4ANieA_0_9\n",
            "video 'krAk8WPZRL4_207_212' converted successfully.\n",
            "video 'KrBeBabazDU_15_20' converted successfully.\n",
            "video 'Kqb-mmkEWqU_1_5' converted successfully.\n",
            "video 'kRNHJSc4AXE_220_228' converted successfully.\n",
            "video 'k-SWy-sU8cE_5_10' converted successfully.\n"
          ],
          "name": "stdout"
        },
        {
          "output_type": "stream",
          "text": [
            " 59%|█████▉    | 1161/1970 [09:50<04:52,  2.77it/s]"
          ],
          "name": "stderr"
        },
        {
          "output_type": "stream",
          "text": [
            "video '6t0BpjwYKco_261_284' converted successfully.\n"
          ],
          "name": "stdout"
        },
        {
          "output_type": "stream",
          "text": [
            "\r 59%|█████▉    | 1162/1970 [09:54<18:48,  1.40s/it]"
          ],
          "name": "stderr"
        },
        {
          "output_type": "stream",
          "text": [
            "video 'kSzS_lFtJDk_55_70' converted successfully.\n"
          ],
          "name": "stdout"
        },
        {
          "output_type": "stream",
          "text": [
            "\r 59%|█████▉    | 1163/1970 [09:57<23:14,  1.73s/it]"
          ],
          "name": "stderr"
        },
        {
          "output_type": "stream",
          "text": [
            "video 'kWLNZzuo3do_38_42' converted successfully.\n"
          ],
          "name": "stdout"
        },
        {
          "output_type": "stream",
          "text": [
            "\r 59%|█████▉    | 1164/1970 [09:59<27:05,  2.02s/it]"
          ],
          "name": "stderr"
        },
        {
          "output_type": "stream",
          "text": [
            "video 'kWLNZzuo3do_76_80' converted successfully.\n"
          ],
          "name": "stdout"
        },
        {
          "output_type": "stream",
          "text": [
            "\r 59%|█████▉    | 1165/1970 [10:02<31:32,  2.35s/it]"
          ],
          "name": "stderr"
        },
        {
          "output_type": "stream",
          "text": [
            "video 'KUc1cWKXjDc_20_30' converted successfully.\n"
          ],
          "name": "stdout"
        },
        {
          "output_type": "stream",
          "text": [
            "\r 59%|█████▉    | 1166/1970 [10:05<34:05,  2.54s/it]"
          ],
          "name": "stderr"
        },
        {
          "output_type": "stream",
          "text": [
            "video 'kWLNZzuo3do_48_53' converted successfully.\n"
          ],
          "name": "stdout"
        },
        {
          "output_type": "stream",
          "text": [
            "\r 59%|█████▉    | 1167/1970 [10:08<34:40,  2.59s/it]"
          ],
          "name": "stderr"
        },
        {
          "output_type": "stream",
          "text": [
            "video 'kWLNZzuo3do_192_196' converted successfully.\n"
          ],
          "name": "stdout"
        },
        {
          "output_type": "stream",
          "text": [
            "\r 59%|█████▉    | 1168/1970 [10:11<35:36,  2.66s/it]"
          ],
          "name": "stderr"
        },
        {
          "output_type": "stream",
          "text": [
            "video 'Kxa0mnDj0bs_113_124' converted successfully.\n"
          ],
          "name": "stdout"
        },
        {
          "output_type": "stream",
          "text": [
            "\r 59%|█████▉    | 1169/1970 [10:14<38:52,  2.91s/it]"
          ],
          "name": "stderr"
        },
        {
          "output_type": "stream",
          "text": [
            "video '7HcYJKMxpcg_20_28' converted successfully.\n"
          ],
          "name": "stdout"
        },
        {
          "output_type": "stream",
          "text": [
            "\r 59%|█████▉    | 1170/1970 [10:17<36:01,  2.70s/it]"
          ],
          "name": "stderr"
        },
        {
          "output_type": "stream",
          "text": [
            "video 'l5JJ2n2ggiQ_319_327' converted successfully.\n"
          ],
          "name": "stdout"
        },
        {
          "output_type": "stream",
          "text": [
            "\r 59%|█████▉    | 1171/1970 [10:20<39:45,  2.99s/it]"
          ],
          "name": "stderr"
        },
        {
          "output_type": "stream",
          "text": [
            "video 'kWLNZzuo3do_17_23' converted successfully.\n"
          ],
          "name": "stdout"
        },
        {
          "output_type": "stream",
          "text": [
            "\r 59%|█████▉    | 1172/1970 [10:22<34:40,  2.61s/it]"
          ],
          "name": "stderr"
        },
        {
          "output_type": "stream",
          "text": [
            "video 'kZfBt5me3Pg_2_7' converted successfully.\n"
          ],
          "name": "stdout"
        },
        {
          "output_type": "stream",
          "text": [
            "\r 60%|█████▉    | 1173/1970 [10:26<38:52,  2.93s/it]"
          ],
          "name": "stderr"
        },
        {
          "output_type": "stream",
          "text": [
            "video 'kWLNZzuo3do_56_62' converted successfully.\n"
          ],
          "name": "stdout"
        },
        {
          "output_type": "stream",
          "text": [
            "\r 60%|█████▉    | 1174/1970 [10:27<32:46,  2.47s/it]"
          ],
          "name": "stderr"
        },
        {
          "output_type": "stream",
          "text": [
            "video 'Kxa0mnDj0bs_15_20' converted successfully.\n"
          ],
          "name": "stdout"
        },
        {
          "output_type": "stream",
          "text": [
            "\r 60%|█████▉    | 1175/1970 [10:29<31:31,  2.38s/it]"
          ],
          "name": "stderr"
        },
        {
          "output_type": "stream",
          "text": [
            "video 'labytsb3gfI_146_154' converted successfully.\n"
          ],
          "name": "stdout"
        },
        {
          "output_type": "stream",
          "text": [
            "\r 60%|█████▉    | 1176/1970 [10:31<29:53,  2.26s/it]"
          ],
          "name": "stderr"
        },
        {
          "output_type": "stream",
          "text": [
            "video 'LacBy2NT3YQ_12_17' converted successfully.\n"
          ],
          "name": "stdout"
        },
        {
          "output_type": "stream",
          "text": [
            "\r 60%|█████▉    | 1177/1970 [10:35<37:35,  2.84s/it]"
          ],
          "name": "stderr"
        },
        {
          "output_type": "stream",
          "text": [
            "video '7uF-2adCsI0_60_67' converted successfully.\n"
          ],
          "name": "stdout"
        },
        {
          "output_type": "stream",
          "text": [
            "\r 60%|█████▉    | 1178/1970 [10:37<31:33,  2.39s/it]"
          ],
          "name": "stderr"
        },
        {
          "output_type": "stream",
          "text": [
            "video 'lb8J2zCQTlo_3_8' converted successfully.\n"
          ],
          "name": "stdout"
        },
        {
          "output_type": "stream",
          "text": [
            "\r 60%|█████▉    | 1179/1970 [10:39<30:31,  2.32s/it]"
          ],
          "name": "stderr"
        },
        {
          "output_type": "stream",
          "text": [
            "video 'lAznAeFFldg_6_10' converted successfully.\n"
          ],
          "name": "stdout"
        },
        {
          "output_type": "stream",
          "text": [
            "\r 60%|█████▉    | 1180/1970 [10:40<27:06,  2.06s/it]"
          ],
          "name": "stderr"
        },
        {
          "output_type": "stream",
          "text": [
            "video 'lc9bA-hvqHU_1_6' converted successfully.\n"
          ],
          "name": "stdout"
        },
        {
          "output_type": "stream",
          "text": [
            "\r 60%|█████▉    | 1181/1970 [10:42<25:02,  1.90s/it]"
          ],
          "name": "stderr"
        },
        {
          "output_type": "stream",
          "text": [
            "video 'lB1UPJ4leqs_0_6' converted successfully.\n"
          ],
          "name": "stdout"
        },
        {
          "output_type": "stream",
          "text": [
            "\r 60%|██████    | 1182/1970 [10:44<27:54,  2.12s/it]"
          ],
          "name": "stderr"
        },
        {
          "output_type": "stream",
          "text": [
            "video 'L6dEUQ6WiHY_136_142' converted successfully.\n"
          ],
          "name": "stdout"
        },
        {
          "output_type": "stream",
          "text": [
            "\r 60%|██████    | 1183/1970 [10:47<29:40,  2.26s/it]"
          ],
          "name": "stderr"
        },
        {
          "output_type": "stream",
          "text": [
            "video 'lcu-DwrnYY8_2_5' converted successfully.\n"
          ],
          "name": "stdout"
        },
        {
          "output_type": "stream",
          "text": [
            "\r 60%|██████    | 1184/1970 [10:49<26:54,  2.05s/it]"
          ],
          "name": "stderr"
        },
        {
          "output_type": "stream",
          "text": [
            "video 'lB1UPJ4leqs_1_6' converted successfully.\n"
          ],
          "name": "stdout"
        },
        {
          "output_type": "stream",
          "text": [
            "\r 60%|██████    | 1185/1970 [10:52<33:24,  2.55s/it]"
          ],
          "name": "stderr"
        },
        {
          "output_type": "stream",
          "text": [
            "video '7uOiiA4Kxbo_23_35' converted successfully.\n"
          ],
          "name": "stdout"
        },
        {
          "output_type": "stream",
          "text": [
            "\r 60%|██████    | 1186/1970 [10:54<31:10,  2.39s/it]"
          ],
          "name": "stderr"
        },
        {
          "output_type": "stream",
          "text": [
            "video 'lexLAjh8fPA_27_31' converted successfully.\n"
          ],
          "name": "stdout"
        },
        {
          "output_type": "stream",
          "text": [
            "\r 60%|██████    | 1187/1970 [10:56<27:39,  2.12s/it]"
          ],
          "name": "stderr"
        },
        {
          "output_type": "stream",
          "text": [
            "video 'LEz0puaKNTk_38_48' converted successfully.\n"
          ],
          "name": "stdout"
        },
        {
          "output_type": "stream",
          "text": [
            "\r 60%|██████    | 1188/1970 [10:57<24:56,  1.91s/it]"
          ],
          "name": "stderr"
        },
        {
          "output_type": "stream",
          "text": [
            "video 'lFdg5CWMTt0_24_28' converted successfully.\n"
          ],
          "name": "stdout"
        },
        {
          "output_type": "stream",
          "text": [
            "\r 60%|██████    | 1189/1970 [10:59<22:11,  1.70s/it]"
          ],
          "name": "stderr"
        },
        {
          "output_type": "stream",
          "text": [
            "video 'Li3umATsU0E_1_5' converted successfully.\n"
          ],
          "name": "stdout"
        },
        {
          "output_type": "stream",
          "text": [
            "\r 60%|██████    | 1190/1970 [11:01<23:25,  1.80s/it]"
          ],
          "name": "stderr"
        },
        {
          "output_type": "stream",
          "text": [
            "video 'lGk1MA6YP-M_36_48' converted successfully.\n"
          ],
          "name": "stdout"
        },
        {
          "output_type": "stream",
          "text": [
            "\r 60%|██████    | 1191/1970 [11:03<27:20,  2.11s/it]"
          ],
          "name": "stderr"
        },
        {
          "output_type": "stream",
          "text": [
            "video 'LLkehH86ABY_30_36' converted successfully.\n"
          ],
          "name": "stdout"
        },
        {
          "output_type": "stream",
          "text": [
            "\r 61%|██████    | 1192/1970 [11:06<28:21,  2.19s/it]"
          ],
          "name": "stderr"
        },
        {
          "output_type": "stream",
          "text": [
            "video 'LjimLwAhAOQ_5_15' converted successfully.\n"
          ],
          "name": "stdout"
        },
        {
          "output_type": "stream",
          "text": [
            "\r 61%|██████    | 1193/1970 [11:10<34:33,  2.67s/it]"
          ],
          "name": "stderr"
        },
        {
          "output_type": "stream",
          "text": [
            "video 'lm0z7eLsbbw_9_23' converted successfully.\n"
          ],
          "name": "stdout"
        },
        {
          "output_type": "stream",
          "text": [
            "\r 61%|██████    | 1194/1970 [11:11<30:55,  2.39s/it]"
          ],
          "name": "stderr"
        },
        {
          "output_type": "stream",
          "text": [
            "video 'lKADopH3qFY_0_10' converted successfully.\n"
          ],
          "name": "stdout"
        },
        {
          "output_type": "stream",
          "text": [
            "\r 61%|██████    | 1195/1970 [11:14<32:01,  2.48s/it]"
          ],
          "name": "stderr"
        },
        {
          "output_type": "stream",
          "text": [
            "video 'lmCrIZeob4w_23_26' converted successfully.\n"
          ],
          "name": "stdout"
        },
        {
          "output_type": "stream",
          "text": [
            "\r 61%|██████    | 1196/1970 [11:15<28:17,  2.19s/it]"
          ],
          "name": "stderr"
        },
        {
          "output_type": "stream",
          "text": [
            "video 'LqPIBHAmt4E_22_30' converted successfully.\n"
          ],
          "name": "stdout"
        },
        {
          "output_type": "stream",
          "text": [
            "\r 61%|██████    | 1197/1970 [11:17<27:05,  2.10s/it]"
          ],
          "name": "stderr"
        },
        {
          "output_type": "stream",
          "text": [
            "video 'LQ-jv8g1YVI_1_6' converted successfully.\n"
          ],
          "name": "stdout"
        },
        {
          "output_type": "stream",
          "text": [
            "\r 61%|██████    | 1198/1970 [11:19<23:54,  1.86s/it]"
          ],
          "name": "stderr"
        },
        {
          "output_type": "stream",
          "text": [
            "video 'lSnWhsmlGec_5_10' converted successfully.\n"
          ],
          "name": "stdout"
        },
        {
          "output_type": "stream",
          "text": [
            "\r 61%|██████    | 1199/1970 [11:23<35:02,  2.73s/it]"
          ],
          "name": "stderr"
        },
        {
          "output_type": "stream",
          "text": [
            "video '7xNG7qGY9rw_14_29' converted successfully.\n"
          ],
          "name": "stdout"
        },
        {
          "output_type": "stream",
          "text": [
            "\r 61%|██████    | 1200/1970 [11:25<31:36,  2.46s/it]"
          ],
          "name": "stderr"
        },
        {
          "output_type": "stream",
          "text": [
            "video 'Lr8ds5iY5uk_8_15' converted successfully.\n"
          ],
          "name": "stdout"
        },
        {
          "output_type": "stream",
          "text": [
            "\r 61%|██████    | 1201/1970 [11:27<27:27,  2.14s/it]"
          ],
          "name": "stderr"
        },
        {
          "output_type": "stream",
          "text": [
            "video 'Lt1JijkvSKk_0_10' converted successfully.\n"
          ],
          "name": "stdout"
        },
        {
          "output_type": "stream",
          "text": [
            "\r 61%|██████    | 1202/1970 [11:36<54:34,  4.26s/it]"
          ],
          "name": "stderr"
        },
        {
          "output_type": "stream",
          "text": [
            "video 'LSuVRWPoHr0_0_37' converted successfully.\n"
          ],
          "name": "stdout"
        },
        {
          "output_type": "stream",
          "text": [
            "\r 61%|██████    | 1203/1970 [11:38<46:05,  3.61s/it]"
          ],
          "name": "stderr"
        },
        {
          "output_type": "stream",
          "text": [
            "video 'LuQ0KiMMhoI_49_64' converted successfully.\n"
          ],
          "name": "stdout"
        },
        {
          "output_type": "stream",
          "text": [
            "\r 61%|██████    | 1204/1970 [11:41<45:43,  3.58s/it]"
          ],
          "name": "stderr"
        },
        {
          "output_type": "stream",
          "text": [
            "video 'lR8RrUBhCQg_5_15' converted successfully.\n"
          ],
          "name": "stdout"
        },
        {
          "output_type": "stream",
          "text": [
            "\r 61%|██████    | 1205/1970 [11:43<38:04,  2.99s/it]"
          ],
          "name": "stderr"
        },
        {
          "output_type": "stream",
          "text": [
            "video 'lvFYUmDSOvU_34_38' converted successfully.\n"
          ],
          "name": "stdout"
        },
        {
          "output_type": "stream",
          "text": [
            "\r 61%|██████    | 1206/1970 [11:44<31:07,  2.44s/it]"
          ],
          "name": "stderr"
        },
        {
          "output_type": "stream",
          "text": [
            "video 'Ly5D0z9gKtc_15_20' converted successfully.\n"
          ],
          "name": "stdout"
        },
        {
          "output_type": "stream",
          "text": [
            "\r 61%|██████▏   | 1207/1970 [11:48<35:13,  2.77s/it]"
          ],
          "name": "stderr"
        },
        {
          "output_type": "stream",
          "text": [
            "video '7ZE2OzguWHo_28_38' converted successfully.\n"
          ],
          "name": "stdout"
        },
        {
          "output_type": "stream",
          "text": [
            "\r 61%|██████▏   | 1208/1970 [11:49<27:56,  2.20s/it]"
          ],
          "name": "stderr"
        },
        {
          "output_type": "stream",
          "text": [
            "video 'Lw0eGsYxElA_11_14' converted successfully.\n"
          ],
          "name": "stdout"
        },
        {
          "output_type": "stream",
          "text": [
            "\r 61%|██████▏   | 1209/1970 [11:52<33:55,  2.68s/it]"
          ],
          "name": "stderr"
        },
        {
          "output_type": "stream",
          "text": [
            "video 'lrZxpneS6Gk_0_12' converted successfully.\n"
          ],
          "name": "stdout"
        },
        {
          "output_type": "stream",
          "text": [
            "\r 61%|██████▏   | 1210/1970 [11:56<37:18,  2.95s/it]"
          ],
          "name": "stderr"
        },
        {
          "output_type": "stream",
          "text": [
            "video 'LwicaralvS0_90_104' converted successfully.\n"
          ],
          "name": "stdout"
        },
        {
          "output_type": "stream",
          "text": [
            "\r 61%|██████▏   | 1211/1970 [11:58<32:55,  2.60s/it]"
          ],
          "name": "stderr"
        },
        {
          "output_type": "stream",
          "text": [
            "video 'LyYJiKxHZz0_0_10' converted successfully.\n"
          ],
          "name": "stdout"
        },
        {
          "output_type": "stream",
          "text": [
            "\r 62%|██████▏   | 1212/1970 [12:01<36:17,  2.87s/it]"
          ],
          "name": "stderr"
        },
        {
          "output_type": "stream",
          "text": [
            "video 'LwvyrDxM2G0_0_11' converted successfully.\n"
          ],
          "name": "stdout"
        },
        {
          "output_type": "stream",
          "text": [
            "\r 62%|██████▏   | 1213/1970 [12:04<34:18,  2.72s/it]"
          ],
          "name": "stderr"
        },
        {
          "output_type": "stream",
          "text": [
            "video 'm1c04pCYGxA_57_64' converted successfully.\n"
          ],
          "name": "stdout"
        },
        {
          "output_type": "stream",
          "text": [
            "\r 62%|██████▏   | 1214/1970 [12:06<31:22,  2.49s/it]"
          ],
          "name": "stderr"
        },
        {
          "output_type": "stream",
          "text": [
            "video 'm1NR0uNNs5Y_73_78' converted successfully.\n"
          ],
          "name": "stdout"
        },
        {
          "output_type": "stream",
          "text": [
            "\r 62%|██████▏   | 1215/1970 [12:08<30:21,  2.41s/it]"
          ],
          "name": "stderr"
        },
        {
          "output_type": "stream",
          "text": [
            "video 'm1NR0uNNs5Y_123_129' converted successfully.\n"
          ],
          "name": "stdout"
        },
        {
          "output_type": "stream",
          "text": [
            "\r 62%|██████▏   | 1216/1970 [12:10<28:44,  2.29s/it]"
          ],
          "name": "stderr"
        },
        {
          "output_type": "stream",
          "text": [
            "video 'm1NR0uNNs5Y_88_94' converted successfully.\n"
          ],
          "name": "stdout"
        },
        {
          "output_type": "stream",
          "text": [
            "\r 62%|██████▏   | 1217/1970 [12:12<29:41,  2.37s/it]"
          ],
          "name": "stderr"
        },
        {
          "output_type": "stream",
          "text": [
            "video 'm1NR0uNNs5Y_57_64' converted successfully.\n"
          ],
          "name": "stdout"
        },
        {
          "output_type": "stream",
          "text": [
            "\r 62%|██████▏   | 1218/1970 [12:15<29:12,  2.33s/it]"
          ],
          "name": "stderr"
        },
        {
          "output_type": "stream",
          "text": [
            "video 'm1NR0uNNs5Y_104_110' converted successfully.\n"
          ],
          "name": "stdout"
        },
        {
          "output_type": "stream",
          "text": [
            "\r 62%|██████▏   | 1219/1970 [12:18<31:10,  2.49s/it]"
          ],
          "name": "stderr"
        },
        {
          "output_type": "stream",
          "text": [
            "video 'm1NR0uNNs5Y_160_166' converted successfully.\n"
          ],
          "name": "stdout"
        },
        {
          "output_type": "stream",
          "text": [
            "\r 62%|██████▏   | 1220/1970 [12:20<29:53,  2.39s/it]"
          ],
          "name": "stderr"
        },
        {
          "output_type": "stream",
          "text": [
            "video 'LYSPQqUvNO0_43_57' converted successfully.\n"
          ],
          "name": "stdout"
        },
        {
          "output_type": "stream",
          "text": [
            "\r 62%|██████▏   | 1221/1970 [12:22<28:57,  2.32s/it]"
          ],
          "name": "stderr"
        },
        {
          "output_type": "stream",
          "text": [
            "video 'm1NR0uNNs5Y_224_230' converted successfully.\n"
          ],
          "name": "stdout"
        },
        {
          "output_type": "stream",
          "text": [
            "\r 62%|██████▏   | 1222/1970 [12:33<1:03:02,  5.06s/it]"
          ],
          "name": "stderr"
        },
        {
          "output_type": "stream",
          "text": [
            "video '08pVpBq706k_175_212' converted successfully.\n"
          ],
          "name": "stdout"
        },
        {
          "output_type": "stream",
          "text": [
            "\r 62%|██████▏   | 1223/1970 [12:36<52:33,  4.22s/it]  "
          ],
          "name": "stderr"
        },
        {
          "output_type": "stream",
          "text": [
            "video 'm1NR0uNNs5Y_192_198' converted successfully.\n"
          ],
          "name": "stdout"
        },
        {
          "output_type": "stream",
          "text": [
            "\r 62%|██████▏   | 1224/1970 [12:38<44:15,  3.56s/it]"
          ],
          "name": "stderr"
        },
        {
          "output_type": "stream",
          "text": [
            "video 'm4D72WXFd8s_557_564' converted successfully.\n"
          ],
          "name": "stdout"
        },
        {
          "output_type": "stream",
          "text": [
            "\r 62%|██████▏   | 1225/1970 [12:40<40:35,  3.27s/it]"
          ],
          "name": "stderr"
        },
        {
          "output_type": "stream",
          "text": [
            "video 'MdOAr_4FJvc_5_15' converted successfully.\n"
          ],
          "name": "stdout"
        },
        {
          "output_type": "stream",
          "text": [
            "\r 62%|██████▏   | 1226/1970 [12:43<39:26,  3.18s/it]"
          ],
          "name": "stderr"
        },
        {
          "output_type": "stream",
          "text": [
            "video 'M4It3DrhbE0_13_22' converted successfully.\n"
          ],
          "name": "stdout"
        },
        {
          "output_type": "stream",
          "text": [
            "\r 62%|██████▏   | 1227/1970 [12:45<33:46,  2.73s/it]"
          ],
          "name": "stderr"
        },
        {
          "output_type": "stream",
          "text": [
            "video 'm7x8uIdg2XU_67_73' converted successfully.\n"
          ],
          "name": "stdout"
        },
        {
          "output_type": "stream",
          "text": [
            "\r 62%|██████▏   | 1228/1970 [12:46<29:33,  2.39s/it]"
          ],
          "name": "stderr"
        },
        {
          "output_type": "stream",
          "text": [
            "video 'me1D1WZ0yNM_120_124' converted successfully.\n"
          ],
          "name": "stdout"
        },
        {
          "output_type": "stream",
          "text": [
            "\r 62%|██████▏   | 1229/1970 [12:49<29:32,  2.39s/it]"
          ],
          "name": "stderr"
        },
        {
          "output_type": "stream",
          "text": [
            "video 'm1NR0uNNs5Y_273_280' converted successfully.\n"
          ],
          "name": "stdout"
        },
        {
          "output_type": "stream",
          "text": [
            "\r 62%|██████▏   | 1230/1970 [12:51<27:54,  2.26s/it]"
          ],
          "name": "stderr"
        },
        {
          "output_type": "stream",
          "text": [
            "video '-mAoVOhKy0c_4_9' converted successfully.\n"
          ],
          "name": "stdout"
        },
        {
          "output_type": "stream",
          "text": [
            "\r 62%|██████▏   | 1231/1970 [12:53<28:58,  2.35s/it]"
          ],
          "name": "stderr"
        },
        {
          "output_type": "stream",
          "text": [
            "video '8CzlhZtunNc_5_11' converted successfully.\n"
          ],
          "name": "stdout"
        },
        {
          "output_type": "stream",
          "text": [
            "\r 63%|██████▎   | 1232/1970 [12:55<25:28,  2.07s/it]"
          ],
          "name": "stderr"
        },
        {
          "output_type": "stream",
          "text": [
            "video 'mbesJaS6vwg_187_195' converted successfully.\n"
          ],
          "name": "stdout"
        },
        {
          "output_type": "stream",
          "text": [
            "\r 63%|██████▎   | 1233/1970 [12:58<28:51,  2.35s/it]"
          ],
          "name": "stderr"
        },
        {
          "output_type": "stream",
          "text": [
            "video 'mFCf8lLXrUc_25_35' converted successfully.\n"
          ],
          "name": "stdout"
        },
        {
          "output_type": "stream",
          "text": [
            "\r 63%|██████▎   | 1234/1970 [13:02<35:20,  2.88s/it]"
          ],
          "name": "stderr"
        },
        {
          "output_type": "stream",
          "text": [
            "video 'mCrRHP4LFmo_24_40' converted successfully.\n"
          ],
          "name": "stdout"
        },
        {
          "output_type": "stream",
          "text": [
            "\r 63%|██████▎   | 1235/1970 [13:04<33:44,  2.75s/it]"
          ],
          "name": "stderr"
        },
        {
          "output_type": "stream",
          "text": [
            "video 'mfJjIOfj6D8_3_10' converted successfully.\n",
            "video 'mFCf8lLXrUc_36_57' converted successfully.\n"
          ],
          "name": "stdout"
        },
        {
          "output_type": "stream",
          "text": [
            " 63%|██████▎   | 1237/1970 [13:12<37:34,  3.08s/it]"
          ],
          "name": "stderr"
        },
        {
          "output_type": "stream",
          "text": [
            "video 'MHIVmf42Ao4_31_36' converted successfully.\n"
          ],
          "name": "stdout"
        },
        {
          "output_type": "stream",
          "text": [
            "\r 63%|██████▎   | 1238/1970 [13:14<36:06,  2.96s/it]"
          ],
          "name": "stderr"
        },
        {
          "output_type": "stream",
          "text": [
            "video '8PQiaurIiDM_94_99' converted successfully.\n"
          ],
          "name": "stdout"
        },
        {
          "output_type": "stream",
          "text": [
            "\r 63%|██████▎   | 1239/1970 [13:16<31:12,  2.56s/it]"
          ],
          "name": "stderr"
        },
        {
          "output_type": "stream",
          "text": [
            "video 'mHv4iJ9Yr1g_10_16' converted successfully.\n"
          ],
          "name": "stdout"
        },
        {
          "output_type": "stream",
          "text": [
            "\r 63%|██████▎   | 1240/1970 [13:18<30:26,  2.50s/it]"
          ],
          "name": "stderr"
        },
        {
          "output_type": "stream",
          "text": [
            "video 'MJoxGpEswOI_9_16' converted successfully.\n"
          ],
          "name": "stdout"
        },
        {
          "output_type": "stream",
          "text": [
            "\r 63%|██████▎   | 1241/1970 [13:22<33:08,  2.73s/it]"
          ],
          "name": "stderr"
        },
        {
          "output_type": "stream",
          "text": [
            "video 'mF6ijhSrbBQ_32_40' converted successfully.\n"
          ],
          "name": "stdout"
        },
        {
          "output_type": "stream",
          "text": [
            "\r 63%|██████▎   | 1242/1970 [13:24<32:32,  2.68s/it]"
          ],
          "name": "stderr"
        },
        {
          "output_type": "stream",
          "text": [
            "video 'MJNStEgDKXU_3_10' converted successfully.\n"
          ],
          "name": "stdout"
        },
        {
          "output_type": "stream",
          "text": [
            "\r 63%|██████▎   | 1243/1970 [13:26<29:23,  2.43s/it]"
          ],
          "name": "stderr"
        },
        {
          "output_type": "stream",
          "text": [
            "video 'MMnnqzOoMF0_68_72' converted successfully.\n"
          ],
          "name": "stdout"
        },
        {
          "output_type": "stream",
          "text": [
            "\r 63%|██████▎   | 1244/1970 [13:30<34:19,  2.84s/it]"
          ],
          "name": "stderr"
        },
        {
          "output_type": "stream",
          "text": [
            "video 'MICawzo1MqI_3_13' converted successfully.\n"
          ],
          "name": "stdout"
        },
        {
          "output_type": "stream",
          "text": [
            "\r 63%|██████▎   | 1245/1970 [13:32<30:24,  2.52s/it]"
          ],
          "name": "stderr"
        },
        {
          "output_type": "stream",
          "text": [
            "video 'mmSQTI6gMNQ_15_21' converted successfully.\n"
          ],
          "name": "stdout"
        },
        {
          "output_type": "stream",
          "text": [
            "\r 63%|██████▎   | 1246/1970 [13:34<30:13,  2.51s/it]"
          ],
          "name": "stderr"
        },
        {
          "output_type": "stream",
          "text": [
            "video 'mmSQTI6gMNQ_120_128' converted successfully.\n"
          ],
          "name": "stdout"
        },
        {
          "output_type": "stream",
          "text": [
            "\r 63%|██████▎   | 1247/1970 [13:38<36:16,  3.01s/it]"
          ],
          "name": "stderr"
        },
        {
          "output_type": "stream",
          "text": [
            "video '8PQiaurIiDM_143_151' converted successfully.\n"
          ],
          "name": "stdout"
        },
        {
          "output_type": "stream",
          "text": [
            "\r 63%|██████▎   | 1248/1970 [13:43<41:44,  3.47s/it]"
          ],
          "name": "stderr"
        },
        {
          "output_type": "stream",
          "text": [
            "video 'mJ9eRvxjLc4_0_16' converted successfully.\n"
          ],
          "name": "stdout"
        },
        {
          "output_type": "stream",
          "text": [
            "\r 63%|██████▎   | 1249/1970 [13:46<39:02,  3.25s/it]"
          ],
          "name": "stderr"
        },
        {
          "output_type": "stream",
          "text": [
            "video 'MrQd1zUVRUM_103_110' converted successfully.\n"
          ],
          "name": "stdout"
        },
        {
          "output_type": "stream",
          "text": [
            "\r 63%|██████▎   | 1250/1970 [13:47<33:40,  2.81s/it]"
          ],
          "name": "stderr"
        },
        {
          "output_type": "stream",
          "text": [
            "video 'MoqC84sXu88_47_59' converted successfully.\n"
          ],
          "name": "stdout"
        },
        {
          "output_type": "stream",
          "text": [
            "\r 64%|██████▎   | 1251/1970 [13:49<28:01,  2.34s/it]"
          ],
          "name": "stderr"
        },
        {
          "output_type": "stream",
          "text": [
            "video 'mOZkcBcWR8o_6_12' converted successfully.\n"
          ],
          "name": "stdout"
        },
        {
          "output_type": "stream",
          "text": [
            "\r 64%|██████▎   | 1252/1970 [13:52<30:17,  2.53s/it]"
          ],
          "name": "stderr"
        },
        {
          "output_type": "stream",
          "text": [
            "video '-Ms9tsWmhyU_80_95' converted successfully.\n"
          ],
          "name": "stdout"
        },
        {
          "output_type": "stream",
          "text": [
            "\r 64%|██████▎   | 1253/1970 [13:54<30:10,  2.53s/it]"
          ],
          "name": "stderr"
        },
        {
          "output_type": "stream",
          "text": [
            "video 'Ms3QdGIzltU_10_20' converted successfully.\n"
          ],
          "name": "stdout"
        },
        {
          "output_type": "stream",
          "text": [
            "\r 64%|██████▎   | 1254/1970 [13:56<28:53,  2.42s/it]"
          ],
          "name": "stderr"
        },
        {
          "output_type": "stream",
          "text": [
            "video 'msCidKHOh74_392_399' converted successfully.\n"
          ],
          "name": "stdout"
        },
        {
          "output_type": "stream",
          "text": [
            "\r 64%|██████▎   | 1255/1970 [14:00<31:50,  2.67s/it]"
          ],
          "name": "stderr"
        },
        {
          "output_type": "stream",
          "text": [
            "video 'MqS82kBtUHQ_0_12' converted successfully.\n"
          ],
          "name": "stdout"
        },
        {
          "output_type": "stream",
          "text": [
            "\r 64%|██████▍   | 1256/1970 [14:02<30:44,  2.58s/it]"
          ],
          "name": "stderr"
        },
        {
          "output_type": "stream",
          "text": [
            "video 'msCidKHOh74_410_418' converted successfully.\n"
          ],
          "name": "stdout"
        },
        {
          "output_type": "stream",
          "text": [
            "\r 64%|██████▍   | 1257/1970 [14:03<26:46,  2.25s/it]"
          ],
          "name": "stderr"
        },
        {
          "output_type": "stream",
          "text": [
            "video 'MrMG15y3rWU_5_13' converted successfully.\n",
            "video 'Ms3QdGIzltU_1_16' converted successfully.\n"
          ],
          "name": "stdout"
        },
        {
          "output_type": "stream",
          "text": [
            " 64%|██████▍   | 1259/1970 [14:12<37:52,  3.20s/it]"
          ],
          "name": "stderr"
        },
        {
          "output_type": "stream",
          "text": [
            "video '8PQiaurIiDM_173_180' converted successfully.\n"
          ],
          "name": "stdout"
        },
        {
          "output_type": "stream",
          "text": [
            "\r 64%|██████▍   | 1260/1970 [14:13<30:25,  2.57s/it]"
          ],
          "name": "stderr"
        },
        {
          "output_type": "stream",
          "text": [
            "video 'MTjrZthHwJQ_2_11' converted successfully.\n",
            "video 'mv89psg6zh4_33_46' converted successfully.\n"
          ],
          "name": "stdout"
        },
        {
          "output_type": "stream",
          "text": [
            " 64%|██████▍   | 1262/1970 [14:18<29:27,  2.50s/it]"
          ],
          "name": "stderr"
        },
        {
          "output_type": "stream",
          "text": [
            "video 'Mutb8BHFvzk_15_20' converted successfully.\n",
            "video 'MTkGPfMRXtc_5_21' converted successfully.\n"
          ],
          "name": "stdout"
        },
        {
          "output_type": "stream",
          "text": [
            " 64%|██████▍   | 1264/1970 [14:26<35:55,  3.05s/it]"
          ],
          "name": "stderr"
        },
        {
          "output_type": "stream",
          "text": [
            "video 'MwOEK-KXSPc_1_10' converted successfully.\n"
          ],
          "name": "stdout"
        },
        {
          "output_type": "stream",
          "text": [
            "\r 64%|██████▍   | 1265/1970 [14:27<30:59,  2.64s/it]"
          ],
          "name": "stderr"
        },
        {
          "output_type": "stream",
          "text": [
            "video 'MW21lp833Vo_143_149' converted successfully.\n"
          ],
          "name": "stdout"
        },
        {
          "output_type": "stream",
          "text": [
            "\r 64%|██████▍   | 1266/1970 [14:30<30:06,  2.57s/it]"
          ],
          "name": "stderr"
        },
        {
          "output_type": "stream",
          "text": [
            "video 'MW21lp833Vo_8_16' converted successfully.\n"
          ],
          "name": "stdout"
        },
        {
          "output_type": "stream",
          "text": [
            "\r 64%|██████▍   | 1267/1970 [14:32<28:25,  2.43s/it]"
          ],
          "name": "stderr"
        },
        {
          "output_type": "stream",
          "text": [
            "video 'MWvCcwTw7Ac_78_86' converted successfully.\n"
          ],
          "name": "stdout"
        },
        {
          "output_type": "stream",
          "text": [
            "\r 64%|██████▍   | 1268/1970 [14:34<29:11,  2.50s/it]"
          ],
          "name": "stderr"
        },
        {
          "output_type": "stream",
          "text": [
            "video 'mYzajpeAWuA_100_112' converted successfully.\n"
          ],
          "name": "stdout"
        },
        {
          "output_type": "stream",
          "text": [
            "\r 64%|██████▍   | 1269/1970 [14:36<25:25,  2.18s/it]"
          ],
          "name": "stderr"
        },
        {
          "output_type": "stream",
          "text": [
            "video 'n_Z0-giaspE_270_278' converted successfully.\n"
          ],
          "name": "stdout"
        },
        {
          "output_type": "stream",
          "text": [
            "\r 64%|██████▍   | 1270/1970 [14:39<30:51,  2.65s/it]"
          ],
          "name": "stderr"
        },
        {
          "output_type": "stream",
          "text": [
            "video 'mZVPkPqwzR4_38_45' converted successfully.\n"
          ],
          "name": "stdout"
        },
        {
          "output_type": "stream",
          "text": [
            "\r 65%|██████▍   | 1271/1970 [14:44<36:59,  3.18s/it]"
          ],
          "name": "stderr"
        },
        {
          "output_type": "stream",
          "text": [
            "video '8PQiaurIiDM_247_255' converted successfully.\n"
          ],
          "name": "stdout"
        },
        {
          "output_type": "stream",
          "text": [
            "\r 65%|██████▍   | 1272/1970 [14:46<34:43,  2.98s/it]"
          ],
          "name": "stderr"
        },
        {
          "output_type": "stream",
          "text": [
            "video 'MY-rGamtAJc_6_22' converted successfully.\n"
          ],
          "name": "stdout"
        },
        {
          "output_type": "stream",
          "text": [
            "\r 65%|██████▍   | 1273/1970 [14:49<34:14,  2.95s/it]"
          ],
          "name": "stderr"
        },
        {
          "output_type": "stream",
          "text": [
            "video 'n_Z0-giaspE_62_78' converted successfully.\n"
          ],
          "name": "stdout"
        },
        {
          "output_type": "stream",
          "text": [
            "\r 65%|██████▍   | 1274/1970 [14:51<31:10,  2.69s/it]"
          ],
          "name": "stderr"
        },
        {
          "output_type": "stream",
          "text": [
            "video 'n_Z0-giaspE_379_387' converted successfully.\n"
          ],
          "name": "stdout"
        },
        {
          "output_type": "stream",
          "text": [
            "\r 65%|██████▍   | 1275/1970 [14:55<32:55,  2.84s/it]"
          ],
          "name": "stderr"
        },
        {
          "output_type": "stream",
          "text": [
            "video 'N2Cm0SLr0ZE_18_29' converted successfully.\n"
          ],
          "name": "stdout"
        },
        {
          "output_type": "stream",
          "text": [
            "\r 65%|██████▍   | 1276/1970 [14:58<33:27,  2.89s/it]"
          ],
          "name": "stderr"
        },
        {
          "output_type": "stream",
          "text": [
            "video 'n2NLoLNecgI_168_178' converted successfully.\n"
          ],
          "name": "stdout"
        },
        {
          "output_type": "stream",
          "text": [
            "\r 65%|██████▍   | 1277/1970 [15:01<34:44,  3.01s/it]"
          ],
          "name": "stderr"
        },
        {
          "output_type": "stream",
          "text": [
            "video 'MWzeInQaUk4_12_20' converted successfully.\n"
          ],
          "name": "stdout"
        },
        {
          "output_type": "stream",
          "text": [
            "\r 65%|██████▍   | 1278/1970 [15:07<45:32,  3.95s/it]"
          ],
          "name": "stderr"
        },
        {
          "output_type": "stream",
          "text": [
            "video '8sARjdhSvpo_167_176' converted successfully.\n"
          ],
          "name": "stdout"
        },
        {
          "output_type": "stream",
          "text": [
            "\r 65%|██████▍   | 1279/1970 [15:10<41:11,  3.58s/it]"
          ],
          "name": "stderr"
        },
        {
          "output_type": "stream",
          "text": [
            "video 'n6U-TGahwvs_100_110' converted successfully.\n"
          ],
          "name": "stdout"
        },
        {
          "output_type": "stream",
          "text": [
            "\r 65%|██████▍   | 1280/1970 [15:12<37:37,  3.27s/it]"
          ],
          "name": "stderr"
        },
        {
          "output_type": "stream",
          "text": [
            "video 'nau1vCzyFQ4_37_54' converted successfully.\n"
          ],
          "name": "stdout"
        },
        {
          "output_type": "stream",
          "text": [
            "\r 65%|██████▌   | 1281/1970 [15:14<33:11,  2.89s/it]"
          ],
          "name": "stderr"
        },
        {
          "output_type": "stream",
          "text": [
            "video 'n_Z0-giaspE_437_447' converted successfully.\n"
          ],
          "name": "stdout"
        },
        {
          "output_type": "stream",
          "text": [
            "\r 65%|██████▌   | 1282/1970 [15:17<33:56,  2.96s/it]"
          ],
          "name": "stderr"
        },
        {
          "output_type": "stream",
          "text": [
            "video 'nb12bAaKzvA_0_10' converted successfully.\n"
          ],
          "name": "stdout"
        },
        {
          "output_type": "stream",
          "text": [
            "\r 65%|██████▌   | 1283/1970 [15:20<32:41,  2.86s/it]"
          ],
          "name": "stderr"
        },
        {
          "output_type": "stream",
          "text": [
            "video 'N3A7944_UJw_63_70' converted successfully.\n"
          ],
          "name": "stdout"
        },
        {
          "output_type": "stream",
          "text": [
            "\r 65%|██████▌   | 1284/1970 [15:22<30:50,  2.70s/it]"
          ],
          "name": "stderr"
        },
        {
          "output_type": "stream",
          "text": [
            "video 'nBFhvrAOFqY_23_29' converted successfully.\n"
          ],
          "name": "stdout"
        },
        {
          "output_type": "stream",
          "text": [
            "\r 65%|██████▌   | 1285/1970 [15:23<24:39,  2.16s/it]"
          ],
          "name": "stderr"
        },
        {
          "output_type": "stream",
          "text": [
            "video 'Ne87egvJnWo_0_3' converted successfully.\n"
          ],
          "name": "stdout"
        },
        {
          "output_type": "stream",
          "text": [
            "\r 65%|██████▌   | 1286/1970 [15:27<28:26,  2.49s/it]"
          ],
          "name": "stderr"
        },
        {
          "output_type": "stream",
          "text": [
            "video 'n016q1w8Q30_2_11' converted successfully.\n"
          ],
          "name": "stdout"
        },
        {
          "output_type": "stream",
          "text": [
            "\r 65%|██████▌   | 1287/1970 [15:30<32:40,  2.87s/it]"
          ],
          "name": "stderr"
        },
        {
          "output_type": "stream",
          "text": [
            "video '-8y1Q0rA3n8_95_102' converted successfully.\n"
          ],
          "name": "stdout"
        },
        {
          "output_type": "stream",
          "text": [
            "\r 65%|██████▌   | 1288/1970 [15:34<34:07,  3.00s/it]"
          ],
          "name": "stderr"
        },
        {
          "output_type": "stream",
          "text": [
            "video 'nBJV56WUDng_38_47' converted successfully.\n"
          ],
          "name": "stdout"
        },
        {
          "output_type": "stream",
          "text": [
            "\r 65%|██████▌   | 1289/1970 [15:36<32:30,  2.86s/it]"
          ],
          "name": "stderr"
        },
        {
          "output_type": "stream",
          "text": [
            "video 'ngHDYzhDBk4_5_14' converted successfully.\n"
          ],
          "name": "stdout"
        },
        {
          "output_type": "stream",
          "text": [
            "\r 65%|██████▌   | 1290/1970 [15:38<28:59,  2.56s/it]"
          ],
          "name": "stderr"
        },
        {
          "output_type": "stream",
          "text": [
            "video 'ngHDYzhDBk4_24_29' converted successfully.\n"
          ],
          "name": "stdout"
        },
        {
          "output_type": "stream",
          "text": [
            "\r 66%|██████▌   | 1291/1970 [15:39<25:20,  2.24s/it]"
          ],
          "name": "stderr"
        },
        {
          "output_type": "stream",
          "text": [
            "video 'nd0ToNwccl4_12_17' converted successfully.\n"
          ],
          "name": "stdout"
        },
        {
          "output_type": "stream",
          "text": [
            "\r 66%|██████▌   | 1292/1970 [15:41<23:54,  2.12s/it]"
          ],
          "name": "stderr"
        },
        {
          "output_type": "stream",
          "text": [
            "video 'nhm_APPwhWk_6_12' converted successfully.\n"
          ],
          "name": "stdout"
        },
        {
          "output_type": "stream",
          "text": [
            "\r 66%|██████▌   | 1293/1970 [15:44<24:23,  2.16s/it]"
          ],
          "name": "stderr"
        },
        {
          "output_type": "stream",
          "text": [
            "video 'NFxWwI0J3As_78_84' converted successfully.\n"
          ],
          "name": "stdout"
        },
        {
          "output_type": "stream",
          "text": [
            "\r 66%|██████▌   | 1294/1970 [15:46<24:57,  2.21s/it]"
          ],
          "name": "stderr"
        },
        {
          "output_type": "stream",
          "text": [
            "video 'NjblUomxFQo_100_108' converted successfully.\n"
          ],
          "name": "stdout"
        },
        {
          "output_type": "stream",
          "text": [
            "\r 66%|██████▌   | 1295/1970 [15:51<33:03,  2.94s/it]"
          ],
          "name": "stderr"
        },
        {
          "output_type": "stream",
          "text": [
            "video 'nc0fVlaTYEs_34_44' converted successfully.\n"
          ],
          "name": "stdout"
        },
        {
          "output_type": "stream",
          "text": [
            "\r 66%|██████▌   | 1296/1970 [15:54<35:36,  3.17s/it]"
          ],
          "name": "stderr"
        },
        {
          "output_type": "stream",
          "text": [
            "video '-8y1Q0rA3n8_108_115' converted successfully.\n"
          ],
          "name": "stdout"
        },
        {
          "output_type": "stream",
          "text": [
            "\r 66%|██████▌   | 1297/1970 [15:55<27:37,  2.46s/it]"
          ],
          "name": "stderr"
        },
        {
          "output_type": "stream",
          "text": [
            "video 'NjCqtzZ3OtU_303_307' converted successfully.\n"
          ],
          "name": "stdout"
        },
        {
          "output_type": "stream",
          "text": [
            "\r 66%|██████▌   | 1298/1970 [15:57<25:21,  2.26s/it]"
          ],
          "name": "stderr"
        },
        {
          "output_type": "stream",
          "text": [
            "video 'NjCqtzZ3OtU_62_67' converted successfully.\n"
          ],
          "name": "stdout"
        },
        {
          "output_type": "stream",
          "text": [
            "\r 66%|██████▌   | 1299/1970 [15:58<22:12,  1.99s/it]"
          ],
          "name": "stderr"
        },
        {
          "output_type": "stream",
          "text": [
            "video 'nlU3crMsbWI_19_23' converted successfully.\n"
          ],
          "name": "stdout"
        },
        {
          "output_type": "stream",
          "text": [
            "\r 66%|██████▌   | 1300/1970 [16:00<20:22,  1.83s/it]"
          ],
          "name": "stderr"
        },
        {
          "output_type": "stream",
          "text": [
            "video 'nLvX-erABqY_67_72' converted successfully.\n"
          ],
          "name": "stdout"
        },
        {
          "output_type": "stream",
          "text": [
            "\r 66%|██████▌   | 1301/1970 [16:01<17:52,  1.60s/it]"
          ],
          "name": "stderr"
        },
        {
          "output_type": "stream",
          "text": [
            "video 'nLz0QuerH1c_8_15' converted successfully.\n"
          ],
          "name": "stdout"
        },
        {
          "output_type": "stream",
          "text": [
            "\r 66%|██████▌   | 1302/1970 [16:04<24:35,  2.21s/it]"
          ],
          "name": "stderr"
        },
        {
          "output_type": "stream",
          "text": [
            "video 'NoCgvH4xZHo_240_251' converted successfully.\n"
          ],
          "name": "stdout"
        },
        {
          "output_type": "stream",
          "text": [
            "\r 66%|██████▌   | 1303/1970 [16:08<30:24,  2.74s/it]"
          ],
          "name": "stderr"
        },
        {
          "output_type": "stream",
          "text": [
            "video 'nMBSDpB3WB8_5_14' converted successfully.\n"
          ],
          "name": "stdout"
        },
        {
          "output_type": "stream",
          "text": [
            "\r 66%|██████▌   | 1304/1970 [16:12<33:39,  3.03s/it]"
          ],
          "name": "stderr"
        },
        {
          "output_type": "stream",
          "text": [
            "video 'NoCgvH4xZHo_68_74' converted successfully.\n"
          ],
          "name": "stdout"
        },
        {
          "output_type": "stream",
          "text": [
            "\r 66%|██████▌   | 1305/1970 [16:14<30:54,  2.79s/it]"
          ],
          "name": "stderr"
        },
        {
          "output_type": "stream",
          "text": [
            "video 'NNYLo1OeZ-Q_48_54' converted successfully.\n"
          ],
          "name": "stdout"
        },
        {
          "output_type": "stream",
          "text": [
            "\r 66%|██████▋   | 1306/1970 [16:16<27:19,  2.47s/it]"
          ],
          "name": "stderr"
        },
        {
          "output_type": "stream",
          "text": [
            "video 'nPj6EcVGoUY_7_15' converted successfully.\n"
          ],
          "name": "stdout"
        },
        {
          "output_type": "stream",
          "text": [
            "\r 66%|██████▋   | 1307/1970 [16:19<29:50,  2.70s/it]"
          ],
          "name": "stderr"
        },
        {
          "output_type": "stream",
          "text": [
            "video 'nS6oQxX_Qi8_2_12' converted successfully.\n"
          ],
          "name": "stdout"
        },
        {
          "output_type": "stream",
          "text": [
            "\r 66%|██████▋   | 1308/1970 [16:20<23:32,  2.13s/it]"
          ],
          "name": "stderr"
        },
        {
          "output_type": "stream",
          "text": [
            "video 'nTasT5h0LEg_12_14' converted successfully.\n"
          ],
          "name": "stdout"
        },
        {
          "output_type": "stream",
          "text": [
            "\r 66%|██████▋   | 1309/1970 [16:22<22:37,  2.05s/it]"
          ],
          "name": "stderr"
        },
        {
          "output_type": "stream",
          "text": [
            "video 'nrZyPuRd5pU_85_92' converted successfully.\n"
          ],
          "name": "stdout"
        },
        {
          "output_type": "stream",
          "text": [
            "\r 66%|██████▋   | 1310/1970 [16:24<24:15,  2.21s/it]"
          ],
          "name": "stderr"
        },
        {
          "output_type": "stream",
          "text": [
            "video 'NoCgvH4xZHo_56_63' converted successfully.\n"
          ],
          "name": "stdout"
        },
        {
          "output_type": "stream",
          "text": [
            "\r 67%|██████▋   | 1311/1970 [16:27<26:52,  2.45s/it]"
          ],
          "name": "stderr"
        },
        {
          "output_type": "stream",
          "text": [
            "video 'nohvigNMsbo_199_207' converted successfully.\n"
          ],
          "name": "stdout"
        },
        {
          "output_type": "stream",
          "text": [
            "\r 67%|██████▋   | 1312/1970 [16:34<39:56,  3.64s/it]"
          ],
          "name": "stderr"
        },
        {
          "output_type": "stream",
          "text": [
            "video '8yS2wqwActs_2_14' converted successfully.\n"
          ],
          "name": "stdout"
        },
        {
          "output_type": "stream",
          "text": [
            "\r 67%|██████▋   | 1313/1970 [16:35<32:40,  2.98s/it]"
          ],
          "name": "stderr"
        },
        {
          "output_type": "stream",
          "text": [
            "video 'nTUONeDqhdk_10_15' converted successfully.\n"
          ],
          "name": "stdout"
        },
        {
          "output_type": "stream",
          "text": [
            "\r 67%|██████▋   | 1314/1970 [16:38<30:33,  2.80s/it]"
          ],
          "name": "stderr"
        },
        {
          "output_type": "stream",
          "text": [
            "video 'NZWiKMZS_k8_39_48' converted successfully.\n"
          ],
          "name": "stdout"
        },
        {
          "output_type": "stream",
          "text": [
            "\r 67%|██████▋   | 1315/1970 [16:39<25:44,  2.36s/it]"
          ],
          "name": "stderr"
        },
        {
          "output_type": "stream",
          "text": [
            "video 'nULE40HEWpA_5_11' converted successfully.\n"
          ],
          "name": "stdout"
        },
        {
          "output_type": "stream",
          "text": [
            "\r 67%|██████▋   | 1316/1970 [16:40<20:52,  1.92s/it]"
          ],
          "name": "stderr"
        },
        {
          "output_type": "stream",
          "text": [
            "video 'nTasT5h0LEg_40_43' converted successfully.\n"
          ],
          "name": "stdout"
        },
        {
          "output_type": "stream",
          "text": [
            "\r 67%|██████▋   | 1317/1970 [16:42<22:13,  2.04s/it]"
          ],
          "name": "stderr"
        },
        {
          "output_type": "stream",
          "text": [
            "video 'NUYu9c9XsgY_7_21' converted successfully.\n"
          ],
          "name": "stdout"
        },
        {
          "output_type": "stream",
          "text": [
            "\r 67%|██████▋   | 1318/1970 [16:44<21:11,  1.95s/it]"
          ],
          "name": "stderr"
        },
        {
          "output_type": "stream",
          "text": [
            "video 'o_mWZWcm2r4_10_15' converted successfully.\n"
          ],
          "name": "stdout"
        },
        {
          "output_type": "stream",
          "text": [
            "\r 67%|██████▋   | 1319/1970 [16:45<19:30,  1.80s/it]"
          ],
          "name": "stderr"
        },
        {
          "output_type": "stream",
          "text": [
            "video 'O_NWtDShLeg_21_25' converted successfully.\n"
          ],
          "name": "stdout"
        },
        {
          "output_type": "stream",
          "text": [
            "\r 67%|██████▋   | 1320/1970 [16:48<21:27,  1.98s/it]"
          ],
          "name": "stderr"
        },
        {
          "output_type": "stream",
          "text": [
            "video 'nwk4m329bLw_2_10' converted successfully.\n"
          ],
          "name": "stdout"
        },
        {
          "output_type": "stream",
          "text": [
            "\r 67%|██████▋   | 1321/1970 [16:51<24:22,  2.25s/it]"
          ],
          "name": "stderr"
        },
        {
          "output_type": "stream",
          "text": [
            "video 'o4OsYxsNGMI_77_82' converted successfully.\n"
          ],
          "name": "stdout"
        },
        {
          "output_type": "stream",
          "text": [
            "\r 67%|██████▋   | 1322/1970 [16:53<25:29,  2.36s/it]"
          ],
          "name": "stderr"
        },
        {
          "output_type": "stream",
          "text": [
            "video 'o_mWZWcm2r4_47_54' converted successfully.\n"
          ],
          "name": "stdout"
        },
        {
          "output_type": "stream",
          "text": [
            "\r 67%|██████▋   | 1323/1970 [16:58<32:39,  3.03s/it]"
          ],
          "name": "stderr"
        },
        {
          "output_type": "stream",
          "text": [
            "video '8yuPGwxwdPs_1_10' converted successfully.\n"
          ],
          "name": "stdout"
        },
        {
          "output_type": "stream",
          "text": [
            "\r 67%|██████▋   | 1324/1970 [17:00<30:06,  2.80s/it]"
          ],
          "name": "stderr"
        },
        {
          "output_type": "stream",
          "text": [
            "video 'o4pL7FObqds_72_78' converted successfully.\n"
          ],
          "name": "stdout"
        },
        {
          "output_type": "stream",
          "text": [
            "\r 67%|██████▋   | 1325/1970 [17:04<33:02,  3.07s/it]"
          ],
          "name": "stderr"
        },
        {
          "output_type": "stream",
          "text": [
            "video 'O_Pst-uryQI_1_14' converted successfully.\n"
          ],
          "name": "stdout"
        },
        {
          "output_type": "stream",
          "text": [
            "\r 67%|██████▋   | 1326/1970 [17:07<33:44,  3.14s/it]"
          ],
          "name": "stderr"
        },
        {
          "output_type": "stream",
          "text": [
            "video 'oDcd2JbOyzg_85_98' converted successfully.\n"
          ],
          "name": "stdout"
        },
        {
          "output_type": "stream",
          "text": [
            "\r 67%|██████▋   | 1327/1970 [17:10<32:25,  3.03s/it]"
          ],
          "name": "stderr"
        },
        {
          "output_type": "stream",
          "text": [
            "video 'o4pL7FObqds_137_147' converted successfully.\n"
          ],
          "name": "stdout"
        },
        {
          "output_type": "stream",
          "text": [
            "\r 67%|██████▋   | 1328/1970 [17:12<30:14,  2.83s/it]"
          ],
          "name": "stderr"
        },
        {
          "output_type": "stream",
          "text": [
            "video 'OE6H_M52Sng_89_97' converted successfully.\n"
          ],
          "name": "stdout"
        },
        {
          "output_type": "stream",
          "text": [
            "\r 67%|██████▋   | 1329/1970 [17:15<30:23,  2.85s/it]"
          ],
          "name": "stderr"
        },
        {
          "output_type": "stream",
          "text": [
            "video 'oBt257I-pL0_0_10' converted successfully.\n"
          ],
          "name": "stdout"
        },
        {
          "output_type": "stream",
          "text": [
            "\r 68%|██████▊   | 1330/1970 [17:18<29:31,  2.77s/it]"
          ],
          "name": "stderr"
        },
        {
          "output_type": "stream",
          "text": [
            "video 'oeaVXK2GAyc_4_21' converted successfully.\n"
          ],
          "name": "stdout"
        },
        {
          "output_type": "stream",
          "text": [
            "\r 68%|██████▊   | 1331/1970 [17:21<29:23,  2.76s/it]"
          ],
          "name": "stderr"
        },
        {
          "output_type": "stream",
          "text": [
            "video 'oFUsn1owAbs_158_168' converted successfully.\n"
          ],
          "name": "stdout"
        },
        {
          "output_type": "stream",
          "text": [
            "\r 68%|██████▊   | 1332/1970 [17:23<28:51,  2.71s/it]"
          ],
          "name": "stderr"
        },
        {
          "output_type": "stream",
          "text": [
            "video '9BScZRpF7SI_31_36' converted successfully.\n"
          ],
          "name": "stdout"
        },
        {
          "output_type": "stream",
          "text": [
            "\r 68%|██████▊   | 1333/1970 [17:27<33:37,  3.17s/it]"
          ],
          "name": "stderr"
        },
        {
          "output_type": "stream",
          "text": [
            "video 'oDcd2JbOyzg_38_55' converted successfully.\n"
          ],
          "name": "stdout"
        },
        {
          "output_type": "stream",
          "text": [
            "\r 68%|██████▊   | 1334/1970 [17:31<35:55,  3.39s/it]"
          ],
          "name": "stderr"
        },
        {
          "output_type": "stream",
          "text": [
            "video 'ObBss94n3gI_35_46' converted successfully.\n"
          ],
          "name": "stdout"
        },
        {
          "output_type": "stream",
          "text": [
            "\r 68%|██████▊   | 1335/1970 [17:33<29:48,  2.82s/it]"
          ],
          "name": "stderr"
        },
        {
          "output_type": "stream",
          "text": [
            "video 'oG6LLGi_n48_51_55' converted successfully.\n"
          ],
          "name": "stdout"
        },
        {
          "output_type": "stream",
          "text": [
            "\r 68%|██████▊   | 1336/1970 [17:35<27:38,  2.62s/it]"
          ],
          "name": "stderr"
        },
        {
          "output_type": "stream",
          "text": [
            "video '-9CUm-2cui8_39_44' converted successfully.\n"
          ],
          "name": "stdout"
        },
        {
          "output_type": "stream",
          "text": [
            "\r 68%|██████▊   | 1337/1970 [17:38<29:35,  2.81s/it]"
          ],
          "name": "stderr"
        },
        {
          "output_type": "stream",
          "text": [
            "video 'OIg10Bl7urs_0_10' converted successfully.\n"
          ],
          "name": "stdout"
        },
        {
          "output_type": "stream",
          "text": [
            "\r 68%|██████▊   | 1338/1970 [17:39<24:24,  2.32s/it]"
          ],
          "name": "stderr"
        },
        {
          "output_type": "stream",
          "text": [
            "video 'OIjsSu_I4So_6_10' converted successfully.\n"
          ],
          "name": "stdout"
        },
        {
          "output_type": "stream",
          "text": [
            "\r 68%|██████▊   | 1339/1970 [17:41<23:21,  2.22s/it]"
          ],
          "name": "stderr"
        },
        {
          "output_type": "stream",
          "text": [
            "video 'ok4cM6WTA5E_178_184' converted successfully.\n"
          ],
          "name": "stdout"
        },
        {
          "output_type": "stream",
          "text": [
            "\r 68%|██████▊   | 1340/1970 [17:44<25:01,  2.38s/it]"
          ],
          "name": "stderr"
        },
        {
          "output_type": "stream",
          "text": [
            "video 'Okg8QYhdtvU_73_92' converted successfully.\n"
          ],
          "name": "stdout"
        },
        {
          "output_type": "stream",
          "text": [
            "\r 68%|██████▊   | 1341/1970 [17:47<26:26,  2.52s/it]"
          ],
          "name": "stderr"
        },
        {
          "output_type": "stream",
          "text": [
            "video 'ok4cM6WTA5E_142_150' converted successfully.\n"
          ],
          "name": "stdout"
        },
        {
          "output_type": "stream",
          "text": [
            "\r 68%|██████▊   | 1342/1970 [17:49<23:38,  2.26s/it]"
          ],
          "name": "stderr"
        },
        {
          "output_type": "stream",
          "text": [
            "video 'omGWjiwxcTE_18_23' converted successfully.\n"
          ],
          "name": "stdout"
        },
        {
          "output_type": "stream",
          "text": [
            "\r 68%|██████▊   | 1343/1970 [17:50<19:47,  1.89s/it]"
          ],
          "name": "stderr"
        },
        {
          "output_type": "stream",
          "text": [
            "video 'Okg8QYhdtvU_48_53' converted successfully.\n"
          ],
          "name": "stdout"
        },
        {
          "output_type": "stream",
          "text": [
            "\r 68%|██████▊   | 1344/1970 [17:52<20:26,  1.96s/it]"
          ],
          "name": "stderr"
        },
        {
          "output_type": "stream",
          "text": [
            "video 'omIPdpxg--4_39_46' converted successfully.\n",
            "video 'OKBLPpAPp9c_2_17' converted successfully.\n"
          ],
          "name": "stdout"
        },
        {
          "output_type": "stream",
          "text": [
            " 68%|██████▊   | 1346/1970 [18:00<32:07,  3.09s/it]"
          ],
          "name": "stderr"
        },
        {
          "output_type": "stream",
          "text": [
            "video '9d57lHEsLU8_1_14' converted successfully.\n"
          ],
          "name": "stdout"
        },
        {
          "output_type": "stream",
          "text": [
            "\r 68%|██████▊   | 1347/1970 [18:02<27:57,  2.69s/it]"
          ],
          "name": "stderr"
        },
        {
          "output_type": "stream",
          "text": [
            "video 'onW5hJXnI5s_10_16' converted successfully.\n"
          ],
          "name": "stdout"
        },
        {
          "output_type": "stream",
          "text": [
            "\r 68%|██████▊   | 1348/1970 [18:04<26:13,  2.53s/it]"
          ],
          "name": "stderr"
        },
        {
          "output_type": "stream",
          "text": [
            "video 'onW5hJXnI5s_126_133' converted successfully.\n"
          ],
          "name": "stdout"
        },
        {
          "output_type": "stream",
          "text": [
            "\r 68%|██████▊   | 1349/1970 [18:07<27:06,  2.62s/it]"
          ],
          "name": "stderr"
        },
        {
          "output_type": "stream",
          "text": [
            "video 'Oq3FV_zdyy0_843_855' converted successfully.\n"
          ],
          "name": "stdout"
        },
        {
          "output_type": "stream",
          "text": [
            "\r 69%|██████▊   | 1350/1970 [18:10<27:55,  2.70s/it]"
          ],
          "name": "stderr"
        },
        {
          "output_type": "stream",
          "text": [
            "video '9gbUM9oHBNI_557_563' converted successfully.\n"
          ],
          "name": "stdout"
        },
        {
          "output_type": "stream",
          "text": [
            "\r 69%|██████▊   | 1351/1970 [18:13<28:48,  2.79s/it]"
          ],
          "name": "stderr"
        },
        {
          "output_type": "stream",
          "text": [
            "video 'otLEUwHao_E_140_151' converted successfully.\n"
          ],
          "name": "stdout"
        },
        {
          "output_type": "stream",
          "text": [
            "\r 69%|██████▊   | 1352/1970 [18:17<33:26,  3.25s/it]"
          ],
          "name": "stderr"
        },
        {
          "output_type": "stream",
          "text": [
            "video 'OVEe1DMsOq0_43_52' converted successfully.\n"
          ],
          "name": "stdout"
        },
        {
          "output_type": "stream",
          "text": [
            "\r 69%|██████▊   | 1353/1970 [18:19<29:38,  2.88s/it]"
          ],
          "name": "stderr"
        },
        {
          "output_type": "stream",
          "text": [
            "video 'OO-5-eVEKPA_25_31' converted successfully.\n"
          ],
          "name": "stdout"
        },
        {
          "output_type": "stream",
          "text": [
            "\r 69%|██████▊   | 1354/1970 [18:22<30:49,  3.00s/it]"
          ],
          "name": "stderr"
        },
        {
          "output_type": "stream",
          "text": [
            "video 'OpR1Er5o6IY_209_217' converted successfully.\n"
          ],
          "name": "stdout"
        },
        {
          "output_type": "stream",
          "text": [
            "\r 69%|██████▉   | 1355/1970 [18:24<26:42,  2.60s/it]"
          ],
          "name": "stderr"
        },
        {
          "output_type": "stream",
          "text": [
            "video 'OvRmRN1-O0Q_21_25' converted successfully.\n"
          ],
          "name": "stdout"
        },
        {
          "output_type": "stream",
          "text": [
            "\r 69%|██████▉   | 1356/1970 [18:27<27:39,  2.70s/it]"
          ],
          "name": "stderr"
        },
        {
          "output_type": "stream",
          "text": [
            "video 'OxL9z2BzBnk_0_19' converted successfully.\n"
          ],
          "name": "stdout"
        },
        {
          "output_type": "stream",
          "text": [
            "\r 69%|██████▉   | 1357/1970 [18:29<26:32,  2.60s/it]"
          ],
          "name": "stderr"
        },
        {
          "output_type": "stream",
          "text": [
            "video 'Ow_o78zjo14_42_57' converted successfully.\n",
            "video 'P2WM91LENgk_40_50' converted successfully.\n"
          ],
          "name": "stdout"
        },
        {
          "output_type": "stream",
          "text": [
            " 69%|██████▉   | 1359/1970 [18:35<27:11,  2.67s/it]"
          ],
          "name": "stderr"
        },
        {
          "output_type": "stream",
          "text": [
            "video 'p3J3TAdKAYQ_0_10' converted successfully.\n"
          ],
          "name": "stdout"
        },
        {
          "output_type": "stream",
          "text": [
            "\r 69%|██████▉   | 1360/1970 [18:37<26:39,  2.62s/it]"
          ],
          "name": "stderr"
        },
        {
          "output_type": "stream",
          "text": [
            "video 'P6eo3LULuuc_1_11' converted successfully.\n"
          ],
          "name": "stdout"
        },
        {
          "output_type": "stream",
          "text": [
            "\r 69%|██████▉   | 1361/1970 [18:46<43:41,  4.30s/it]"
          ],
          "name": "stderr"
        },
        {
          "output_type": "stream",
          "text": [
            "video '9HDUADeA2xg_3_31' converted successfully.\n"
          ],
          "name": "stdout"
        },
        {
          "output_type": "stream",
          "text": [
            "\r 69%|██████▉   | 1362/1970 [18:48<38:28,  3.80s/it]"
          ],
          "name": "stderr"
        },
        {
          "output_type": "stream",
          "text": [
            "video 'p6T3XrnYtFk_4_13' converted successfully.\n"
          ],
          "name": "stdout"
        },
        {
          "output_type": "stream",
          "text": [
            "\r 69%|██████▉   | 1363/1970 [18:51<34:45,  3.44s/it]"
          ],
          "name": "stderr"
        },
        {
          "output_type": "stream",
          "text": [
            "video 'P4IjNV3lZkQ_136_144' converted successfully.\n"
          ],
          "name": "stdout"
        },
        {
          "output_type": "stream",
          "text": [
            "\r 69%|██████▉   | 1364/1970 [18:54<34:27,  3.41s/it]"
          ],
          "name": "stderr"
        },
        {
          "output_type": "stream",
          "text": [
            "video 'p69d3UBdpR8_98_109' converted successfully.\n"
          ],
          "name": "stdout"
        },
        {
          "output_type": "stream",
          "text": [
            "\r 69%|██████▉   | 1365/1970 [18:56<28:58,  2.87s/it]"
          ],
          "name": "stderr"
        },
        {
          "output_type": "stream",
          "text": [
            "video 'p7IAuvd87hQ_12_19' converted successfully.\n"
          ],
          "name": "stdout"
        },
        {
          "output_type": "stream",
          "text": [
            "\r 69%|██████▉   | 1366/1970 [18:58<26:06,  2.59s/it]"
          ],
          "name": "stderr"
        },
        {
          "output_type": "stream",
          "text": [
            "video 'p69Q8lTkZTc_21_29' converted successfully.\n"
          ],
          "name": "stdout"
        },
        {
          "output_type": "stream",
          "text": [
            "\r 69%|██████▉   | 1367/1970 [18:59<21:07,  2.10s/it]"
          ],
          "name": "stderr"
        },
        {
          "output_type": "stream",
          "text": [
            "video 'PAN5IVvMlVc_17_23' converted successfully.\n"
          ],
          "name": "stdout"
        },
        {
          "output_type": "stream",
          "text": [
            "\r 69%|██████▉   | 1368/1970 [19:01<22:13,  2.22s/it]"
          ],
          "name": "stderr"
        },
        {
          "output_type": "stream",
          "text": [
            "video 'p6cg2jWI34M_34_42' converted successfully.\n"
          ],
          "name": "stdout"
        },
        {
          "output_type": "stream",
          "text": [
            "\r 69%|██████▉   | 1369/1970 [19:04<23:07,  2.31s/it]"
          ],
          "name": "stderr"
        },
        {
          "output_type": "stream",
          "text": [
            "video 'pcjuCotJYj8_50_62' converted successfully.\n"
          ],
          "name": "stdout"
        },
        {
          "output_type": "stream",
          "text": [
            "\r 70%|██████▉   | 1370/1970 [19:05<20:14,  2.02s/it]"
          ],
          "name": "stderr"
        },
        {
          "output_type": "stream",
          "text": [
            "video 'PCXHuseKwDc_17_20' converted successfully.\n"
          ],
          "name": "stdout"
        },
        {
          "output_type": "stream",
          "text": [
            "\r 70%|██████▉   | 1371/1970 [19:08<24:32,  2.46s/it]"
          ],
          "name": "stderr"
        },
        {
          "output_type": "stream",
          "text": [
            "video '9HTUcMjWB3g_122_128' converted successfully.\n"
          ],
          "name": "stdout"
        },
        {
          "output_type": "stream",
          "text": [
            "\r 70%|██████▉   | 1372/1970 [19:10<23:04,  2.32s/it]"
          ],
          "name": "stderr"
        },
        {
          "output_type": "stream",
          "text": [
            "video 'pDvzOLRLjPc_0_8' converted successfully.\n"
          ],
          "name": "stdout"
        },
        {
          "output_type": "stream",
          "text": [
            "\r 70%|██████▉   | 1373/1970 [19:11<19:21,  1.95s/it]"
          ],
          "name": "stderr"
        },
        {
          "output_type": "stream",
          "text": [
            "video 'PeUHy0A1GF0_51_55' converted successfully.\n"
          ],
          "name": "stdout"
        },
        {
          "output_type": "stream",
          "text": [
            "\r 70%|██████▉   | 1374/1970 [19:13<16:54,  1.70s/it]"
          ],
          "name": "stderr"
        },
        {
          "output_type": "stream",
          "text": [
            "video 'PeUHy0A1GF0_62_66' converted successfully.\n"
          ],
          "name": "stdout"
        },
        {
          "output_type": "stream",
          "text": [
            "\r 70%|██████▉   | 1375/1970 [19:16<20:41,  2.09s/it]"
          ],
          "name": "stderr"
        },
        {
          "output_type": "stream",
          "text": [
            "video 'PCXHuseKwDc_68_76' converted successfully.\n"
          ],
          "name": "stdout"
        },
        {
          "output_type": "stream",
          "text": [
            "\r 70%|██████▉   | 1376/1970 [19:17<18:42,  1.89s/it]"
          ],
          "name": "stderr"
        },
        {
          "output_type": "stream",
          "text": [
            "video 'PeUHy0A1GF0_68_73' converted successfully.\n"
          ],
          "name": "stdout"
        },
        {
          "output_type": "stream",
          "text": [
            "\r 70%|██████▉   | 1377/1970 [19:18<15:38,  1.58s/it]"
          ],
          "name": "stderr"
        },
        {
          "output_type": "stream",
          "text": [
            "video 'PeUHy0A1GF0_74_77' converted successfully.\n"
          ],
          "name": "stdout"
        },
        {
          "output_type": "stream",
          "text": [
            "\r 70%|██████▉   | 1378/1970 [19:21<18:52,  1.91s/it]"
          ],
          "name": "stderr"
        },
        {
          "output_type": "stream",
          "text": [
            "video 'PECk9A-07Pw_1_9' converted successfully.\n"
          ],
          "name": "stdout"
        },
        {
          "output_type": "stream",
          "text": [
            "\r 70%|███████   | 1379/1970 [19:22<16:23,  1.66s/it]"
          ],
          "name": "stderr"
        },
        {
          "output_type": "stream",
          "text": [
            "video 'PeUHy0A1GF0_28_32' converted successfully.\n"
          ],
          "name": "stdout"
        },
        {
          "output_type": "stream",
          "text": [
            " 71%|███████▏  | 1406/1970 [19:24<12:28,  1.33s/it]"
          ],
          "name": "stderr"
        },
        {
          "output_type": "stream",
          "text": [
            "video 'pdrBPJYfTC8_33_39' converted successfully.\n",
            "video frame directory has files. skipping video 4QdX5Q3qQsQ_38_44\n",
            "video frame directory has files. skipping video 4Tn5S48sCwg_110_118\n",
            "video frame directory has files. skipping video -4wsuPCjDBc_5_15\n",
            "video frame directory has files. skipping video 4wT7zM8XgXQ_5_11\n",
            "video frame directory has files. skipping video 4UOVKok7j1U_1_8\n",
            "video frame directory has files. skipping video 4VLrxtf7Z_8_0_7\n",
            "video frame directory has files. skipping video 4QYPZM01xFE_14_26\n",
            "video frame directory has files. skipping video 4s_0-zIWEog_1_15\n",
            "video frame directory has files. skipping video 4t5POXt2e68_5_11\n",
            "video frame directory has files. skipping video 4yf2WP6K1gQ_28_32\n",
            "video frame directory has files. skipping video 4xVGpDmA4lE_23_33\n",
            "video frame directory has files. skipping video 4z3b4mnw5y4_56_60\n",
            "video frame directory has files. skipping video _sJ_09Mf1HY_49_72\n",
            "video frame directory has files. skipping video 4yYapi-5QYQ_33_57\n",
            "video frame directory has files. skipping video 05Gtb7_9tLU_0_9\n",
            "video frame directory has files. skipping video 4zPSShqsq-o_3_16\n",
            "video frame directory has files. skipping video 5-8z5U-o4O4_0_3\n",
            "video frame directory has files. skipping video 5CS4nLI2ZX8_50_59\n",
            "video frame directory has files. skipping video 5E66Gk3V1Bc_23_30\n",
            "video frame directory has files. skipping video 05gNigkqfNU_24_32\n",
            "video frame directory has files. skipping video 5EXVeP6R3yc_105_108\n",
            "video frame directory has files. skipping video 5fDBl1wT2Lk_34_39\n",
            "video frame directory has files. skipping video 05gNigkqfNU_25_34\n",
            "video frame directory has files. skipping video 5dZ8PXABC30_14_20\n",
            "video frame directory has files. skipping video _SNE2MYAotU_41_49\n",
            "video frame directory has files. skipping video 05gNigkqfNU_78_84\n",
            "video frame directory has files. skipping video 5HAf_INrFy0_3_25\n",
            "video frame directory has files. skipping video 5fq9iIxxA1s_12_27\n",
            "video frame directory has files. skipping video 5JLi7L1Kwp8_23_30\n",
            "video frame directory has files. skipping video 5K7Ru5s6YIw_8_11\n",
            "video frame directory has files. skipping video 5L5MoemWC6g_10_13\n",
            "video frame directory has files. skipping video 5U3xz9Ovmhk_99_105\n",
            "video frame directory has files. skipping video 5l6acVf12S4_7_13\n",
            "video frame directory has files. skipping video 5W02895vT8c_312_322\n",
            "video frame directory has files. skipping video 5P6UU6m3cqk_57_75\n",
            "video frame directory has files. skipping video 5U3xz9Ovmhk_258_265\n",
            "video frame directory has files. skipping video _WRC7HXBJpU_360_370\n",
            "video frame directory has files. skipping video 5W02895vT8c_460_470\n",
            "video frame directory has files. skipping video 5XxshEdcfAM_85_100\n"
          ],
          "name": "stdout"
        },
        {
          "output_type": "stream",
          "text": [
            " 74%|███████▍  | 1454/1970 [19:24<05:36,  1.53it/s]"
          ],
          "name": "stderr"
        },
        {
          "output_type": "stream",
          "text": [
            "video frame directory has files. skipping video 5PpPOGU_0aA_65_75\n",
            "video frame directory has files. skipping video 5U3xz9Ovmhk_214_222\n",
            "video frame directory has files. skipping video 5U3xz9Ovmhk_9_15\n",
            "video frame directory has files. skipping video 5XxshEdcfAM_96_107\n",
            "video frame directory has files. skipping video 06CbMa0kDr8_3_13\n",
            "video frame directory has files. skipping video _WRC7HXBJpU_386_391\n",
            "video frame directory has files. skipping video 6BrHPMdyVtU_1_10\n",
            "video frame directory has files. skipping video 5YJaS2Eswg0_22_26\n",
            "video frame directory has files. skipping video 6FmN22YcVVE_11_18\n",
            "video frame directory has files. skipping video 5zkCnHUnoYY_69_74\n",
            "video frame directory has files. skipping video 6gQu8PWhFoQ_30_35\n",
            "video frame directory has files. skipping video 6eokrw6_bjU_1_9\n",
            "video frame directory has files. skipping video 6gQu8PWhFoQ_37_41\n",
            "video frame directory has files. skipping video 6njscWrdnM0_8_18\n",
            "video frame directory has files. skipping video 6GJ1DNOGDAM_223_233\n",
            "video frame directory has files. skipping video 6JnGBs88sL0_4_10\n",
            "video frame directory has files. skipping video _WRC7HXBJpU_395_401\n",
            "video frame directory has files. skipping video 6pcqRuFEMLs_46_52\n",
            "video frame directory has files. skipping video 6Lzq1HN33lE_5_15\n",
            "video frame directory has files. skipping video 6q1dX6thX3E_286_295\n",
            "video frame directory has files. skipping video 6Q3ltyPJJMQ_67_72\n",
            "video frame directory has files. skipping video 6mYnZbIwcNo_10_16\n",
            "video frame directory has files. skipping video 6r5DmFa5ZR8_51_58\n",
            "video frame directory has files. skipping video 6t0BpjwYKco_53_59\n",
            "video frame directory has files. skipping video 6RlYLTU5gvM_18_24\n",
            "video frame directory has files. skipping video 6t0BpjwYKco_15_31\n",
            "video frame directory has files. skipping video 6t0BpjwYKco_59_69\n",
            "video frame directory has files. skipping video 6t0BpjwYKco_46_53\n",
            "video frame directory has files. skipping video 6t0BpjwYKco_71_76\n",
            "video frame directory has files. skipping video 6QbhfbLUtQs_13_23\n",
            "video frame directory has files. skipping video 6sKdTbRkahM_6_12\n",
            "video frame directory has files. skipping video 6t0BpjwYKco_80_84\n",
            "video frame directory has files. skipping video _WRC7HXBJpU_414_425\n",
            "video frame directory has files. skipping video 6t0BpjwYKco_105_110\n",
            "video frame directory has files. skipping video 6t0BpjwYKco_118_127\n",
            "video frame directory has files. skipping video 6t0BpjwYKco_142_151\n",
            "video frame directory has files. skipping video 6t0BpjwYKco_230_240\n",
            "video frame directory has files. skipping video 6t0BpjwYKco_179_183\n",
            "video frame directory has files. skipping video 6t0BpjwYKco_240_247\n",
            "video frame directory has files. skipping video 6t0BpjwYKco_200_205\n",
            "video frame directory has files. skipping video 6t0BpjwYKco_217_229\n",
            "video frame directory has files. skipping video 6t0BpjwYKco_254_258\n",
            "video frame directory has files. skipping video 6vC6AT27RUc_29_46\n",
            "video frame directory has files. skipping video 6ZhKOK08tgM_45_49\n",
            "video frame directory has files. skipping video 6ZZkO14S7GY_5_15\n",
            "video frame directory has files. skipping video 6vSKIUGGLvY_81_87\n",
            "video frame directory has files. skipping video 7d1d2WlEnKs_0_12\n",
            "video frame directory has files. skipping video 6ZhKOK08tgM_225_233\n",
            "video frame directory has files. skipping video 7OGizkf_JEo_191_194\n",
            "video frame directory has files. skipping video 7_XASfcYdBk_3_13\n",
            "video frame directory has files. skipping video 7EOqi_6rnkg_36_44\n",
            "video frame directory has files. skipping video _WRC7HXBJpU_451_464\n",
            "video frame directory has files. skipping video 7bcV-TL9mho_0_7\n",
            "video frame directory has files. skipping video -7KMZQEsJW4_205_208\n",
            "video frame directory has files. skipping video 7NNg0_n-bS8_21_30\n",
            "video frame directory has files. skipping video 7M-jsjLB20Y_11_30\n",
            "video frame directory has files. skipping video 7s0AXJtLL0Y_57_61\n"
          ],
          "name": "stdout"
        },
        {
          "output_type": "stream",
          "text": [
            "\r 75%|███████▍  | 1477/1970 [19:28<04:06,  2.00it/s]"
          ],
          "name": "stderr"
        },
        {
          "output_type": "stream",
          "text": [
            "video '8HB7ywgJuTg_131_142' converted successfully.\n",
            "video frame directory has files. skipping video 8MVo7fje_oE_85_90\n",
            "video frame directory has files. skipping video 8BL9qmFRbd4_6_13\n",
            "video frame directory has files. skipping video 8MVo7fje_oE_108_113\n",
            "video frame directory has files. skipping video _yUiusXxfWI_150_165\n",
            "video '8jP8CC2rKj4_80_88' converted successfully.\n"
          ],
          "name": "stdout"
        },
        {
          "output_type": "stream",
          "text": [
            " 77%|███████▋  | 1509/1970 [19:33<02:36,  2.94it/s]"
          ],
          "name": "stderr"
        },
        {
          "output_type": "stream",
          "text": [
            "video '8D_oQnBPfNo_43_50' converted successfully.\n",
            "video frame directory has files. skipping video 8mSUD7JGNO0_198_204\n",
            "video frame directory has files. skipping video 8mSUD7JGNO0_174_181\n",
            "video frame directory has files. skipping video 8e0yXMa708Y_24_33\n",
            "video frame directory has files. skipping video 8MVo7fje_oE_113_118\n",
            "video frame directory has files. skipping video 8MVo7fje_oE_139_144\n",
            "video frame directory has files. skipping video 8MVo7fje_oE_125_130\n",
            "video frame directory has files. skipping video 8MVo7fje_oE_180_185\n",
            "video frame directory has files. skipping video 8MVo7fje_oE_153_158\n",
            "video frame directory has files. skipping video 8MVo7fje_oE_130_136\n",
            "video frame directory has files. skipping video 8NFoN0K3bPg_20_28\n",
            "video frame directory has files. skipping video 8MVo7fje_oE_166_171\n",
            "video frame directory has files. skipping video 8VUbN3hkdBo_36_50\n",
            "video frame directory has files. skipping video 9LHg5RUGukI_58_63\n",
            "video frame directory has files. skipping video 8yoUaH6wGLs_22_30\n",
            "video frame directory has files. skipping video 8z-XGiU1KN4_9_17\n",
            "video frame directory has files. skipping video 9LHg5RUGukI_63_68\n",
            "video frame directory has files. skipping video 0bSz70pYAP0_5_15\n",
            "video frame directory has files. skipping video 9Bxknsvy3jQ_53_58\n",
            "video frame directory has files. skipping video 9LOJmQQktHA_10_18\n",
            "video frame directory has files. skipping video 9LSuyLyuUiM_3_6\n",
            "video frame directory has files. skipping video 9IrWyZ0KZuk_160_166\n",
            "video frame directory has files. skipping video 9fkS7wqrzAY_13_25\n",
            "video frame directory has files. skipping video 9OvXb1fot74_21_29\n",
            "video frame directory has files. skipping video 9OxQ-2gR1DU_18_38\n",
            "video frame directory has files. skipping video 9VG7Elw9TDA_85_91\n",
            "video frame directory has files. skipping video 9Q0JfdP36kI_23_28\n",
            "video frame directory has files. skipping video 9W6aQNcU3PA_92_103\n",
            "video frame directory has files. skipping video 9Q0JfdP36kI_167_170\n",
            "video frame directory has files. skipping video 11xs9mFKObs_0_8\n",
            "video frame directory has files. skipping video 16iNk1hLJt4_37_40\n",
            "video frame directory has files. skipping video 9uDPqigcnzw_36_46\n",
            "video frame directory has files. skipping video 9zXqkHvs0po_59_65\n",
            "video frame directory has files. skipping video 25NmudB2fqg_0_7\n",
            "video frame directory has files. skipping video 30GeJHYoerk_63_75\n",
            "video frame directory has files. skipping video 30GeJHYoerk_121_126\n",
            "video frame directory has files. skipping video 30GeJHYoerk_80_85\n",
            "video frame directory has files. skipping video 32_A0-er4Ws_16_20\n",
            "video frame directory has files. skipping video 27mxaePkYB4_8_14\n",
            "video frame directory has files. skipping video 0GXq1An3yHI_22_35\n",
            "video frame directory has files. skipping video 27hs9W89FuI_0_10\n",
            "video frame directory has files. skipping video 30PpKtVT8Z4_35_50\n",
            "video frame directory has files. skipping video 53dc4z7HLyg_25_29\n",
            "video frame directory has files. skipping video 39Ce7I6nXIw_96_104\n",
            "video frame directory has files. skipping video 77iDIp40m9E_3_9\n",
            "video frame directory has files. skipping video 64Xn9edeWRA_0_11\n",
            "video frame directory has files. skipping video 0hyZ__3YhZc_289_295\n",
            "video frame directory has files. skipping video 71soiLO6I9U_15_24\n",
            "video frame directory has files. skipping video 45AGQSbodbU_5_15\n",
            "video frame directory has files. skipping video 77iDIp40m9E_119_123\n",
            "video frame directory has files. skipping video 73vUksucPz8_12_20\n",
            "video frame directory has files. skipping video 53dc4z7HLyg_16_23\n",
            "video frame directory has files. skipping video 77iDIp40m9E_126_131\n",
            "video frame directory has files. skipping video 80D0ylOqPJ8_0_5\n",
            "video frame directory has files. skipping video 0hyZ__3YhZc_302_307\n"
          ],
          "name": "stdout"
        },
        {
          "output_type": "stream",
          "text": [
            " 80%|████████  | 1577/1970 [19:33<01:06,  5.95it/s]"
          ],
          "name": "stderr"
        },
        {
          "output_type": "stream",
          "text": [
            "video frame directory has files. skipping video 81fABEiwcIM_31_45\n",
            "video frame directory has files. skipping video 93n_oYVCLpk_9_12\n",
            "video frame directory has files. skipping video 97JhYpoWxzY_0_4\n",
            "video frame directory has files. skipping video 88DOMJ11q2M_34_43\n",
            "video frame directory has files. skipping video 98shpdib9sg_55_62\n",
            "video frame directory has files. skipping video 88DOMJ11q2M_84_87\n",
            "video frame directory has files. skipping video 229NvV0SRHw_0_5\n",
            "video frame directory has files. skipping video 88p7U5CnoYU_1_10\n",
            "video frame directory has files. skipping video 504gE1DA_4g_1_6\n",
            "video frame directory has files. skipping video a1Y73sPHKxw_0_5\n",
            "video frame directory has files. skipping video 0hyZ__3YhZc_341_348\n",
            "video frame directory has files. skipping video 953PkxFNiko_82_85\n",
            "video frame directory has files. skipping video A6XrTsLsUbA_4_15\n",
            "video frame directory has files. skipping video 98Alrg4pFXs_148_153\n",
            "video frame directory has files. skipping video Aa7yf9XtcJM_45_50\n",
            "video frame directory has files. skipping video ACOmKiJDkA4_20_26\n",
            "video frame directory has files. skipping video aCKNdip53W4_0_25\n",
            "video frame directory has files. skipping video ACOmKiJDkA4_23_30\n",
            "video frame directory has files. skipping video aC-KOYQsIvU_25_31\n",
            "video frame directory has files. skipping video ACOmKiJDkA4_47_54\n",
            "video frame directory has files. skipping video 0hyZ__3YhZc_364_370\n",
            "video frame directory has files. skipping video a1i6T160REQ_5_18\n",
            "video frame directory has files. skipping video 992zi9V3oiQ_15_17\n",
            "video frame directory has files. skipping video ACOmKiJDkA4_49_54\n",
            "video frame directory has files. skipping video ACOmKiJDkA4_57_65\n",
            "video frame directory has files. skipping video ACOmKiJDkA4_67_74\n",
            "video frame directory has files. skipping video ACOmKiJDkA4_75_81\n",
            "video frame directory has files. skipping video ACOmKiJDkA4_121_128\n",
            "video frame directory has files. skipping video 0hyZ__3YhZc_380_384\n",
            "video frame directory has files. skipping video a-cek0mvXxE_15_25\n",
            "video frame directory has files. skipping video ACOmKiJDkA4_161_170\n",
            "video frame directory has files. skipping video ACOmKiJDkA4_130_144\n",
            "video frame directory has files. skipping video ACOmKiJDkA4_175_182\n",
            "video frame directory has files. skipping video ACOmKiJDkA4_146_153\n",
            "video frame directory has files. skipping video AdcgmBtE99c_108_114\n",
            "video frame directory has files. skipping video AE9UaQwum8c_0_10\n",
            "video frame directory has files. skipping video aeA-HN7BMdo_52_58\n",
            "video frame directory has files. skipping video aGUx0QOKWXw_7_12\n",
            "video frame directory has files. skipping video 0hyZ__3YhZc_388_394\n",
            "video frame directory has files. skipping video aeA-HN7BMdo_16_33\n",
            "video frame directory has files. skipping video AEKPjVHSVZc_0_12\n",
            "video frame directory has files. skipping video Afmc6FeN-hM_20_24\n",
            "video frame directory has files. skipping video aeA-HN7BMdo_34_41\n",
            "video frame directory has files. skipping video AGRFy5hDQiY_31_38\n",
            "video frame directory has files. skipping video aHiUM8uWxxo_17_25\n",
            "video frame directory has files. skipping video AjZ-R3LFMzo_5_10\n",
            "video frame directory has files. skipping video AKVBK-0veE8_5_12\n",
            "video frame directory has files. skipping video AJJ-iQkbRNE_97_109\n",
            "video frame directory has files. skipping video AjZ-R3LFMzo_18_23\n",
            "video frame directory has files. skipping video akXjIEoecNs_2_12\n",
            "video frame directory has files. skipping video 0hyZ__3YhZc_410_417\n",
            "video frame directory has files. skipping video ao-9B8IV9_E_77_81\n",
            "video frame directory has files. skipping video ao-9B8IV9_E_37_44\n",
            "video frame directory has files. skipping video AjZ-R3LFMzo_24_38\n",
            "video frame directory has files. skipping video ao-9B8IV9_E_72_77\n",
            "video frame directory has files. skipping video ao-9B8IV9_E_87_95\n",
            "video frame directory has files. skipping video 0hyZ__3YhZc_418_424\n",
            "video frame directory has files. skipping video ao-9B8IV9_E_108_119\n",
            "video frame directory has files. skipping video ao-9B8IV9_E_217_221\n",
            "video frame directory has files. skipping video Ar70p1_LcfM_2_20\n",
            "video frame directory has files. skipping video ArEWo8pERFc_17_21\n",
            "video frame directory has files. skipping video Ayh26v6Nies_17_22\n",
            "video frame directory has files. skipping video AoNnzlGhI04_112_128\n",
            "video frame directory has files. skipping video aRo8x3xXeEA_3_8\n",
            "video frame directory has files. skipping video 0hyZ__3YhZc_485_490\n",
            "video frame directory has files. skipping video AX38yo7Wuws_81_91\n",
            "video frame directory has files. skipping video AQhiE_NL6yY_91_101\n"
          ],
          "name": "stdout"
        },
        {
          "output_type": "stream",
          "text": [
            " 83%|████████▎ | 1642/1970 [19:34<00:27, 11.92it/s]"
          ],
          "name": "stderr"
        },
        {
          "output_type": "stream",
          "text": [
            "video frame directory has files. skipping video -AwoiGR6c8M_10_14\n",
            "video frame directory has files. skipping video AXL1oMdCFUM_45_59\n",
            "video frame directory has files. skipping video AysIdzGF-7M_6_14\n",
            "video frame directory has files. skipping video b4FM9OLBGyM_37_49\n",
            "video frame directory has files. skipping video b_BuSVZwq6M_1_9\n",
            "video frame directory has files. skipping video BApIQn69EVE_10_16\n",
            "video frame directory has files. skipping video 0hyZ__3YhZc_562_568\n",
            "video frame directory has files. skipping video bAYIIlX-WWw_5_15\n",
            "video frame directory has files. skipping video B4foOe9kUgY_0_8\n",
            "video frame directory has files. skipping video AzMrltkXGJk_0_10\n",
            "video frame directory has files. skipping video b24_bb57PPk_631_637\n",
            "video frame directory has files. skipping video BE_uxYK9uz0_49_56\n",
            "video frame directory has files. skipping video b97TK8XVLHE_40_50\n",
            "video frame directory has files. skipping video bb6V0Grtub4_174_185\n",
            "video frame directory has files. skipping video 0hyZ__3YhZc_575_580\n",
            "video frame directory has files. skipping video BefkDBj5gSw_104_109\n",
            "video frame directory has files. skipping video bDoCQEwghZU_201_211\n",
            "video frame directory has files. skipping video BefkDBj5gSw_233_240\n",
            "video frame directory has files. skipping video bK-i_FAcpoY_86_92\n",
            "video frame directory has files. skipping video bLqmf8x7rLI_2_8\n",
            "video frame directory has files. skipping video BGG0uYWZBdw_6_12\n",
            "video frame directory has files. skipping video BgoOihBb78w_38_40\n",
            "video frame directory has files. skipping video bL_Kijz9IN4_0_15\n",
            "video frame directory has files. skipping video BLXzfdNmydQ_151_156\n",
            "video frame directory has files. skipping video BIqVvRh_cEY_143_149\n",
            "video frame directory has files. skipping video bmOy6p87TWI_26_35\n",
            "video frame directory has files. skipping video 0hyZ__3YhZc_632_637\n",
            "video frame directory has files. skipping video bkazguPsusc_74_85\n",
            "video frame directory has files. skipping video bmvD4HlPFxg_20_27\n",
            "video frame directory has files. skipping video bnN_o0Hkn3M_73_80\n",
            "video frame directory has files. skipping video BOv-2HzNPaA_7_12\n",
            "video frame directory has files. skipping video bSrpvMSuhPM_17_31\n",
            "video frame directory has files. skipping video bruzcOyIGeg_4_12\n",
            "video frame directory has files. skipping video BtQEY2SL4g4_11_16\n",
            "video frame directory has files. skipping video BnJUWwSx1kE_11_22\n",
            "video frame directory has files. skipping video bqMmyY1ImkI_0_14\n",
            "video frame directory has files. skipping video 0NPtAv3_uVI_46_54\n",
            "video frame directory has files. skipping video bSIjZ75a50s_286_304\n",
            "video frame directory has files. skipping video BtQEY2SL4g4_126_132\n",
            "video frame directory has files. skipping video BOLKaQeB6j0_101_111\n",
            "video frame directory has files. skipping video BtQtRGI0F2Q_15_20\n",
            "video frame directory has files. skipping video btuxO-C2IzE_64_72\n",
            "video frame directory has files. skipping video BVjvRpmHg0w_47_51\n",
            "video frame directory has files. skipping video buJ5HDCinrM_150_166\n",
            "video frame directory has files. skipping video BVjvRpmHg0w_121_130\n",
            "video frame directory has files. skipping video bxjFqtfJlMs_18_27\n",
            "video frame directory has files. skipping video BvHnDAsMtUA_0_13\n",
            "video frame directory has files. skipping video 0piwbTivpDg_10_40\n",
            "video frame directory has files. skipping video BVjvRpmHg0w_157_165\n",
            "video frame directory has files. skipping video ByGspTdA1ug_16_24\n",
            "video frame directory has files. skipping video BVilbVCo9sU_1_11\n",
            "video frame directory has files. skipping video BVjvRpmHg0w_231_250\n",
            "video frame directory has files. skipping video C_1cnNdMwxY_0_8\n",
            "video frame directory has files. skipping video bXsKw3TOQXs_30_55\n",
            "video frame directory has files. skipping video C_DDjCRxTxQ_1_4\n",
            "video frame directory has files. skipping video 0RWJEOScToE_414_421\n",
            "video frame directory has files. skipping video c_XV7nPoRg8_2_12\n",
            "video frame directory has files. skipping video C1MNCR1o9lU_0_7\n"
          ],
          "name": "stdout"
        },
        {
          "output_type": "stream",
          "text": [
            " 86%|████████▌ | 1697/1970 [19:34<00:11, 23.21it/s]"
          ],
          "name": "stderr"
        },
        {
          "output_type": "stream",
          "text": [
            "video frame directory has files. skipping video C9LHk0AJI7U_196_205\n",
            "video frame directory has files. skipping video c2a0GcoJAjw_52_73\n",
            "video frame directory has files. skipping video C9vRgZDxTv4_26_33\n",
            "video frame directory has files. skipping video c76tShLfQb0_74_81\n",
            "video frame directory has files. skipping video c53HKs39i28_26_35\n",
            "video frame directory has files. skipping video C2rDp6FnbP0_10_17\n",
            "video frame directory has files. skipping video CBD9h0jUq3w_1_7\n",
            "video frame directory has files. skipping video cCmnN96zIeQ_14_24\n",
            "video frame directory has files. skipping video 0vmoZEaN_-o_5_21\n",
            "video frame directory has files. skipping video Ce7equ9zCxk_4_19\n",
            "video frame directory has files. skipping video c2a0GcoJAjw_107_129\n",
            "video frame directory has files. skipping video c75SIlAjfjg_6_14\n",
            "video frame directory has files. skipping video cFzSEIGrEfA_0_24\n",
            "video frame directory has files. skipping video CL49s8bO6Fg_1_11\n",
            "video frame directory has files. skipping video CHFXTeQWXjo_206_212\n",
            "video frame directory has files. skipping video clKtfGBVI1I_15_28\n",
            "video frame directory has files. skipping video Cjf21Y19aUQ_82_86\n",
            "video frame directory has files. skipping video 0xx13BuvVmo_25_36\n",
            "video frame directory has files. skipping video cJOZp2ZftCw_1_12\n",
            "video frame directory has files. skipping video cLNrpO6wBk4_37_47\n",
            "video frame directory has files. skipping video CHVhwcOg6y8_1_12\n",
            "video frame directory has files. skipping video clpgffj3sUw_1_12\n",
            "video frame directory has files. skipping video CjvMNwpAFWM_56_66\n",
            "video frame directory has files. skipping video cmQ3SiIaWy4_4_20\n",
            "video frame directory has files. skipping video crfrKqFp0Zg_15_25\n",
            "video frame directory has files. skipping video cnsjm3fNEec_4_10\n",
            "video frame directory has files. skipping video CGllPWAwmUo_1_15\n",
            "video frame directory has files. skipping video cs33MNhpRNw_16_21\n",
            "video frame directory has files. skipping video 1dfR0A_BXjw_401_408\n",
            "video frame directory has files. skipping video cSDkshD2ME0_11_14\n",
            "video frame directory has files. skipping video cM55xNJ_pfU_1_20\n",
            "video frame directory has files. skipping video cR2yi-JnGcQ_8_16\n",
            "video frame directory has files. skipping video cSDkshD2ME0_12_15\n",
            "video frame directory has files. skipping video Cx1We6GX4IM_0_8\n",
            "video frame directory has files. skipping video CTIKmoEigCI_3_30\n",
            "video frame directory has files. skipping video Cxxx6wJ1jNo_0_10\n",
            "video frame directory has files. skipping video 1dfR0A_BXjw_441_448\n",
            "video frame directory has files. skipping video -Cv5LsqKUXc_71_76\n",
            "video frame directory has files. skipping video CulG2SMC7DU_14_25\n",
            "video frame directory has files. skipping video d_BWuttLRFM_42_52\n",
            "video frame directory has files. skipping video cwkjJrGpoaU_30_41\n",
            "video frame directory has files. skipping video CwPfvoqmV1Q_58_61\n",
            "video frame directory has files. skipping video D9I1Z6O_mbw_112_119\n",
            "video frame directory has files. skipping video D9I1Z6O_mbw_141_146\n",
            "video frame directory has files. skipping video D1X6qXkLjYE_41_49\n",
            "video frame directory has files. skipping video d-2C_N5anww_1_3\n",
            "video frame directory has files. skipping video DAmOfcvfKZ0_22_32\n",
            "video frame directory has files. skipping video d7eGypGOlOc_13_22\n",
            "video frame directory has files. skipping video dabI5gfaFm4_19_25\n",
            "video frame directory has files. skipping video 1dfR0A_BXjw_524_532\n",
            "video frame directory has files. skipping video d7Gs0uGFLh0_5_13\n",
            "video frame directory has files. skipping video DB-3-TVjrxU_58_75\n",
            "video frame directory has files. skipping video DBvSfds3FH4_84_88\n",
            "video frame directory has files. skipping video dc4UltkRJsw_53_59\n",
            "video frame directory has files. skipping video DBvSfds3FH4_76_80\n",
            "video frame directory has files. skipping video DcDYRpa34W8_11_25\n",
            "video frame directory has files. skipping video dfOuTx66bJU_34_39\n",
            "video frame directory has files. skipping video DDtX5a-OgLQ_1_15\n"
          ],
          "name": "stdout"
        },
        {
          "output_type": "stream",
          "text": [
            " 89%|████████▉ | 1752/1970 [19:34<00:05, 43.45it/s]"
          ],
          "name": "stderr"
        },
        {
          "output_type": "stream",
          "text": [
            "video frame directory has files. skipping video DhwrBs96Kgk_120_124\n",
            "video frame directory has files. skipping video DGQL5lx-mwE_2_12\n",
            "video frame directory has files. skipping video dhxE9CNeVeY_0_12\n",
            "video frame directory has files. skipping video De815YpTBic_41_48\n",
            "video frame directory has files. skipping video Dgf0VHMEtNs_57_66\n",
            "video frame directory has files. skipping video DIebwNHGjm8_27_38\n",
            "video frame directory has files. skipping video dEn5E-TNezw_13_23\n",
            "video frame directory has files. skipping video dfOuTx66bJU_11_14\n",
            "video frame directory has files. skipping video DIToA1dDwGQ_32_42\n",
            "video frame directory has files. skipping video DKgHYLDebx0_0_8\n",
            "video frame directory has files. skipping video -DKuLXYoY3g_14_20\n",
            "video frame directory has files. skipping video DKZg4kIEa0A_31_36\n",
            "video frame directory has files. skipping video 1dfR0A_BXjw_545_560\n",
            "video frame directory has files. skipping video dJ3ba9zwx6c_5_15\n",
            "video frame directory has files. skipping video dJCtOz32dnw_40_60\n",
            "video frame directory has files. skipping video DLcuZ-HnHZc_0_10\n",
            "video frame directory has files. skipping video DIebwNHGjm8_133_148\n",
            "video frame directory has files. skipping video -DRy7rBg0IQ_31_37\n",
            "video frame directory has files. skipping video -dm-ds5rRaM_44_52\n",
            "video frame directory has files. skipping video dtn0PuxgfkM_0_5\n",
            "video frame directory has files. skipping video 1dfR0A_BXjw_590_600\n",
            "video frame directory has files. skipping video dmyz_f8Sx14_56_66\n",
            "video frame directory has files. skipping video dq7agmFWkq0_5_9\n",
            "video frame directory has files. skipping video drsPD5fI1IA_170_180\n",
            "video frame directory has files. skipping video dQmaVQZz7EE_1_18\n",
            "video frame directory has files. skipping video dMH0bHeiRNg_3_14\n",
            "video frame directory has files. skipping video dtwXtwJByYk_5_14\n",
            "video frame directory has files. skipping video 1Dty_eGY9Ec_123_133\n",
            "video frame directory has files. skipping video DuMkW35BwK8_43_47\n",
            "video frame directory has files. skipping video dZBIdRGKRhM_13_32\n",
            "video frame directory has files. skipping video DvYN53KBDr0_51_62\n",
            "video frame directory has files. skipping video e4QGnppJ-ys_6_14\n",
            "video frame directory has files. skipping video E2r6nnkwl0c_6_18\n",
            "video frame directory has files. skipping video e3XkmpNcSt4_8_19\n",
            "video frame directory has files. skipping video Ea0thGZKPXA_25_35\n",
            "video frame directory has files. skipping video EBWPZIjtnTM_1_6\n",
            "video frame directory has files. skipping video E6sqA9QtV5I_195_201\n",
            "video frame directory has files. skipping video 1N_Ic2pBM1o_2_23\n",
            "video frame directory has files. skipping video e40bBP0_AbE_64_67\n",
            "video frame directory has files. skipping video ecVwxlXc1PQ_0_12\n",
            "video frame directory has files. skipping video E61HNXjgyqA_22_32\n",
            "video frame directory has files. skipping video e996zZ0uV_A_68_72\n",
            "video frame directory has files. skipping video 1qxMJLkHDLw_0_9\n",
            "video frame directory has files. skipping video eb-Zp4pJLKk_2_19\n",
            "video frame directory has files. skipping video edqyq4Q-7uU_103_109\n",
            "video frame directory has files. skipping video ecm9gf2Pgkc_1_24\n",
            "video frame directory has files. skipping video e-j59PqJjSM_163_173\n",
            "video frame directory has files. skipping video e-j59PqJjSM_264_277\n",
            "video frame directory has files. skipping video EdrZtaBUXIo_25_29\n",
            "video frame directory has files. skipping video 1sffYOXq4Iw_23_49\n"
          ],
          "name": "stdout"
        },
        {
          "output_type": "stream",
          "text": [
            " 92%|█████████▏| 1808/1970 [19:34<00:02, 76.02it/s]"
          ],
          "name": "stderr"
        },
        {
          "output_type": "stream",
          "text": [
            "video frame directory has files. skipping video e-j59PqJjSM_405_416\n",
            "video frame directory has files. skipping video ejgwQqCHN1E_7_12\n",
            "video frame directory has files. skipping video eKtsMfmQ_0s_61_68\n",
            "video frame directory has files. skipping video elQqQfux7Po_12_22\n",
            "video frame directory has files. skipping video eoP-SCgYM2w_49_60\n",
            "video frame directory has files. skipping video Els1Cclg_sk_4_15\n",
            "video frame directory has files. skipping video EPgQ9QwbsLE_16_23\n",
            "video frame directory has files. skipping video EjAoBKagWQA_132_145\n",
            "video frame directory has files. skipping video 2F9jX7u5nOg_114_130\n",
            "video frame directory has files. skipping video EqOGzNkekMk_5_15\n",
            "video frame directory has files. skipping video EpMuCrbxE8A_107_115\n",
            "video frame directory has files. skipping video eTnlw7v8ea0_36_50\n",
            "video frame directory has files. skipping video ETUJipdnfOM_0_5\n",
            "video frame directory has files. skipping video EPXsiQw9vvo_1_12\n",
            "video frame directory has files. skipping video 2I20ZTFHheg_96_104\n",
            "video frame directory has files. skipping video EVqc7e8JCco_5_15\n",
            "video frame directory has files. skipping video ePujnD4qJO0_62_77\n",
            "video frame directory has files. skipping video e-sf-hyrkTs_20_35\n",
            "video frame directory has files. skipping video eVSQiPbepXg_44_49\n",
            "video frame directory has files. skipping video eVSQiPbepXg_83_93\n",
            "video frame directory has files. skipping video f_GnkweYzzI_35_41\n",
            "video frame directory has files. skipping video EXyp0Q7L1zE_30_38\n",
            "video frame directory has files. skipping video EwTZ2xpQwpA_14_21\n",
            "video frame directory has files. skipping video eyhzdC936uk_15_27\n",
            "video frame directory has files. skipping video f-24IxG9ijw_25_40\n",
            "video frame directory has files. skipping video 2jXxtQRy47A_30_38\n",
            "video frame directory has files. skipping video eyMYc-37Sk4_0_10\n",
            "video frame directory has files. skipping video fBA_lxUiwSg_2_4\n",
            "video frame directory has files. skipping video F44bLc6t7-I_1_8\n",
            "video frame directory has files. skipping video f_CvW22Eauc_16_23\n",
            "video frame directory has files. skipping video FA3OfhJK0mI_195_203\n",
            "video frame directory has files. skipping video FavUpD_IjVY_22_26\n",
            "video frame directory has files. skipping video FCjpuJaUec0_19_26\n",
            "video frame directory has files. skipping video fcvW1vr8hAs_96_102\n",
            "video frame directory has files. skipping video Ffv7fhL1EDY_177_184\n",
            "video frame directory has files. skipping video fcvW1vr8hAs_104_108\n",
            "video frame directory has files. skipping video FH8vgAp4VDU_10_14\n",
            "video frame directory has files. skipping video FGjtmhI-Rmk_30_37\n",
            "video frame directory has files. skipping video Fe4tO5vW9_E_64_70\n",
            "video frame directory has files. skipping video fHfpMUDrQCs_17_31\n",
            "video frame directory has files. skipping video fF89MasBFLw_321_326\n",
            "video frame directory has files. skipping video fjDvKHkmxs0_119_126\n",
            "video frame directory has files. skipping video fnpp8v9NbmY_181_188\n",
            "video frame directory has files. skipping video FHwC2THZJfA_0_10\n",
            "video frame directory has files. skipping video fJr2evLANsE_0_10\n",
            "video frame directory has files. skipping video FoL7aWvpvNs_199_204\n",
            "video frame directory has files. skipping video 3lBHYoI5V8s_30_45\n",
            "video frame directory has files. skipping video fMFvOgb4k6E_35_43\n",
            "video frame directory has files. skipping video FOOM-wA2rOY_77_86\n",
            "video frame directory has files. skipping video fqly5kyO2MI_10_20\n",
            "video frame directory has files. skipping video fMXfphSi6Yw_7_12\n",
            "video frame directory has files. skipping video fr9H1WLcF1A_141_148\n",
            "video frame directory has files. skipping video fr9H1WLcF1A_256_261\n",
            "video frame directory has files. skipping video FvfjDQj5sOY_1_10\n",
            "video frame directory has files. skipping video 3qqEKTPxLNs_1_15\n",
            "video frame directory has files. skipping video fVWUaH2mCt4_1_7\n",
            "video frame directory has files. skipping video FxIuFwMhOu8_18_26\n",
            "video frame directory has files. skipping video FTh5zPk34bQ_16_30\n",
            "video frame directory has files. skipping video FXWdmIHXS_U_3_10\n",
            "video frame directory has files. skipping video FwCmcZpkk-k_22_32\n",
            "video frame directory has files. skipping video -FugkxLmGO4_5_16\n"
          ],
          "name": "stdout"
        },
        {
          "output_type": "stream",
          "text": [
            "\r 93%|█████████▎| 1835/1970 [19:38<00:07, 19.14it/s]"
          ],
          "name": "stderr"
        },
        {
          "output_type": "stream",
          "text": [
            "video 'fY0lZTWlBAg_470_485' converted successfully.\n",
            "video frame directory has files. skipping video fX5G_JwPlLo_640_660\n",
            "video frame directory has files. skipping video G_hxdUG6QXE_23_28\n",
            "video frame directory has files. skipping video fvBs0xpEZhQ_10_30\n",
            "video frame directory has files. skipping video g2IYQq7IkXc_124_132\n",
            "video frame directory has files. skipping video 3ytUOoa1SBE_12_23\n",
            "video frame directory has files. skipping video g1Gldu1KS44_8_14\n",
            "video frame directory has files. skipping video G6w6kO8UPyg_31_41\n",
            "video frame directory has files. skipping video g2IYQq7IkXc_23_32\n",
            "video frame directory has files. skipping video -_hbPLsZvvo_49_55\n",
            "video frame directory has files. skipping video _KMoC6ZdeXs_10_16\n",
            "video frame directory has files. skipping video _pBeOAMjGm8_1_18\n",
            "video frame directory has files. skipping video -_hbPLsZvvo_18_25\n",
            "video frame directory has files. skipping video -_hbPLsZvvo_323_328\n",
            "video '_o1UXSxTjfo_68_80' converted successfully.\n",
            "video frame directory has files. skipping video _pj2Nutu5v8_1_8\n"
          ],
          "name": "stdout"
        },
        {
          "output_type": "stream",
          "text": [
            "\r 94%|█████████▍| 1855/1970 [19:44<00:14,  8.09it/s]"
          ],
          "name": "stderr"
        },
        {
          "output_type": "stream",
          "text": [
            "video '_JVxurtGIhI_32_42' converted successfully.\n",
            "video frame directory has files. skipping video _QJbjKkfdcs_52_57\n",
            "video frame directory has files. skipping video -_hbPLsZvvo_19_25\n",
            "video frame directory has files. skipping video _O9kWD8nuRU_77_81\n",
            "video frame directory has files. skipping video _O9kWD8nuRU_45_49\n",
            "video frame directory has files. skipping video _txL575S_OA_13_23\n",
            "video frame directory has files. skipping video -_hbPLsZvvo_19_26\n",
            "video frame directory has files. skipping video _UqnTFs1BLc_23_27\n"
          ],
          "name": "stdout"
        },
        {
          "output_type": "stream",
          "text": [
            " 96%|█████████▌| 1889/1970 [19:46<00:07, 10.36it/s]"
          ],
          "name": "stderr"
        },
        {
          "output_type": "stream",
          "text": [
            "video '_xf24TYgbuY_14_20' converted successfully.\n",
            "video frame directory has files. skipping video _ZwwKOzpt2I_69_76\n",
            "video frame directory has files. skipping video 0hyZ__3YhZc_598_603\n",
            "video frame directory has files. skipping video 00jrXRMlZOY_0_10\n",
            "video frame directory has files. skipping video 0I4VKj4d0WI_24_40\n",
            "video frame directory has files. skipping video 0hyZ__3YhZc_279_283\n",
            "video frame directory has files. skipping video 0k1Ak8aTMVI_4_12\n",
            "video frame directory has files. skipping video -_hbPLsZvvo_43_55\n",
            "video frame directory has files. skipping video 0IDJG0q9j_k_1_24\n",
            "video frame directory has files. skipping video 0hyZ__3YhZc_352_356\n",
            "video frame directory has files. skipping video 0lh_UWF9ZP4_21_26\n",
            "video frame directory has files. skipping video 0lh_UWF9ZP4_27_31\n",
            "video frame directory has files. skipping video 0lh_UWF9ZP4_38_46\n",
            "video frame directory has files. skipping video 0lh_UWF9ZP4_79_82\n",
            "video frame directory has files. skipping video 0lh_UWF9ZP4_50_60\n",
            "video frame directory has files. skipping video 0lh_UWF9ZP4_103_110\n",
            "video frame directory has files. skipping video 0lh_UWF9ZP4_82_87\n",
            "video frame directory has files. skipping video -_hbPLsZvvo_172_179\n",
            "video frame directory has files. skipping video 0lh_UWF9ZP4_138_145\n",
            "video frame directory has files. skipping video 0lh_UWF9ZP4_94_103\n",
            "video frame directory has files. skipping video 0lh_UWF9ZP4_62_69\n",
            "video frame directory has files. skipping video 0lh_UWF9ZP4_71_77\n",
            "video frame directory has files. skipping video 0lh_UWF9ZP4_148_155\n",
            "video frame directory has files. skipping video 0lh_UWF9ZP4_157_160\n",
            "video frame directory has files. skipping video 0lh_UWF9ZP4_174_178\n",
            "video frame directory has files. skipping video 0lh_UWF9ZP4_165_170\n",
            "video frame directory has files. skipping video 0lh_UWF9ZP4_178_182\n",
            "video frame directory has files. skipping video 0lh_UWF9ZP4_183_190\n",
            "video frame directory has files. skipping video 0lh_UWF9ZP4_191_197\n",
            "video frame directory has files. skipping video 0lh_UWF9ZP4_215_226\n",
            "video frame directory has files. skipping video 0lh_UWF9ZP4_199_207\n",
            "video frame directory has files. skipping video 0M-PyX2DbZc_25_31\n",
            "video frame directory has files. skipping video -_hbPLsZvvo_211_219\n",
            "video frame directory has files. skipping video 0ONJfp95yoE_1_10\n",
            "video frame directory has files. skipping video 0SMOK2ql7Pg_5_12\n",
            "video frame directory has files. skipping video 0sUL0KCIc48_15_25\n",
            "video frame directory has files. skipping video 0vmoZEaN_-o_4_12\n",
            "video frame directory has files. skipping video 0wutCy2ZGOQ_4_10\n",
            "video frame directory has files. skipping video -_hbPLsZvvo_269_275\n",
            "video frame directory has files. skipping video 1hPxGmTGarM_9_19\n",
            "video frame directory has files. skipping video 1_6V30igzIk_5_15\n",
            "video frame directory has files. skipping video 1kYWws89W3Y_0_5\n",
            "video frame directory has files. skipping video 1mIyMRPV8kg_9_17\n",
            "video frame directory has files. skipping video 1dA1RQgPN3c_72_82\n",
            "video frame directory has files. skipping video 1pw5ZdRhiig_50_59\n",
            "video frame directory has files. skipping video 1qU-kF-km1Q_6_16\n",
            "video frame directory has files. skipping video 1dYpcVv6n3Y_0_18\n",
            "video frame directory has files. skipping video 1qV4wfjTYIo_151_164\n"
          ],
          "name": "stdout"
        },
        {
          "output_type": "stream",
          "text": [
            " 99%|█████████▊| 1945/1970 [19:46<00:01, 20.35it/s]"
          ],
          "name": "stderr"
        },
        {
          "output_type": "stream",
          "text": [
            "video frame directory has files. skipping video -_hbPLsZvvo_288_305\n",
            "video frame directory has files. skipping video 1QVn0FffExM_14_24\n",
            "video frame directory has files. skipping video 1RchFBCT9JU_43_53\n",
            "video frame directory has files. skipping video 1rECrfrdNTo_200_207\n",
            "video frame directory has files. skipping video 1Sp2__RCT0c_11_15\n",
            "video frame directory has files. skipping video 2F9jX7u5nOg_83_97\n",
            "video frame directory has files. skipping video 1TjqADyYyxI_36_45\n",
            "video frame directory has files. skipping video 02Z-kuB3IaM_2_13\n",
            "video frame directory has files. skipping video 2FLsMPsywRc_45_63\n",
            "video frame directory has files. skipping video 2HpZvL-_fiY_40_44\n",
            "video frame directory has files. skipping video 2G9fkvBzzQE_10_20\n",
            "video frame directory has files. skipping video 2jkExrrm_sQ_19_25\n",
            "video frame directory has files. skipping video 2KrdBUFeFtY_22_27\n",
            "video frame directory has files. skipping video _JorUS-8Nlg_63_73\n",
            "video frame directory has files. skipping video 2L4oELbX8Ms_1_12\n",
            "video frame directory has files. skipping video 2LgrGHWSy6k_122_135\n",
            "video frame directory has files. skipping video 2MCpA01Sn_c_75_82\n",
            "video frame directory has files. skipping video 2R_OAYQIkXM_14_22\n",
            "video frame directory has files. skipping video 2mUMTFnQWaw_1_9\n",
            "video frame directory has files. skipping video 2xpIT0L4GqE_1_10\n",
            "video frame directory has files. skipping video 2YhDTpzxd3c_45_49\n",
            "video frame directory has files. skipping video 2YhDTpzxd3c_22_27\n",
            "video frame directory has files. skipping video 2Nn2CAeaI5k_72_77\n",
            "video frame directory has files. skipping video 2YhDTpzxd3c_102_105\n",
            "video frame directory has files. skipping video 2YhDTpzxd3c_98_101\n",
            "video frame directory has files. skipping video _O9kWD8nuRU_16_23\n",
            "video frame directory has files. skipping video 2YhDTpzxd3c_115_120\n",
            "video frame directory has files. skipping video 2YhDTpzxd3c_149_154\n",
            "video frame directory has files. skipping video 3chNlP5TeO8_0_10\n",
            "video frame directory has files. skipping video 2YhDTpzxd3c_223_232\n",
            "video frame directory has files. skipping video 2YhDTpzxd3c_166_170\n",
            "video frame directory has files. skipping video 3doK4FQM5-k_46_57\n",
            "video frame directory has files. skipping video _O9kWD8nuRU_25_35\n",
            "video frame directory has files. skipping video 2YhDTpzxd3c_240_245\n",
            "video frame directory has files. skipping video 2YhDTpzxd3c_174_180\n",
            "video frame directory has files. skipping video 3eqFFRSXwGE_84_96\n",
            "video frame directory has files. skipping video 3_51FhosiVY_93_101\n",
            "video frame directory has files. skipping video _O9kWD8nuRU_37_43\n",
            "video frame directory has files. skipping video 3FnUTQMJVXI_31_36\n",
            "video frame directory has files. skipping video 3ftaoFnhTyY_140_150\n",
            "video frame directory has files. skipping video 3I9tSDU-OSk_17_22\n",
            "video frame directory has files. skipping video 3SKyc0aKx70_46_52\n",
            "video frame directory has files. skipping video 3mbBbFH9fAg_21_29\n",
            "video frame directory has files. skipping video 3zgEl-OLFKE_12_15\n",
            "video frame directory has files. skipping video 3zrVqwV29V8_69_76\n",
            "video frame directory has files. skipping video 3n_Kqak2JdA_48_71\n",
            "video frame directory has files. skipping video 3opDcpPxllE_50_66\n",
            "video frame directory has files. skipping video 3OPQqH3YlHA_50_54\n",
            "video frame directory has files. skipping video 04Gt01vatkk_248_265\n",
            "video frame directory has files. skipping video _O9kWD8nuRU_50_56\n",
            "video frame directory has files. skipping video 04Gt01vatkk_308_321\n",
            "video frame directory has files. skipping video 4_WZN7uW0NY_140_145\n",
            "video frame directory has files. skipping video 4-1gpwkD7Hc_7_15\n",
            "video frame directory has files. skipping video 4D1o4FC8YbA_29_39\n",
            "video frame directory has files. skipping video 4ge5_V-xhP0_35_42\n"
          ],
          "name": "stdout"
        },
        {
          "output_type": "stream",
          "text": [
            "100%|██████████| 1970/1970 [19:47<00:00,  1.66it/s]"
          ],
          "name": "stderr"
        },
        {
          "output_type": "stream",
          "text": [
            "video frame directory has files. skipping video 4D1o4FC8YbA_207_216\n",
            "video frame directory has files. skipping video 4JVpbYmqfcI_5_19\n",
            "video frame directory has files. skipping video 4ge5_V-xhP0_138_142\n",
            "video frame directory has files. skipping video _O9kWD8nuRU_70_76\n",
            "video frame directory has files. skipping video 4Hhdr1IPOGs_1_10\n",
            "video frame directory has files. skipping video 4kQnrKvOTNg_15_24\n",
            "video frame directory has files. skipping video 4Hhdr1IPOGs_90_98\n",
            "video frame directory has files. skipping video 4MjTb5A68VA_111_118\n",
            "video frame directory has files. skipping video 4PcL6-mjRNk_11_18\n",
            "video frame directory has files. skipping video 4PcL6-mjRNk_47_55\n",
            "video frame directory has files. skipping video 4QdX5Q3qQsQ_6_14\n",
            "video frame directory has files. skipping video _OBlgSz8sSM_15_32\n"
          ],
          "name": "stdout"
        },
        {
          "output_type": "stream",
          "text": [
            "\n"
          ],
          "name": "stderr"
        }
      ]
    },
    {
      "cell_type": "code",
      "metadata": {
        "id": "K1WHQYm3xlvv",
        "colab_type": "code",
        "colab": {
          "base_uri": "https://localhost:8080/",
          "height": 35
        },
        "outputId": "b8f2e504-4245-4b5c-9f3d-5116e5e2cd7d"
      },
      "source": [
        "import tensorflow as tf\n",
        "tf.test.gpu_device_name()"
      ],
      "execution_count": null,
      "outputs": [
        {
          "output_type": "execute_result",
          "data": {
            "text/plain": [
              "''"
            ]
          },
          "metadata": {
            "tags": []
          },
          "execution_count": 1
        }
      ]
    }
  ]
}