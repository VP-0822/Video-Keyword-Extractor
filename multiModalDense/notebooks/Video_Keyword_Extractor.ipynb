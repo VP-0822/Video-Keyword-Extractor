{
  "nbformat": 4,
  "nbformat_minor": 0,
  "metadata": {
    "colab": {
      "name": "Video-Keyword-Extractor.ipynb",
      "provenance": [],
      "collapsed_sections": []
    },
    "kernelspec": {
      "name": "python3",
      "display_name": "Python 3"
    },
    "accelerator": "GPU"
  },
  "cells": [
    {
      "cell_type": "code",
      "metadata": {
        "id": "N7mpIw585Xoh",
        "colab_type": "code",
        "colab": {
          "base_uri": "https://localhost:8080/",
          "height": 238
        },
        "outputId": "c33a668c-56de-4f0b-84bd-c07143e519eb"
      },
      "source": [
        "# memory footprint support libraries/code\n",
        "!ln -sf /opt/bin/nvidia-smi /usr/bin/nvidia-smi\n",
        "!pip install gputil\n",
        "!pip install psutil\n",
        "!pip install humanize\n",
        "import psutil\n",
        "import humanize\n",
        "import os\n",
        "import GPUtil as GPU\n",
        "GPUs = GPU.getGPUs()\n",
        "# XXX: only one GPU on Colab and isn’t guaranteed\n",
        "gpu = GPUs[0]\n",
        "def printm():\n",
        " process = psutil.Process(os.getpid())\n",
        " print(\"Gen RAM Free: \" + humanize.naturalsize( psutil.virtual_memory().available ), \" | Proc size: \" + humanize.naturalsize( process.memory_info().rss))\n",
        " print(\"GPU RAM Free: {0:.0f}MB | Used: {1:.0f}MB | Util {2:3.0f}% | Total {3:.0f}MB\".format(gpu.memoryFree, gpu.memoryUsed, gpu.memoryUtil*100, gpu.memoryTotal))\n",
        "printm()"
      ],
      "execution_count": null,
      "outputs": [
        {
          "output_type": "stream",
          "text": [
            "Collecting gputil\n",
            "  Downloading https://files.pythonhosted.org/packages/ed/0e/5c61eedde9f6c87713e89d794f01e378cfd9565847d4576fa627d758c554/GPUtil-1.4.0.tar.gz\n",
            "Building wheels for collected packages: gputil\n",
            "  Building wheel for gputil (setup.py) ... \u001b[?25l\u001b[?25hdone\n",
            "  Created wheel for gputil: filename=GPUtil-1.4.0-cp36-none-any.whl size=7413 sha256=86426ebc4072a9bea8bf89ac9c3ab38cbd6996bf4efa4a936092d4705b1d6594\n",
            "  Stored in directory: /root/.cache/pip/wheels/3d/77/07/80562de4bb0786e5ea186911a2c831fdd0018bda69beab71fd\n",
            "Successfully built gputil\n",
            "Installing collected packages: gputil\n",
            "Successfully installed gputil-1.4.0\n",
            "Requirement already satisfied: psutil in /usr/local/lib/python3.6/dist-packages (5.4.8)\n",
            "Requirement already satisfied: humanize in /usr/local/lib/python3.6/dist-packages (0.5.1)\n",
            "Gen RAM Free: 12.7 GB  | Proc size: 158.9 MB\n",
            "GPU RAM Free: 16280MB | Used: 0MB | Util   0% | Total 16280MB\n"
          ],
          "name": "stdout"
        }
      ]
    },
    {
      "cell_type": "code",
      "metadata": {
        "id": "VTl6Ei1l5YzB",
        "colab_type": "code",
        "colab": {
          "base_uri": "https://localhost:8080/",
          "height": 136
        },
        "outputId": "9282bc41-b1bd-4380-a7ed-cd0dc02c8764"
      },
      "source": [
        "!git clone https://github.com/VP-0822/Video-Keyword-Extractor.git"
      ],
      "execution_count": null,
      "outputs": [
        {
          "output_type": "stream",
          "text": [
            "Cloning into 'Video-Keyword-Extractor'...\n",
            "remote: Enumerating objects: 386, done.\u001b[K\n",
            "remote: Counting objects:   0% (1/386)\u001b[K\rremote: Counting objects:   1% (4/386)\u001b[K\rremote: Counting objects:   2% (8/386)\u001b[K\rremote: Counting objects:   3% (12/386)\u001b[K\rremote: Counting objects:   4% (16/386)\u001b[K\rremote: Counting objects:   5% (20/386)\u001b[K\rremote: Counting objects:   6% (24/386)\u001b[K\rremote: Counting objects:   7% (28/386)\u001b[K\rremote: Counting objects:   8% (31/386)\u001b[K\rremote: Counting objects:   9% (35/386)\u001b[K\rremote: Counting objects:  10% (39/386)\u001b[K\rremote: Counting objects:  11% (43/386)\u001b[K\rremote: Counting objects:  12% (47/386)\u001b[K\rremote: Counting objects:  13% (51/386)\u001b[K\rremote: Counting objects:  14% (55/386)\u001b[K\rremote: Counting objects:  15% (58/386)\u001b[K\rremote: Counting objects:  16% (62/386)\u001b[K\rremote: Counting objects:  17% (66/386)\u001b[K\rremote: Counting objects:  18% (70/386)\u001b[K\rremote: Counting objects:  19% (74/386)\u001b[K\rremote: Counting objects:  20% (78/386)\u001b[K\rremote: Counting objects:  21% (82/386)\u001b[K\rremote: Counting objects:  22% (85/386)\u001b[K\rremote: Counting objects:  23% (89/386)\u001b[K\rremote: Counting objects:  24% (93/386)\u001b[K\rremote: Counting objects:  25% (97/386)\u001b[K\rremote: Counting objects:  26% (101/386)\u001b[K\rremote: Counting objects:  27% (105/386)\u001b[K\rremote: Counting objects:  28% (109/386)\u001b[K\rremote: Counting objects:  29% (112/386)\u001b[K\rremote: Counting objects:  30% (116/386)\u001b[K\rremote: Counting objects:  31% (120/386)\u001b[K\rremote: Counting objects:  32% (124/386)\u001b[K\rremote: Counting objects:  33% (128/386)\u001b[K\rremote: Counting objects:  34% (132/386)\u001b[K\rremote: Counting objects:  35% (136/386)\u001b[K\rremote: Counting objects:  36% (139/386)\u001b[K\rremote: Counting objects:  37% (143/386)\u001b[K\rremote: Counting objects:  38% (147/386)\u001b[K\rremote: Counting objects:  39% (151/386)\u001b[K\rremote: Counting objects:  40% (155/386)\u001b[K\rremote: Counting objects:  41% (159/386)\u001b[K\rremote: Counting objects:  42% (163/386)\u001b[K\rremote: Counting objects:  43% (166/386)\u001b[K\rremote: Counting objects:  44% (170/386)\u001b[K\rremote: Counting objects:  45% (174/386)\u001b[K\rremote: Counting objects:  46% (178/386)\u001b[K\rremote: Counting objects:  47% (182/386)\u001b[K\rremote: Counting objects:  48% (186/386)\u001b[K\rremote: Counting objects:  49% (190/386)\u001b[K\rremote: Counting objects:  50% (193/386)\u001b[K\rremote: Counting objects:  51% (197/386)\u001b[K\rremote: Counting objects:  52% (201/386)\u001b[K\rremote: Counting objects:  53% (205/386)\u001b[K\rremote: Counting objects:  54% (209/386)\u001b[K\rremote: Counting objects:  55% (213/386)\u001b[K\rremote: Counting objects:  56% (217/386)\u001b[K\rremote: Counting objects:  57% (221/386)\u001b[K\rremote: Counting objects:  58% (224/386)\u001b[K\rremote: Counting objects:  59% (228/386)\u001b[K\rremote: Counting objects:  60% (232/386)\u001b[K\rremote: Counting objects:  61% (236/386)\u001b[K\rremote: Counting objects:  62% (240/386)\u001b[K\rremote: Counting objects:  63% (244/386)\u001b[K\rremote: Counting objects:  64% (248/386)\u001b[K\rremote: Counting objects:  65% (251/386)\u001b[K\rremote: Counting objects:  66% (255/386)\u001b[K\rremote: Counting objects:  67% (259/386)\u001b[K\rremote: Counting objects:  68% (263/386)\u001b[K\rremote: Counting objects:  69% (267/386)\u001b[K\rremote: Counting objects:  70% (271/386)\u001b[K\rremote: Counting objects:  71% (275/386)\u001b[K\rremote: Counting objects:  72% (278/386)\u001b[K\rremote: Counting objects:  73% (282/386)\u001b[K\rremote: Counting objects:  74% (286/386)\u001b[K\rremote: Counting objects:  75% (290/386)\u001b[K\rremote: Counting objects:  76% (294/386)\u001b[K\rremote: Counting objects:  77% (298/386)\u001b[K\rremote: Counting objects:  78% (302/386)\u001b[K\rremote: Counting objects:  79% (305/386)\u001b[K\rremote: Counting objects:  80% (309/386)\u001b[K\rremote: Counting objects:  81% (313/386)\u001b[K\rremote: Counting objects:  82% (317/386)\u001b[K\rremote: Counting objects:  83% (321/386)\u001b[K\rremote: Counting objects:  84% (325/386)\u001b[K\rremote: Counting objects:  85% (329/386)\u001b[K\rremote: Counting objects:  86% (332/386)\u001b[K\rremote: Counting objects:  87% (336/386)\u001b[K\rremote: Counting objects:  88% (340/386)\u001b[K\rremote: Counting objects:  89% (344/386)\u001b[K\rremote: Counting objects:  90% (348/386)\u001b[K\rremote: Counting objects:  91% (352/386)\u001b[K\rremote: Counting objects:  92% (356/386)\u001b[K\rremote: Counting objects:  93% (359/386)\u001b[K\rremote: Counting objects:  94% (363/386)\u001b[K\rremote: Counting objects:  95% (367/386)\u001b[K\rremote: Counting objects:  96% (371/386)\u001b[K\rremote: Counting objects:  97% (375/386)\u001b[K\rremote: Counting objects:  98% (379/386)\u001b[K\rremote: Counting objects:  99% (383/386)\u001b[K\rremote: Counting objects: 100% (386/386)\u001b[K\rremote: Counting objects: 100% (386/386), done.\u001b[K\n",
            "remote: Compressing objects: 100% (248/248), done.\u001b[K\n",
            "remote: Total 386 (delta 230), reused 283 (delta 130), pack-reused 0\n",
            "Receiving objects: 100% (386/386), 18.53 MiB | 19.96 MiB/s, done.\n",
            "Resolving deltas: 100% (230/230), done.\n"
          ],
          "name": "stdout"
        }
      ]
    },
    {
      "cell_type": "code",
      "metadata": {
        "id": "EpGe8jZtzcLs",
        "colab_type": "code",
        "colab": {
          "base_uri": "https://localhost:8080/",
          "height": 258
        },
        "outputId": "09479553-944b-4cee-d23a-bc2d2609af99"
      },
      "source": [
        "# Download video features\n",
        "%cd \"Video-Keyword-Extractor/multiModalDense/data/ActivityNet-available\"\n",
        "!pwd\n",
        "!wget --no-check-certificate \"https://srhk-my.sharepoint.com/personal/11011755_stud_hochschule-heidelberg_de/_layouts/15/download.aspx?UniqueId=61d5fdde-56e1-49e9-ac09-38327d756a97&Translate=false&tempauth=eyJ0eXAiOiJKV1QiLCJhbGciOiJub25lIn0.eyJhdWQiOiIwMDAwMDAwMy0wMDAwLTBmZjEtY2UwMC0wMDAwMDAwMDAwMDAvc3Joay1teS5zaGFyZXBvaW50LmNvbUA3ODcwNDhjNC1jZTBlLTQ0NDYtODFlMC0yZmEwNTI0ZWM3MDIiLCJpc3MiOiIwMDAwMDAwMy0wMDAwLTBmZjEtY2UwMC0wMDAwMDAwMDAwMDAiLCJuYmYiOiIxNTkyMTMxOTM0IiwiZXhwIjoiMTU5MjEzNTUzNCIsImVuZHBvaW50dXJsIjoiNi85aGtwdEZzeHFMbjQ4NHk5NURuTHlLUVdONDgrcnJQSk41cnpsY0RZVT0iLCJlbmRwb2ludHVybExlbmd0aCI6IjE2NiIsImlzbG9vcGJhY2siOiJUcnVlIiwiY2lkIjoiTWpNMFlUVmpPV1l0WXpBeU15MHlNREF3TFRVeU5HVXRNR1kyWVdWaFl6TTBOR1k0IiwidmVyIjoiaGFzaGVkcHJvb2Z0b2tlbiIsInNpdGVpZCI6Ik1HUXpaV0UwWkdVdE9UYzFNQzAwT0RKakxXRXhNekV0TXpsbU5EQTJNR1ZtWXpJMiIsImFwcF9kaXNwbGF5bmFtZSI6IlNoYXJlUG9pbnQgT25saW5lIFdlYiBDbGllbnQgRXh0ZW5zaWJpbGl0eSIsImdpdmVuX25hbWUiOiJWaXJhamt1bWFyIiwiZmFtaWx5X25hbWUiOiJQYXRlbCIsInNpZ25pbl9zdGF0ZSI6IltcImttc2lcIl0iLCJhcHBpZCI6IjA4ZTE4ODc2LTYxNzctNDg3ZS1iOGI1LWNmOTUwYzFlNTk4YyIsInRpZCI6Ijc4NzA0OGM0LWNlMGUtNDQ0Ni04MWUwLTJmYTA1MjRlYzcwMiIsInVwbiI6IjExMDExNzU1QHN0dWQuaG9jaHNjaHVsZS1oZWlkZWxiZXJnLmRlIiwicHVpZCI6IjEwMDM3RkZFQUU1QThCMTkiLCJjYWNoZWtleSI6IjBoLmZ8bWVtYmVyc2hpcHwxMDAzN2ZmZWFlNWE4YjE5QGxpdmUuY29tIiwic2NwIjoiYWxsZmlsZXMud3JpdGUgYWxsc2l0ZXMuZnVsbGNvbnRyb2wgYWxsc2l0ZXMud3JpdGUgdGVybXN0b3JlLndyaXRlIiwidHQiOiIyIiwidXNlUGVyc2lzdGVudENvb2tpZSI6IjMifQ.WHpZOCsrd1dBZTBjZzV4NHhqU3dycHlHU2dncG1lK1V0eUVTbXVXYS90MD0&ApiVersion=2.1\" -O sub_activitynet_v1-3.i3d_25fps_stack24step24_2stream.hdf5\n"
      ],
      "execution_count": null,
      "outputs": [
        {
          "output_type": "stream",
          "text": [
            "/content/Video-Keyword-Extractor/multiModalDense/data/ActivityNet-available\n",
            "/content/Video-Keyword-Extractor/multiModalDense/data/ActivityNet-available\n",
            "--2020-06-14 10:53:31--  https://srhk-my.sharepoint.com/personal/11011755_stud_hochschule-heidelberg_de/_layouts/15/download.aspx?UniqueId=61d5fdde-56e1-49e9-ac09-38327d756a97&Translate=false&tempauth=eyJ0eXAiOiJKV1QiLCJhbGciOiJub25lIn0.eyJhdWQiOiIwMDAwMDAwMy0wMDAwLTBmZjEtY2UwMC0wMDAwMDAwMDAwMDAvc3Joay1teS5zaGFyZXBvaW50LmNvbUA3ODcwNDhjNC1jZTBlLTQ0NDYtODFlMC0yZmEwNTI0ZWM3MDIiLCJpc3MiOiIwMDAwMDAwMy0wMDAwLTBmZjEtY2UwMC0wMDAwMDAwMDAwMDAiLCJuYmYiOiIxNTkyMTMxOTM0IiwiZXhwIjoiMTU5MjEzNTUzNCIsImVuZHBvaW50dXJsIjoiNi85aGtwdEZzeHFMbjQ4NHk5NURuTHlLUVdONDgrcnJQSk41cnpsY0RZVT0iLCJlbmRwb2ludHVybExlbmd0aCI6IjE2NiIsImlzbG9vcGJhY2siOiJUcnVlIiwiY2lkIjoiTWpNMFlUVmpPV1l0WXpBeU15MHlNREF3TFRVeU5HVXRNR1kyWVdWaFl6TTBOR1k0IiwidmVyIjoiaGFzaGVkcHJvb2Z0b2tlbiIsInNpdGVpZCI6Ik1HUXpaV0UwWkdVdE9UYzFNQzAwT0RKakxXRXhNekV0TXpsbU5EQTJNR1ZtWXpJMiIsImFwcF9kaXNwbGF5bmFtZSI6IlNoYXJlUG9pbnQgT25saW5lIFdlYiBDbGllbnQgRXh0ZW5zaWJpbGl0eSIsImdpdmVuX25hbWUiOiJWaXJhamt1bWFyIiwiZmFtaWx5X25hbWUiOiJQYXRlbCIsInNpZ25pbl9zdGF0ZSI6IltcImttc2lcIl0iLCJhcHBpZCI6IjA4ZTE4ODc2LTYxNzctNDg3ZS1iOGI1LWNmOTUwYzFlNTk4YyIsInRpZCI6Ijc4NzA0OGM0LWNlMGUtNDQ0Ni04MWUwLTJmYTA1MjRlYzcwMiIsInVwbiI6IjExMDExNzU1QHN0dWQuaG9jaHNjaHVsZS1oZWlkZWxiZXJnLmRlIiwicHVpZCI6IjEwMDM3RkZFQUU1QThCMTkiLCJjYWNoZWtleSI6IjBoLmZ8bWVtYmVyc2hpcHwxMDAzN2ZmZWFlNWE4YjE5QGxpdmUuY29tIiwic2NwIjoiYWxsZmlsZXMud3JpdGUgYWxsc2l0ZXMuZnVsbGNvbnRyb2wgYWxsc2l0ZXMud3JpdGUgdGVybXN0b3JlLndyaXRlIiwidHQiOiIyIiwidXNlUGVyc2lzdGVudENvb2tpZSI6IjMifQ.WHpZOCsrd1dBZTBjZzV4NHhqU3dycHlHU2dncG1lK1V0eUVTbXVXYS90MD0&ApiVersion=2.1\n",
            "Resolving srhk-my.sharepoint.com (srhk-my.sharepoint.com)... 13.107.136.9\n",
            "Connecting to srhk-my.sharepoint.com (srhk-my.sharepoint.com)|13.107.136.9|:443... connected.\n",
            "HTTP request sent, awaiting response... 200 OK\n",
            "Length: 18296378710 (17G) [application/octet-stream]\n",
            "Saving to: ‘sub_activitynet_v1-3.i3d_25fps_stack24step24_2stream.hdf5’\n",
            "\n",
            "sub_activitynet_v1- 100%[===================>]  17.04G  26.1MB/s    in 8m 53s  \n",
            "\n",
            "2020-06-14 11:02:25 (32.8 MB/s) - ‘sub_activitynet_v1-3.i3d_25fps_stack24step24_2stream.hdf5’ saved [18296378710/18296378710]\n",
            "\n"
          ],
          "name": "stdout"
        }
      ]
    },
    {
      "cell_type": "code",
      "metadata": {
        "id": "bOx6Xy-n2Hla",
        "colab_type": "code",
        "colab": {
          "base_uri": "https://localhost:8080/",
          "height": 224
        },
        "outputId": "04a61c4f-c626-42f7-a88f-230b337e43a3"
      },
      "source": [
        "# Download audio features\n",
        "!wget --no-check-certificate \"https://srhk-my.sharepoint.com/personal/11011755_stud_hochschule-heidelberg_de/_layouts/15/download.aspx?UniqueId=81815a0f-ca2d-4006-97a2-91260fdb57a7&Translate=false&tempauth=eyJ0eXAiOiJKV1QiLCJhbGciOiJub25lIn0.eyJhdWQiOiIwMDAwMDAwMy0wMDAwLTBmZjEtY2UwMC0wMDAwMDAwMDAwMDAvc3Joay1teS5zaGFyZXBvaW50LmNvbUA3ODcwNDhjNC1jZTBlLTQ0NDYtODFlMC0yZmEwNTI0ZWM3MDIiLCJpc3MiOiIwMDAwMDAwMy0wMDAwLTBmZjEtY2UwMC0wMDAwMDAwMDAwMDAiLCJuYmYiOiIxNTkyMTMxODcyIiwiZXhwIjoiMTU5MjEzNTQ3MiIsImVuZHBvaW50dXJsIjoidmhaVDNQRVRXQTgwOFJkazhBNnJrRXRGSlM0TzNPMmo2YVRGZDZvY1loVT0iLCJlbmRwb2ludHVybExlbmd0aCI6IjE2NiIsImlzbG9vcGJhY2siOiJUcnVlIiwiY2lkIjoiTVRNMFlUVmpPV1l0WVRCbVlTMHlNREF3TFRRd1l6SXRZVFF4TnpVM01XRXlOVGRrIiwidmVyIjoiaGFzaGVkcHJvb2Z0b2tlbiIsInNpdGVpZCI6Ik1HUXpaV0UwWkdVdE9UYzFNQzAwT0RKakxXRXhNekV0TXpsbU5EQTJNR1ZtWXpJMiIsImFwcF9kaXNwbGF5bmFtZSI6IlNoYXJlUG9pbnQgT25saW5lIFdlYiBDbGllbnQgRXh0ZW5zaWJpbGl0eSIsImdpdmVuX25hbWUiOiJWaXJhamt1bWFyIiwiZmFtaWx5X25hbWUiOiJQYXRlbCIsInNpZ25pbl9zdGF0ZSI6IltcImttc2lcIl0iLCJhcHBpZCI6IjA4ZTE4ODc2LTYxNzctNDg3ZS1iOGI1LWNmOTUwYzFlNTk4YyIsInRpZCI6Ijc4NzA0OGM0LWNlMGUtNDQ0Ni04MWUwLTJmYTA1MjRlYzcwMiIsInVwbiI6IjExMDExNzU1QHN0dWQuaG9jaHNjaHVsZS1oZWlkZWxiZXJnLmRlIiwicHVpZCI6IjEwMDM3RkZFQUU1QThCMTkiLCJjYWNoZWtleSI6IjBoLmZ8bWVtYmVyc2hpcHwxMDAzN2ZmZWFlNWE4YjE5QGxpdmUuY29tIiwic2NwIjoiYWxsZmlsZXMud3JpdGUgYWxsc2l0ZXMuZnVsbGNvbnRyb2wgYWxsc2l0ZXMud3JpdGUgdGVybXN0b3JlLndyaXRlIiwidHQiOiIyIiwidXNlUGVyc2lzdGVudENvb2tpZSI6IjMifQ.OS9jTGdFU2kwaVBkenBPL0xvNytOYnVIYXBBWlNweWJJMm5MOTl2M0didz0&ApiVersion=2.1\" -O sub_activitynet_v1-3.vggish.hdf5"
      ],
      "execution_count": null,
      "outputs": [
        {
          "output_type": "stream",
          "text": [
            "--2020-06-14 11:06:48--  https://srhk-my.sharepoint.com/personal/11011755_stud_hochschule-heidelberg_de/_layouts/15/download.aspx?UniqueId=81815a0f-ca2d-4006-97a2-91260fdb57a7&Translate=false&tempauth=eyJ0eXAiOiJKV1QiLCJhbGciOiJub25lIn0.eyJhdWQiOiIwMDAwMDAwMy0wMDAwLTBmZjEtY2UwMC0wMDAwMDAwMDAwMDAvc3Joay1teS5zaGFyZXBvaW50LmNvbUA3ODcwNDhjNC1jZTBlLTQ0NDYtODFlMC0yZmEwNTI0ZWM3MDIiLCJpc3MiOiIwMDAwMDAwMy0wMDAwLTBmZjEtY2UwMC0wMDAwMDAwMDAwMDAiLCJuYmYiOiIxNTkyMTMxODcyIiwiZXhwIjoiMTU5MjEzNTQ3MiIsImVuZHBvaW50dXJsIjoidmhaVDNQRVRXQTgwOFJkazhBNnJrRXRGSlM0TzNPMmo2YVRGZDZvY1loVT0iLCJlbmRwb2ludHVybExlbmd0aCI6IjE2NiIsImlzbG9vcGJhY2siOiJUcnVlIiwiY2lkIjoiTVRNMFlUVmpPV1l0WVRCbVlTMHlNREF3TFRRd1l6SXRZVFF4TnpVM01XRXlOVGRrIiwidmVyIjoiaGFzaGVkcHJvb2Z0b2tlbiIsInNpdGVpZCI6Ik1HUXpaV0UwWkdVdE9UYzFNQzAwT0RKakxXRXhNekV0TXpsbU5EQTJNR1ZtWXpJMiIsImFwcF9kaXNwbGF5bmFtZSI6IlNoYXJlUG9pbnQgT25saW5lIFdlYiBDbGllbnQgRXh0ZW5zaWJpbGl0eSIsImdpdmVuX25hbWUiOiJWaXJhamt1bWFyIiwiZmFtaWx5X25hbWUiOiJQYXRlbCIsInNpZ25pbl9zdGF0ZSI6IltcImttc2lcIl0iLCJhcHBpZCI6IjA4ZTE4ODc2LTYxNzctNDg3ZS1iOGI1LWNmOTUwYzFlNTk4YyIsInRpZCI6Ijc4NzA0OGM0LWNlMGUtNDQ0Ni04MWUwLTJmYTA1MjRlYzcwMiIsInVwbiI6IjExMDExNzU1QHN0dWQuaG9jaHNjaHVsZS1oZWlkZWxiZXJnLmRlIiwicHVpZCI6IjEwMDM3RkZFQUU1QThCMTkiLCJjYWNoZWtleSI6IjBoLmZ8bWVtYmVyc2hpcHwxMDAzN2ZmZWFlNWE4YjE5QGxpdmUuY29tIiwic2NwIjoiYWxsZmlsZXMud3JpdGUgYWxsc2l0ZXMuZnVsbGNvbnRyb2wgYWxsc2l0ZXMud3JpdGUgdGVybXN0b3JlLndyaXRlIiwidHQiOiIyIiwidXNlUGVyc2lzdGVudENvb2tpZSI6IjMifQ.OS9jTGdFU2kwaVBkenBPL0xvNytOYnVIYXBBWlNweWJJMm5MOTl2M0didz0&ApiVersion=2.1\n",
            "Resolving srhk-my.sharepoint.com (srhk-my.sharepoint.com)... 13.107.136.9\n",
            "Connecting to srhk-my.sharepoint.com (srhk-my.sharepoint.com)|13.107.136.9|:443... connected.\n",
            "HTTP request sent, awaiting response... 200 OK\n",
            "Length: 1170966592 (1.1G) [application/octet-stream]\n",
            "Saving to: ‘sub_activitynet_v1-3.vggish.hdf5’\n",
            "\n",
            "sub_activitynet_v1- 100%[===================>]   1.09G  51.7MB/s    in 26s     \n",
            "\n",
            "2020-06-14 11:07:15 (42.5 MB/s) - ‘sub_activitynet_v1-3.vggish.hdf5’ saved [1170966592/1170966592]\n",
            "\n"
          ],
          "name": "stdout"
        }
      ]
    },
    {
      "cell_type": "code",
      "metadata": {
        "id": "JsdPmtMdismt",
        "colab_type": "code",
        "colab": {
          "base_uri": "https://localhost:8080/",
          "height": 275
        },
        "outputId": "2bca4fae-a7e7-4378-9333-dc127c6c01f3"
      },
      "source": [
        "# Download pretrained model\n",
        "%cd \"../pretrained\"\n",
        "!pwd\n",
        "!wget --no-check-certificate \"https://srhk-my.sharepoint.com/personal/11011755_stud_hochschule-heidelberg_de/_layouts/15/download.aspx?UniqueId=ec2a1004-9f79-4a8d-9418-26c9228d4c9c&Translate=false&tempauth=eyJ0eXAiOiJKV1QiLCJhbGciOiJub25lIn0.eyJhdWQiOiIwMDAwMDAwMy0wMDAwLTBmZjEtY2UwMC0wMDAwMDAwMDAwMDAvc3Joay1teS5zaGFyZXBvaW50LmNvbUA3ODcwNDhjNC1jZTBlLTQ0NDYtODFlMC0yZmEwNTI0ZWM3MDIiLCJpc3MiOiIwMDAwMDAwMy0wMDAwLTBmZjEtY2UwMC0wMDAwMDAwMDAwMDAiLCJuYmYiOiIxNTkyMTMxODMxIiwiZXhwIjoiMTU5MjEzNTQzMSIsImVuZHBvaW50dXJsIjoiMkdFNUtNb2lURUdaUmVqellRaW51OWpZUnJvMXJ5d1NKMzlaVmlkdjYzND0iLCJlbmRwb2ludHVybExlbmd0aCI6IjE2NiIsImlzbG9vcGJhY2siOiJUcnVlIiwiY2lkIjoiTURrMFlUVmpPV1l0TmpCa055MHlNREF3TFRRNFl6TXRNV1ZtT1RabE16UmhZMkUyIiwidmVyIjoiaGFzaGVkcHJvb2Z0b2tlbiIsInNpdGVpZCI6Ik1HUXpaV0UwWkdVdE9UYzFNQzAwT0RKakxXRXhNekV0TXpsbU5EQTJNR1ZtWXpJMiIsImFwcF9kaXNwbGF5bmFtZSI6IlNoYXJlUG9pbnQgT25saW5lIFdlYiBDbGllbnQgRXh0ZW5zaWJpbGl0eSIsImdpdmVuX25hbWUiOiJWaXJhamt1bWFyIiwiZmFtaWx5X25hbWUiOiJQYXRlbCIsInNpZ25pbl9zdGF0ZSI6IltcImttc2lcIl0iLCJhcHBpZCI6IjA4ZTE4ODc2LTYxNzctNDg3ZS1iOGI1LWNmOTUwYzFlNTk4YyIsInRpZCI6Ijc4NzA0OGM0LWNlMGUtNDQ0Ni04MWUwLTJmYTA1MjRlYzcwMiIsInVwbiI6IjExMDExNzU1QHN0dWQuaG9jaHNjaHVsZS1oZWlkZWxiZXJnLmRlIiwicHVpZCI6IjEwMDM3RkZFQUU1QThCMTkiLCJjYWNoZWtleSI6IjBoLmZ8bWVtYmVyc2hpcHwxMDAzN2ZmZWFlNWE4YjE5QGxpdmUuY29tIiwic2NwIjoiYWxsZmlsZXMud3JpdGUgYWxsc2l0ZXMuZnVsbGNvbnRyb2wgYWxsc2l0ZXMud3JpdGUgdGVybXN0b3JlLndyaXRlIiwidHQiOiIyIiwidXNlUGVyc2lzdGVudENvb2tpZSI6IjMifQ.N09tQ0hUU3V6VmhxaTdHbUtLTU5LZnVxZVc2bFhrTnlucytqRDF6U21MZz0&ApiVersion=2.1\" -O model.pt"
      ],
      "execution_count": null,
      "outputs": [
        {
          "output_type": "stream",
          "text": [
            "[Errno 2] No such file or directory: '../pretrained'\n",
            "/content\n",
            "/content\n",
            "--2020-06-14 11:08:06--  https://srhk-my.sharepoint.com/personal/11011755_stud_hochschule-heidelberg_de/_layouts/15/download.aspx?UniqueId=ec2a1004-9f79-4a8d-9418-26c9228d4c9c&Translate=false&tempauth=eyJ0eXAiOiJKV1QiLCJhbGciOiJub25lIn0.eyJhdWQiOiIwMDAwMDAwMy0wMDAwLTBmZjEtY2UwMC0wMDAwMDAwMDAwMDAvc3Joay1teS5zaGFyZXBvaW50LmNvbUA3ODcwNDhjNC1jZTBlLTQ0NDYtODFlMC0yZmEwNTI0ZWM3MDIiLCJpc3MiOiIwMDAwMDAwMy0wMDAwLTBmZjEtY2UwMC0wMDAwMDAwMDAwMDAiLCJuYmYiOiIxNTkyMTMxODMxIiwiZXhwIjoiMTU5MjEzNTQzMSIsImVuZHBvaW50dXJsIjoiMkdFNUtNb2lURUdaUmVqellRaW51OWpZUnJvMXJ5d1NKMzlaVmlkdjYzND0iLCJlbmRwb2ludHVybExlbmd0aCI6IjE2NiIsImlzbG9vcGJhY2siOiJUcnVlIiwiY2lkIjoiTURrMFlUVmpPV1l0TmpCa055MHlNREF3TFRRNFl6TXRNV1ZtT1RabE16UmhZMkUyIiwidmVyIjoiaGFzaGVkcHJvb2Z0b2tlbiIsInNpdGVpZCI6Ik1HUXpaV0UwWkdVdE9UYzFNQzAwT0RKakxXRXhNekV0TXpsbU5EQTJNR1ZtWXpJMiIsImFwcF9kaXNwbGF5bmFtZSI6IlNoYXJlUG9pbnQgT25saW5lIFdlYiBDbGllbnQgRXh0ZW5zaWJpbGl0eSIsImdpdmVuX25hbWUiOiJWaXJhamt1bWFyIiwiZmFtaWx5X25hbWUiOiJQYXRlbCIsInNpZ25pbl9zdGF0ZSI6IltcImttc2lcIl0iLCJhcHBpZCI6IjA4ZTE4ODc2LTYxNzctNDg3ZS1iOGI1LWNmOTUwYzFlNTk4YyIsInRpZCI6Ijc4NzA0OGM0LWNlMGUtNDQ0Ni04MWUwLTJmYTA1MjRlYzcwMiIsInVwbiI6IjExMDExNzU1QHN0dWQuaG9jaHNjaHVsZS1oZWlkZWxiZXJnLmRlIiwicHVpZCI6IjEwMDM3RkZFQUU1QThCMTkiLCJjYWNoZWtleSI6IjBoLmZ8bWVtYmVyc2hpcHwxMDAzN2ZmZWFlNWE4YjE5QGxpdmUuY29tIiwic2NwIjoiYWxsZmlsZXMud3JpdGUgYWxsc2l0ZXMuZnVsbGNvbnRyb2wgYWxsc2l0ZXMud3JpdGUgdGVybXN0b3JlLndyaXRlIiwidHQiOiIyIiwidXNlUGVyc2lzdGVudENvb2tpZSI6IjMifQ.N09tQ0hUU3V6VmhxaTdHbUtLTU5LZnVxZVc2bFhrTnlucytqRDF6U21MZz0&ApiVersion=2.1\n",
            "Resolving srhk-my.sharepoint.com (srhk-my.sharepoint.com)... 13.107.136.9\n",
            "Connecting to srhk-my.sharepoint.com (srhk-my.sharepoint.com)|13.107.136.9|:443... connected.\n",
            "HTTP request sent, awaiting response... 200 OK\n",
            "Length: 1188835798 (1.1G) [application/octet-stream]\n",
            "Saving to: ‘model.pt’\n",
            "\n",
            "model.pt            100%[===================>]   1.11G  43.6MB/s    in 28s     \n",
            "\n",
            "2020-06-14 11:08:36 (39.9 MB/s) - ‘model.pt’ saved [1188835798/1188835798]\n",
            "\n"
          ],
          "name": "stdout"
        }
      ]
    },
    {
      "cell_type": "code",
      "metadata": {
        "id": "-9GfFUbM0Ugv",
        "colab_type": "code",
        "colab": {}
      },
      "source": [
        "# Navigate to source code\n",
        "%cd \"../../src\"\n",
        "!pwd\n"
      ],
      "execution_count": null,
      "outputs": []
    },
    {
      "cell_type": "code",
      "metadata": {
        "id": "kU-JrL4s09KZ",
        "colab_type": "code",
        "colab": {
          "base_uri": "https://localhost:8080/",
          "height": 68
        },
        "outputId": "4611aa79-53f1-4b12-f834-b95b0a763f78"
      },
      "source": [
        "# Import submodules\n",
        "!git submodule update --init"
      ],
      "execution_count": null,
      "outputs": [
        {
          "output_type": "stream",
          "text": [
            "Submodule 'multiModalDense/src/submodules/pycocoevalcap' (https://github.com/salaniz/pycocoevalcap.git) registered for path 'submodules/pycocoevalcap'\n",
            "Cloning into '/content/Video-Keyword-Extractor/multiModalDense/src/submodules/pycocoevalcap'...\n",
            "Submodule path 'submodules/pycocoevalcap': checked out '38c2534418237ba83809b925be2a8abbecdf2fa1'\n"
          ],
          "name": "stdout"
        }
      ]
    },
    {
      "cell_type": "code",
      "metadata": {
        "id": "x4Rx2-wZDCv4",
        "colab_type": "code",
        "colab": {}
      },
      "source": [
        "from main import main\n",
        "main()"
      ],
      "execution_count": null,
      "outputs": []
    },
    {
      "cell_type": "code",
      "metadata": {
        "id": "KYf9nYKtPyqZ",
        "colab_type": "code",
        "colab": {
          "base_uri": "https://localhost:8080/",
          "height": 51
        },
        "outputId": "7ca8dfbc-4303-4a52-ede5-481305dcda47"
      },
      "source": [
        "!pwd\n",
        "%cd \"Video-Keyword-Extractor/multiModalDense/src/\""
      ],
      "execution_count": null,
      "outputs": [
        {
          "output_type": "stream",
          "text": [
            "/content\n",
            "/content/Video-Keyword-Extractor/multiModalDense/src\n"
          ],
          "name": "stdout"
        }
      ]
    },
    {
      "cell_type": "code",
      "metadata": {
        "id": "HVs9sCtKMQS4",
        "colab_type": "code",
        "colab": {}
      },
      "source": [
        "# Connect google drive for file transfer\n",
        "from pydrive.auth import GoogleAuth\n",
        "from pydrive.drive import GoogleDrive\n",
        "from google.colab import auth\n",
        "from oauth2client.client import GoogleCredentials\n",
        "\n",
        "auth.authenticate_user()\n",
        "gauth = GoogleAuth()\n",
        "gauth.credentials = GoogleCredentials.get_application_default()\n",
        "drive = GoogleDrive(gauth)"
      ],
      "execution_count": null,
      "outputs": []
    },
    {
      "cell_type": "code",
      "metadata": {
        "id": "3PaSyFhzMT1W",
        "colab_type": "code",
        "colab": {}
      },
      "source": [
        "!mv \"/content/Video-Keyword-Extractor/multiModalDense/src/log/firstrun/model_4.pt\" \"/content/drive/My Drive/Master Thesis/Implementation/MultiModal\""
      ],
      "execution_count": null,
      "outputs": []
    }
  ]
}